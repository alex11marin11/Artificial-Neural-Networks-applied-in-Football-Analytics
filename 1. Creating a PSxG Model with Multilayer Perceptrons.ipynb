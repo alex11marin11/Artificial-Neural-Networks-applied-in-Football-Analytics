{
 "cells": [
  {
   "cell_type": "code",
   "execution_count": 3,
   "metadata": {
    "jupyter": {
     "outputs_hidden": false
    },
    "pycharm": {
     "name": "#%%\n"
    }
   },
   "outputs": [],
   "source": [
    "import pandas as pd\n",
    "import numpy as np\n",
    "import itertools\n",
    "import math\n",
    "import os\n",
    "\n",
    "from sklearn.model_selection import ShuffleSplit, StratifiedShuffleSplit\n",
    "from sklearn.preprocessing import StandardScaler\n",
    "\n",
    "import matplotlib.pyplot as plt\n",
    "\n",
    "try:\n",
    "    import tensorflow as tf\n",
    "    from tensorflow.keras.models import Sequential, Model\n",
    "    from tensorflow.keras.layers import Flatten, Dense, Conv2D, MaxPooling2D\n",
    "    from tensorflow.keras.optimizers import SGD\n",
    "except:\n",
    "    os.system('python3 -m pip install tensorflow==2.7')\n",
    "    import tensorflow as tf\n",
    "    from tensorflow.keras.models import Sequential, Model\n",
    "    from tensorflow.keras.layers import Flatten, Dense, Conv2D, MaxPooling2D\n",
    "    from tensorflow.keras.optimizers import SGD"
   ]
  },
  {
   "cell_type": "markdown",
   "metadata": {},
   "source": [
    "# Artificial Neural Networks applied in Football Analytics I"
   ]
  },
  {
   "cell_type": "markdown",
   "metadata": {},
   "source": [
    "During my project, I built different kinds of Artificial Neural Network (ANN) models in order to solve some problems and see new applications of data in sports analytics. To do so, I used TensorFlow, an open-source library for machine learning that is very optimised for this kind of models. I chose this library as it is one of the most popular ones.\n",
    "\n",
    "As I started working with TensorFlow, I encountered a few backward-compatibility issues due to newer versions of the library not being able to run code written for older versions. Therefore, I made sure to use the same version of TensorFlow as the one used to prepare this project: 2.7 (latest stable version at the moment of writing this).\n",
    "\n",
    "During the project, I built 3 different kinds of ANN, each to solve a different problem using a different dataset. I started by designing and training a Multilayer Perceptron (MLP) (or feedforward ANN) to compute a metric called Post-Shot Expected Goals (PSxG), which is the part discussed in this Notebook. Later on, I constructed a Convolutional Neural Network (CNN) to be used as an action selection model through spatial data. Finally, I designed an Autoencoder to reduce the dimensionality of a dataset consisting of aggregated player stats in order to apply clustering algorithms and find different groups of players.\n",
    "\n",
    "It is worth noting that ANNs allow for lots of hyper-parameters to be tuned, as well as the many possible structures we can use. Finding the most appropriate design is sometimes regarded more as an art rather than a science, given that trying all possible combinations may be too power and time consuming. Due to the time limitation of my project, I only tried to find performance improvements by applying some tweaks on the model for the first exercise. For the rest, I focused on how can the different network structures be helpful given their nature. I didn't use methods such as cross-validation for model selection due to time limitations, but I am aware that these procedures should be used when dealing with real-world problems."
   ]
  },
  {
   "cell_type": "markdown",
   "metadata": {},
   "source": [
    "## 1. Multilayer Perceptron to create a PSxG model"
   ]
  },
  {
   "cell_type": "markdown",
   "metadata": {},
   "source": [
    "As mentioned before, I started building a relatively simple neural network to model a metric called PSxG during my project. Similarly to xG, this one also predicts how likely a shot is to become a goal. However, it does so only for shots on target, and it takes into account post-shot information such as the location on the target where the ball is directed to or the speed of the shot. That is why this metric can be used to assess goalkeeping performance.\n",
    "\n",
    "To train the model, I used a dataset that contained information on shots produced during different seasons. As a first step, I performed feature extraction to produce variables capable of expressing the information contained in the dataset in a way that is easier to understand for the model."
   ]
  },
  {
   "cell_type": "code",
   "execution_count": 3,
   "metadata": {
    "jupyter": {
     "outputs_hidden": false
    },
    "pycharm": {
     "name": "#%%\n"
    }
   },
   "outputs": [
    {
     "data": {
      "text/html": [
       "<div>\n",
       "<style scoped>\n",
       "    .dataframe tbody tr th:only-of-type {\n",
       "        vertical-align: middle;\n",
       "    }\n",
       "\n",
       "    .dataframe tbody tr th {\n",
       "        vertical-align: top;\n",
       "    }\n",
       "\n",
       "    .dataframe thead th {\n",
       "        text-align: right;\n",
       "    }\n",
       "</style>\n",
       "<table border=\"1\" class=\"dataframe\">\n",
       "  <thead>\n",
       "    <tr style=\"text-align: right;\">\n",
       "      <th></th>\n",
       "      <th>origin_pos_x</th>\n",
       "      <th>origin_pos_y</th>\n",
       "      <th>destination_pos_x</th>\n",
       "      <th>destination_pos_y</th>\n",
       "      <th>destination_pos_z</th>\n",
       "      <th>gk_pos_x</th>\n",
       "      <th>gk_pos_y</th>\n",
       "      <th>duration</th>\n",
       "      <th>is_goal</th>\n",
       "    </tr>\n",
       "  </thead>\n",
       "  <tbody>\n",
       "    <tr>\n",
       "      <th>0</th>\n",
       "      <td>0.890833</td>\n",
       "      <td>0.40125</td>\n",
       "      <td>1.0000</td>\n",
       "      <td>0.49875</td>\n",
       "      <td>0.45720</td>\n",
       "      <td>0.965000</td>\n",
       "      <td>0.47375</td>\n",
       "      <td>0.637257</td>\n",
       "      <td>1</td>\n",
       "    </tr>\n",
       "    <tr>\n",
       "      <th>1</th>\n",
       "      <td>0.815833</td>\n",
       "      <td>0.32375</td>\n",
       "      <td>0.9650</td>\n",
       "      <td>0.49250</td>\n",
       "      <td>0.54864</td>\n",
       "      <td>0.969167</td>\n",
       "      <td>0.47875</td>\n",
       "      <td>0.983675</td>\n",
       "      <td>0</td>\n",
       "    </tr>\n",
       "    <tr>\n",
       "      <th>2</th>\n",
       "      <td>0.673333</td>\n",
       "      <td>0.53500</td>\n",
       "      <td>0.9875</td>\n",
       "      <td>0.51250</td>\n",
       "      <td>1.18872</td>\n",
       "      <td>0.988333</td>\n",
       "      <td>0.49750</td>\n",
       "      <td>1.384115</td>\n",
       "      <td>0</td>\n",
       "    </tr>\n",
       "    <tr>\n",
       "      <th>3</th>\n",
       "      <td>0.913333</td>\n",
       "      <td>0.65500</td>\n",
       "      <td>1.0000</td>\n",
       "      <td>0.47625</td>\n",
       "      <td>0.36576</td>\n",
       "      <td>0.945000</td>\n",
       "      <td>0.60875</td>\n",
       "      <td>0.962551</td>\n",
       "      <td>1</td>\n",
       "    </tr>\n",
       "    <tr>\n",
       "      <th>4</th>\n",
       "      <td>0.916667</td>\n",
       "      <td>0.54000</td>\n",
       "      <td>1.0000</td>\n",
       "      <td>0.46000</td>\n",
       "      <td>0.18288</td>\n",
       "      <td>1.000000</td>\n",
       "      <td>0.51250</td>\n",
       "      <td>0.904610</td>\n",
       "      <td>1</td>\n",
       "    </tr>\n",
       "  </tbody>\n",
       "</table>\n",
       "</div>"
      ],
      "text/plain": [
       "   origin_pos_x  origin_pos_y  destination_pos_x  destination_pos_y  \\\n",
       "0      0.890833       0.40125             1.0000            0.49875   \n",
       "1      0.815833       0.32375             0.9650            0.49250   \n",
       "2      0.673333       0.53500             0.9875            0.51250   \n",
       "3      0.913333       0.65500             1.0000            0.47625   \n",
       "4      0.916667       0.54000             1.0000            0.46000   \n",
       "\n",
       "   destination_pos_z  gk_pos_x  gk_pos_y  duration  is_goal  \n",
       "0            0.45720  0.965000   0.47375  0.637257        1  \n",
       "1            0.54864  0.969167   0.47875  0.983675        0  \n",
       "2            1.18872  0.988333   0.49750  1.384115        0  \n",
       "3            0.36576  0.945000   0.60875  0.962551        1  \n",
       "4            0.18288  1.000000   0.51250  0.904610        1  "
      ]
     },
     "execution_count": 3,
     "metadata": {},
     "output_type": "execute_result"
    }
   ],
   "source": [
    "df_shots = pd.read_csv(\"data/df_shots.csv\")\n",
    "df_shots.head()"
   ]
  },
  {
   "cell_type": "markdown",
   "metadata": {},
   "source": [
    "I started by transforming the y-coordinate positions into mirrored coordinates. This transformation consists of converting the y-coordinate values so that they disregard which half of the pitch they are in, which will be helpful in simplifying the model. This assumption is based on the idea that the model will produce symmetric results regarding the center of the field. After transformation, the new variables' value ranges between 0 and 0.5. For example, this transformation should convert two different y-coordinate values such as 0.4 and 0.6 into the same transformed value since they are both at the same distance from the center of the field, the 0.5 position.\n",
    "\n",
    "I applied this transformation to the following variables: origin_pos_y, destination_pos_y, and gk_pos_y."
   ]
  },
  {
   "cell_type": "code",
   "execution_count": 4,
   "metadata": {},
   "outputs": [],
   "source": [
    "pitch_dim = [105,68]\n",
    "\n",
    "def distance_between_two_points(p1, p2):\n",
    "    return np.linalg.norm(p2 - p1)"
   ]
  },
  {
   "cell_type": "code",
   "execution_count": 5,
   "metadata": {
    "jupyter": {
     "outputs_hidden": false
    },
    "pycharm": {
     "name": "#%%\n"
    }
   },
   "outputs": [],
   "source": [
    "df_shots['origin_y_dist_center'] = df_shots.apply(lambda row: distance_between_two_points(\n",
    "                                        np.array([row.origin_pos_x,row.origin_pos_y])*pitch_dim,\n",
    "                                        np.array([row.origin_pos_x,0.5])*pitch_dim),axis=1)\n",
    "\n",
    "df_shots['destination_y_dist_center'] = df_shots.apply(lambda row: distance_between_two_points(\n",
    "                                        np.array([row.destination_pos_x,row.destination_pos_y])*pitch_dim,\n",
    "                                        np.array([row.destination_pos_x,0.5])*pitch_dim),axis=1)\n",
    "\n",
    "df_shots['gk_y_dist_center'] = df_shots.apply(lambda row: distance_between_two_points(\n",
    "                                        np.array([row.gk_pos_x,row.gk_pos_y])*pitch_dim,\n",
    "                                        np.array([row.gk_pos_x,0.5])*pitch_dim),axis=1)"
   ]
  },
  {
   "cell_type": "markdown",
   "metadata": {},
   "source": [
    "I converted the x-y-coordinates into distances. Before doing so, I first transformed the positions into meters, since the field is 105m long and 68m wide, but both original coordinates were normalized using a range between 0 and 1. The distances that I calculated were the shot distance (origin-destination), the distance between the keeper and the destination (gk-destination), and the distance between the keeper and the shooter (origin-gk)."
   ]
  },
  {
   "cell_type": "code",
   "execution_count": 6,
   "metadata": {
    "jupyter": {
     "outputs_hidden": false
    },
    "pycharm": {
     "name": "#%%\n"
    }
   },
   "outputs": [],
   "source": [
    "df_shots['shot_distance'] = df_shots.apply(lambda row: distance_between_two_points(\n",
    "                                        np.array([row.origin_pos_x,row.origin_pos_y])*pitch_dim,\n",
    "                                        np.array([row.destination_pos_x,row.destination_pos_y])*pitch_dim),axis=1)\n",
    "\n",
    "df_shots['gk_distance_destination'] = df_shots.apply(lambda row: distance_between_two_points(\n",
    "                                        np.array([row.gk_pos_x,row.gk_pos_y])*pitch_dim,\n",
    "                                        np.array([row.destination_pos_x,row.destination_pos_y])*pitch_dim),axis=1)\n",
    "\n",
    "df_shots['gk_distance_shooter'] = df_shots.apply(lambda row: distance_between_two_points(\n",
    "                                        np.array([row.origin_pos_x,row.origin_pos_y])*pitch_dim,\n",
    "                                        np.array([row.gk_pos_x,row.gk_pos_y])*pitch_dim),axis=1)"
   ]
  },
  {
   "cell_type": "markdown",
   "metadata": {
    "pycharm": {
     "name": "#%% md\n"
    }
   },
   "source": [
    "I computed 2 different angle variables. Firstly, I calculated the angle between the shot position and the destination of the shot. Secondly, I calculated the angle between the shot position and the goalkeeper. Note that the angle between 2 points can be computed as follows:\n",
    "```python\n",
    "abs(np.arctan2(distance_in_y, distance_in_x))\n",
    "```\n",
    "In this formula, the distances refer to the distance between the 1st and 2nd point for each dimension. To compute an accurate angle, both distances should be expressed in meters."
   ]
  },
  {
   "cell_type": "code",
   "execution_count": 7,
   "metadata": {
    "pycharm": {
     "name": "#%%\n"
    }
   },
   "outputs": [],
   "source": [
    "def angle_two_points(origin, destination):\n",
    "\n",
    "    distance_in_y = destination[1]-origin[1]\n",
    "    distance_in_x = destination[0]-origin[0]\n",
    "    \n",
    "    return abs(np.arctan2(distance_in_y, distance_in_x))\n",
    "\n",
    "df_shots['angle_origin_destination'] = df_shots.apply(lambda row: angle_two_points(\n",
    "                                            np.array([row.origin_pos_x,row.origin_pos_y])*pitch_dim,\n",
    "                                            np.array([row.destination_pos_x,row.destination_pos_y])*pitch_dim),axis=1)\n",
    "df_shots['angle_origin_gk'] = df_shots.apply(lambda row: angle_two_points(\n",
    "                                            np.array([row.origin_pos_x,row.origin_pos_y])*pitch_dim,\n",
    "                                            np.array([row.gk_pos_x,row.gk_pos_y])*pitch_dim),axis=1)"
   ]
  },
  {
   "cell_type": "markdown",
   "metadata": {},
   "source": [
    "As we will see later on, I needed a second response variable since I was trying to solve a classification problem (goal or not goal). To do this, I used one-hot encoding to convert the is_goal variable. Therefore, I ended up having 2 different variables: is_goal and is_not_goal. For goals, is_goal was set to 1 and is_not_goal to 0, and vice versa for not goals. To create the is_not_goal variable, I simply subtracted the is_goal variable from 1."
   ]
  },
  {
   "cell_type": "code",
   "execution_count": 9,
   "metadata": {
    "jupyter": {
     "outputs_hidden": false
    },
    "pycharm": {
     "name": "#%%\n"
    }
   },
   "outputs": [],
   "source": [
    "df_shots['is_not_goal'] = abs(df_shots['is_goal']-1)"
   ]
  },
  {
   "cell_type": "markdown",
   "metadata": {},
   "source": [
    "I split the dataframe columns into two new dataframes: X and y. X includes the newly created variables (except for is_not_goal), as well as destination_pos_z and duration. On the other hand, y includes the response variables is_goal and is_not_goal. This split allows for easier handling and manipulation of the data during the modelling stage."
   ]
  },
  {
   "cell_type": "code",
   "execution_count": 10,
   "metadata": {
    "jupyter": {
     "outputs_hidden": false
    },
    "pycharm": {
     "name": "#%%\n"
    }
   },
   "outputs": [],
   "source": [
    "explanatory_vars = ['gk_y_dist_center','origin_y_dist_center','destination_y_dist_center',\n",
    "                    'destination_pos_z','duration','shot_distance','gk_distance_destination','gk_distance_shooter',\n",
    "                    'angle_origin_destination','angle_origin_gk']\n",
    "response_vars = ['is_goal','is_not_goal']\n",
    "\n",
    "X = df_shots[explanatory_vars]\n",
    "y = df_shots[response_vars]"
   ]
  },
  {
   "cell_type": "markdown",
   "metadata": {},
   "source": [
    "I will now split the dataset into train and test, in order to have a set of data different from the one we used to fit the model to obtain performance results on unseen data. Note that, once again, the response variables are unbalanced. Therefore, I will need to use a stratified split."
   ]
  },
  {
   "cell_type": "code",
   "execution_count": 11,
   "metadata": {
    "jupyter": {
     "outputs_hidden": false
    },
    "pycharm": {
     "name": "#%%\n"
    }
   },
   "outputs": [],
   "source": [
    "indexes = list(StratifiedShuffleSplit(n_splits=1, test_size=0.33, random_state=1234).split(X, y))[0]\n",
    "train_index, test_index = indexes\n",
    "X_train, X_test, y_train, y_test = X.loc[train_index], X.loc[test_index], y.loc[train_index], y.loc[test_index]"
   ]
  },
  {
   "cell_type": "code",
   "execution_count": 12,
   "metadata": {
    "jupyter": {
     "outputs_hidden": false
    },
    "pycharm": {
     "name": "#%%\n"
    }
   },
   "outputs": [
    {
     "data": {
      "text/plain": [
       "(is_goal        0.322249\n",
       " is_not_goal    0.677751\n",
       " dtype: float64,\n",
       " is_goal        0.322272\n",
       " is_not_goal    0.677728\n",
       " dtype: float64)"
      ]
     },
     "execution_count": 12,
     "metadata": {},
     "output_type": "execute_result"
    }
   ],
   "source": [
    "y_train.mean(), y_test.mean()"
   ]
  },
  {
   "cell_type": "markdown",
   "metadata": {},
   "source": [
    "The next cell presents a group of methods that I will use to train and evaluate the NN models I create. This will be helpful to allow changing model parameters and configurations in a simplified manner. The methods are pretty straight-forward."
   ]
  },
  {
   "cell_type": "code",
   "execution_count": 5,
   "metadata": {
    "jupyter": {
     "outputs_hidden": false
    },
    "pycharm": {
     "name": "#%%\n"
    }
   },
   "outputs": [],
   "source": [
    "def train_and_evaluate_model(m, _data, loss=\"mean_squared_error\", metrics=[\"accuracy\", \"mean_squared_error\"], learning_rate=0.1, momentum=0.0, epochs=50, batch_size=64, verbose=1):\n",
    "    evaluate_model(train_model(m, _data, loss, metrics, learning_rate, momentum, epochs, batch_size, verbose), _data, metrics)\n",
    "\n",
    "def train_model(m, _data, loss=\"mean_squared_error\", metrics=[\"accuracy\", \"mean_squared_error\"], learning_rate=0.1, momentum=0.0, epochs=50, batch_size=64, verbose=1):\n",
    "    tf.random.set_seed(1234)\n",
    "    m.compile(optimizer=SGD(learning_rate=learning_rate, momentum=momentum), loss=loss, metrics=metrics)\n",
    "    m.fit(_data[\"X_train\"], _data[\"y_train\"], epochs=epochs , batch_size=batch_size, validation_split=0.2, verbose=verbose)\n",
    "    return m\n",
    "\n",
    "def evaluate_model(m, _data, metrics):\n",
    "    r = m.evaluate(_data[\"X_test\"], _data[\"y_test\"], verbose=0)\n",
    "    print(\"\\n\" + \" | \".join(\"{0}: {1}\".format(metric, value) for metric, value in zip(metrics, r[1:])))"
   ]
  },
  {
   "cell_type": "markdown",
   "metadata": {},
   "source": [
    "You will have noticed that apart from the model m, the methods require a dictionary containing the different partitions. Therefore, I will generate this dictionary containing the partitions I have previously generated. I it important to scale the X_* partitions."
   ]
  },
  {
   "cell_type": "code",
   "execution_count": 14,
   "metadata": {
    "jupyter": {
     "outputs_hidden": false
    },
    "pycharm": {
     "name": "#%%\n"
    }
   },
   "outputs": [],
   "source": [
    "from sklearn.preprocessing import StandardScaler\n",
    "scaler = StandardScaler()\n",
    "X_train_scaled = scaler.fit_transform(np.array(X_train))\n",
    "X_test_scaled = scaler.fit_transform(np.array(X_test))\n",
    "\n",
    "data = {}\n",
    "data['X_train'] = X_train_scaled\n",
    "data['X_test'] = X_test_scaled\n",
    "data['y_train'] = y_train\n",
    "data['y_test'] = y_test"
   ]
  },
  {
   "cell_type": "markdown",
   "metadata": {},
   "source": [
    "It is now time to start producing models. And I will begin with the simplest one possible. I will use the default parameters and will construct a neural network without hidden layers. So the only layers contained will be the input layer (with the same dimensions as the input -> 10) and the output layer (with the same dimensions as the output -> 2). The following diagram illustrates the structure mentioned."
   ]
  },
  {
   "cell_type": "code",
   "execution_count": 15,
   "metadata": {
    "jupyter": {
     "outputs_hidden": false
    },
    "pycharm": {
     "name": "#%%\n"
    }
   },
   "outputs": [
    {
     "data": {
      "image/svg+xml": [
       "<svg xmlns=\"http://www.w3.org/2000/svg\" style=\"cursor: move;\" width=\"1872\" height=\"939\"><g transform=\"translate(-453.4407967506179,-189.33900437484783) scale(1.3717332885905962)\"><path class=\"link\" style=\"stroke-width: 0.5px; stroke-opacity: 1; stroke: rgb(80, 80, 80);\" marker-end=\"\" d=\"M829.3333333333334,279.5, 1009.3333333333334,439.5\"/><path class=\"link\" style=\"stroke-width: 0.5px; stroke-opacity: 1; stroke: rgb(80, 80, 80);\" marker-end=\"\" d=\"M829.3333333333334,319.5, 1009.3333333333334,439.5\"/><path class=\"link\" style=\"stroke-width: 0.5px; stroke-opacity: 1; stroke: rgb(80, 80, 80);\" marker-end=\"\" d=\"M829.3333333333334,359.5, 1009.3333333333334,439.5\"/><path class=\"link\" style=\"stroke-width: 0.5px; stroke-opacity: 1; stroke: rgb(80, 80, 80);\" marker-end=\"\" d=\"M829.3333333333334,399.5, 1009.3333333333334,439.5\"/><path class=\"link\" style=\"stroke-width: 0.5px; stroke-opacity: 1; stroke: rgb(80, 80, 80);\" marker-end=\"\" d=\"M829.3333333333334,439.5, 1009.3333333333334,439.5\"/><path class=\"link\" style=\"stroke-width: 0.5px; stroke-opacity: 1; stroke: rgb(80, 80, 80);\" marker-end=\"\" d=\"M829.3333333333334,479.5, 1009.3333333333334,439.5\"/><path class=\"link\" style=\"stroke-width: 0.5px; stroke-opacity: 1; stroke: rgb(80, 80, 80);\" marker-end=\"\" d=\"M829.3333333333334,519.5, 1009.3333333333334,439.5\"/><path class=\"link\" style=\"stroke-width: 0.5px; stroke-opacity: 1; stroke: rgb(80, 80, 80);\" marker-end=\"\" d=\"M829.3333333333334,559.5, 1009.3333333333334,439.5\"/><path class=\"link\" style=\"stroke-width: 0.5px; stroke-opacity: 1; stroke: rgb(80, 80, 80);\" marker-end=\"\" d=\"M829.3333333333334,599.5, 1009.3333333333334,439.5\"/><path class=\"link\" style=\"stroke-width: 0.5px; stroke-opacity: 1; stroke: rgb(80, 80, 80);\" marker-end=\"\" d=\"M829.3333333333334,639.5, 1009.3333333333334,439.5\"/><path class=\"link\" style=\"stroke-width: 0.5px; stroke-opacity: 1; stroke: rgb(80, 80, 80);\" marker-end=\"\" d=\"M829.3333333333334,279.5, 1009.3333333333334,479.5\"/><path class=\"link\" style=\"stroke-width: 0.5px; stroke-opacity: 1; stroke: rgb(80, 80, 80);\" marker-end=\"\" d=\"M829.3333333333334,319.5, 1009.3333333333334,479.5\"/><path class=\"link\" style=\"stroke-width: 0.5px; stroke-opacity: 1; stroke: rgb(80, 80, 80);\" marker-end=\"\" d=\"M829.3333333333334,359.5, 1009.3333333333334,479.5\"/><path class=\"link\" style=\"stroke-width: 0.5px; stroke-opacity: 1; stroke: rgb(80, 80, 80);\" marker-end=\"\" d=\"M829.3333333333334,399.5, 1009.3333333333334,479.5\"/><path class=\"link\" style=\"stroke-width: 0.5px; stroke-opacity: 1; stroke: rgb(80, 80, 80);\" marker-end=\"\" d=\"M829.3333333333334,439.5, 1009.3333333333334,479.5\"/><path class=\"link\" style=\"stroke-width: 0.5px; stroke-opacity: 1; stroke: rgb(80, 80, 80);\" marker-end=\"\" d=\"M829.3333333333334,479.5, 1009.3333333333334,479.5\"/><path class=\"link\" style=\"stroke-width: 0.5px; stroke-opacity: 1; stroke: rgb(80, 80, 80);\" marker-end=\"\" d=\"M829.3333333333334,519.5, 1009.3333333333334,479.5\"/><path class=\"link\" style=\"stroke-width: 0.5px; stroke-opacity: 1; stroke: rgb(80, 80, 80);\" marker-end=\"\" d=\"M829.3333333333334,559.5, 1009.3333333333334,479.5\"/><path class=\"link\" style=\"stroke-width: 0.5px; stroke-opacity: 1; stroke: rgb(80, 80, 80);\" marker-end=\"\" d=\"M829.3333333333334,599.5, 1009.3333333333334,479.5\"/><path class=\"link\" style=\"stroke-width: 0.5px; stroke-opacity: 1; stroke: rgb(80, 80, 80);\" marker-end=\"\" d=\"M829.3333333333334,639.5, 1009.3333333333334,479.5\"/><circle r=\"10\" class=\"node\" id=\"0_0\" style=\"fill: rgb(255, 255, 255); stroke: rgb(51, 51, 51);\" cx=\"829.3333333333334\" cy=\"279.5\"/><circle r=\"10\" class=\"node\" id=\"0_1\" style=\"fill: rgb(255, 255, 255); stroke: rgb(51, 51, 51);\" cx=\"829.3333333333334\" cy=\"319.5\"/><circle r=\"10\" class=\"node\" id=\"0_2\" style=\"fill: rgb(255, 255, 255); stroke: rgb(51, 51, 51);\" cx=\"829.3333333333334\" cy=\"359.5\"/><circle r=\"10\" class=\"node\" id=\"0_3\" style=\"fill: rgb(255, 255, 255); stroke: rgb(51, 51, 51);\" cx=\"829.3333333333334\" cy=\"399.5\"/><circle r=\"10\" class=\"node\" id=\"0_4\" style=\"fill: rgb(255, 255, 255); stroke: rgb(51, 51, 51);\" cx=\"829.3333333333334\" cy=\"439.5\"/><circle r=\"10\" class=\"node\" id=\"0_5\" style=\"fill: rgb(255, 255, 255); stroke: rgb(51, 51, 51);\" cx=\"829.3333333333334\" cy=\"479.5\"/><circle r=\"10\" class=\"node\" id=\"0_6\" style=\"fill: rgb(255, 255, 255); stroke: rgb(51, 51, 51);\" cx=\"829.3333333333334\" cy=\"519.5\"/><circle r=\"10\" class=\"node\" id=\"0_7\" style=\"fill: rgb(255, 255, 255); stroke: rgb(51, 51, 51);\" cx=\"829.3333333333334\" cy=\"559.5\"/><circle r=\"10\" class=\"node\" id=\"0_8\" style=\"fill: rgb(255, 255, 255); stroke: rgb(51, 51, 51);\" cx=\"829.3333333333334\" cy=\"599.5\"/><circle r=\"10\" class=\"node\" id=\"0_9\" style=\"fill: rgb(255, 255, 255); stroke: rgb(51, 51, 51);\" cx=\"829.3333333333334\" cy=\"639.5\"/><circle r=\"10\" class=\"node\" id=\"1_0\" style=\"fill: rgb(255, 255, 255); stroke: rgb(51, 51, 51);\" cx=\"1009.3333333333334\" cy=\"439.5\"/><text class=\"text\" dy=\".35em\" style=\"font-size: 12px;\" x=\"794.3333333333334\" y=\"679.5\">Input Layer ∈ ℝ¹⁰</text><text class=\"text\" dy=\".35em\" style=\"font-size: 12px;\" x=\"974.3333333333334\" y=\"679.5\">Output Layer ∈ ℝ²</text><circle r=\"10\" class=\"node\" id=\"1_1\" style=\"fill: rgb(255, 255, 255); stroke: rgb(51, 51, 51);\" cx=\"1009.3333333333334\" cy=\"479.5\"/></g><defs><marker id=\"arrow\" viewBox=\"0 -5 10 10\" markerWidth=\"7\" markerHeight=\"7\" orient=\"auto\" refX=\"40\"><path d=\"M0,-5L10,0L0,5\" style=\"stroke: rgb(80, 80, 80); fill: none;\"/></marker></defs></svg>"
      ],
      "text/plain": [
       "<IPython.core.display.SVG object>"
      ]
     },
     "execution_count": 15,
     "metadata": {},
     "output_type": "execute_result"
    }
   ],
   "source": [
    "from IPython.core.display import SVG\n",
    "SVG(filename='assets/nn-0-hidden.svg')"
   ]
  },
  {
   "cell_type": "markdown",
   "metadata": {},
   "source": [
    "The previous structure was modeled using TensorFlow with the code of the following cell. I simply listed the layers in an ordered manner, and for each I specified the shape of its output as well as their activation function. For the MLPs I only used Dense layers, but you will see later on that other types of NNs use other layers. Note that the input layer does not need to be declared, given that its shape is inferred from the input data. The output shape of the output layer must match the number of response variables we are trying to predict. Finally, I used the sigmoid activation function for the output layer since the expected outputs should be in the range between 0 and 1."
   ]
  },
  {
   "cell_type": "code",
   "execution_count": 16,
   "metadata": {
    "jupyter": {
     "outputs_hidden": false
    },
    "pycharm": {
     "name": "#%%\n"
    },
    "scrolled": true
   },
   "outputs": [
    {
     "name": "stdout",
     "output_type": "stream",
     "text": [
      "Epoch 1/50\n",
      "469/469 [==============================] - 2s 3ms/step - loss: 0.1314 - accuracy: 0.8434 - mean_squared_error: 0.1314 - val_loss: 0.0945 - val_accuracy: 0.8912 - val_mean_squared_error: 0.0945\n",
      "Epoch 2/50\n",
      "469/469 [==============================] - 1s 2ms/step - loss: 0.0904 - accuracy: 0.8930 - mean_squared_error: 0.0904 - val_loss: 0.0838 - val_accuracy: 0.8959 - val_mean_squared_error: 0.0838\n",
      "Epoch 3/50\n",
      "469/469 [==============================] - 1s 2ms/step - loss: 0.0834 - accuracy: 0.8968 - mean_squared_error: 0.0834 - val_loss: 0.0794 - val_accuracy: 0.8975 - val_mean_squared_error: 0.0794\n",
      "Epoch 4/50\n",
      "469/469 [==============================] - 2s 4ms/step - loss: 0.0799 - accuracy: 0.8991 - mean_squared_error: 0.0799 - val_loss: 0.0769 - val_accuracy: 0.9005 - val_mean_squared_error: 0.0769\n",
      "Epoch 5/50\n",
      "469/469 [==============================] - 2s 4ms/step - loss: 0.0778 - accuracy: 0.9006 - mean_squared_error: 0.0778 - val_loss: 0.0752 - val_accuracy: 0.9025 - val_mean_squared_error: 0.0752\n",
      "Epoch 6/50\n",
      "469/469 [==============================] - 2s 4ms/step - loss: 0.0764 - accuracy: 0.9019 - mean_squared_error: 0.0764 - val_loss: 0.0740 - val_accuracy: 0.9039 - val_mean_squared_error: 0.0740\n",
      "Epoch 7/50\n",
      "469/469 [==============================] - 2s 4ms/step - loss: 0.0753 - accuracy: 0.9024 - mean_squared_error: 0.0753 - val_loss: 0.0730 - val_accuracy: 0.9043 - val_mean_squared_error: 0.0730\n",
      "Epoch 8/50\n",
      "469/469 [==============================] - 2s 4ms/step - loss: 0.0745 - accuracy: 0.9032 - mean_squared_error: 0.0745 - val_loss: 0.0723 - val_accuracy: 0.9049 - val_mean_squared_error: 0.0723\n",
      "Epoch 9/50\n",
      "469/469 [==============================] - 2s 4ms/step - loss: 0.0738 - accuracy: 0.9035 - mean_squared_error: 0.0738 - val_loss: 0.0717 - val_accuracy: 0.9060 - val_mean_squared_error: 0.0717\n",
      "Epoch 10/50\n",
      "469/469 [==============================] - 2s 3ms/step - loss: 0.0732 - accuracy: 0.9041 - mean_squared_error: 0.0732 - val_loss: 0.0712 - val_accuracy: 0.9065 - val_mean_squared_error: 0.0712\n",
      "Epoch 11/50\n",
      "469/469 [==============================] - 2s 3ms/step - loss: 0.0727 - accuracy: 0.9046 - mean_squared_error: 0.0727 - val_loss: 0.0708 - val_accuracy: 0.9063 - val_mean_squared_error: 0.0708\n",
      "Epoch 12/50\n",
      "469/469 [==============================] - 1s 2ms/step - loss: 0.0723 - accuracy: 0.9051 - mean_squared_error: 0.0723 - val_loss: 0.0703 - val_accuracy: 0.9061 - val_mean_squared_error: 0.0703\n",
      "Epoch 13/50\n",
      "469/469 [==============================] - 1s 2ms/step - loss: 0.0719 - accuracy: 0.9055 - mean_squared_error: 0.0719 - val_loss: 0.0700 - val_accuracy: 0.9068 - val_mean_squared_error: 0.0700\n",
      "Epoch 14/50\n",
      "469/469 [==============================] - 1s 3ms/step - loss: 0.0716 - accuracy: 0.9055 - mean_squared_error: 0.0716 - val_loss: 0.0697 - val_accuracy: 0.9063 - val_mean_squared_error: 0.0697\n",
      "Epoch 15/50\n",
      "469/469 [==============================] - 1s 2ms/step - loss: 0.0713 - accuracy: 0.9062 - mean_squared_error: 0.0713 - val_loss: 0.0694 - val_accuracy: 0.9069 - val_mean_squared_error: 0.0694\n",
      "Epoch 16/50\n",
      "469/469 [==============================] - 1s 2ms/step - loss: 0.0710 - accuracy: 0.9065 - mean_squared_error: 0.0710 - val_loss: 0.0692 - val_accuracy: 0.9069 - val_mean_squared_error: 0.0692\n",
      "Epoch 17/50\n",
      "469/469 [==============================] - 2s 3ms/step - loss: 0.0707 - accuracy: 0.9070 - mean_squared_error: 0.0707 - val_loss: 0.0689 - val_accuracy: 0.9083 - val_mean_squared_error: 0.0689\n",
      "Epoch 18/50\n",
      "469/469 [==============================] - 2s 4ms/step - loss: 0.0705 - accuracy: 0.9072 - mean_squared_error: 0.0705 - val_loss: 0.0687 - val_accuracy: 0.9093 - val_mean_squared_error: 0.0687\n",
      "Epoch 19/50\n",
      "469/469 [==============================] - 2s 4ms/step - loss: 0.0703 - accuracy: 0.9076 - mean_squared_error: 0.0703 - val_loss: 0.0685 - val_accuracy: 0.9097 - val_mean_squared_error: 0.0685\n",
      "Epoch 20/50\n",
      "469/469 [==============================] - 2s 4ms/step - loss: 0.0701 - accuracy: 0.9077 - mean_squared_error: 0.0701 - val_loss: 0.0683 - val_accuracy: 0.9096 - val_mean_squared_error: 0.0683\n",
      "Epoch 21/50\n",
      "469/469 [==============================] - 2s 4ms/step - loss: 0.0699 - accuracy: 0.9078 - mean_squared_error: 0.0699 - val_loss: 0.0681 - val_accuracy: 0.9096 - val_mean_squared_error: 0.0681\n",
      "Epoch 22/50\n",
      "469/469 [==============================] - 2s 4ms/step - loss: 0.0697 - accuracy: 0.9083 - mean_squared_error: 0.0697 - val_loss: 0.0680 - val_accuracy: 0.9092 - val_mean_squared_error: 0.0680\n",
      "Epoch 23/50\n",
      "469/469 [==============================] - 2s 4ms/step - loss: 0.0695 - accuracy: 0.9083 - mean_squared_error: 0.0695 - val_loss: 0.0678 - val_accuracy: 0.9100 - val_mean_squared_error: 0.0678\n",
      "Epoch 24/50\n",
      "469/469 [==============================] - 1s 2ms/step - loss: 0.0693 - accuracy: 0.9086 - mean_squared_error: 0.0693 - val_loss: 0.0676 - val_accuracy: 0.9104 - val_mean_squared_error: 0.0676\n",
      "Epoch 25/50\n",
      "469/469 [==============================] - 1s 2ms/step - loss: 0.0691 - accuracy: 0.9091 - mean_squared_error: 0.0691 - val_loss: 0.0675 - val_accuracy: 0.9103 - val_mean_squared_error: 0.0675\n",
      "Epoch 26/50\n",
      "469/469 [==============================] - 1s 2ms/step - loss: 0.0690 - accuracy: 0.9091 - mean_squared_error: 0.0690 - val_loss: 0.0673 - val_accuracy: 0.9111 - val_mean_squared_error: 0.0673\n",
      "Epoch 27/50\n",
      "469/469 [==============================] - 1s 2ms/step - loss: 0.0688 - accuracy: 0.9097 - mean_squared_error: 0.0688 - val_loss: 0.0672 - val_accuracy: 0.9112 - val_mean_squared_error: 0.0672\n",
      "Epoch 28/50\n",
      "469/469 [==============================] - 1s 2ms/step - loss: 0.0687 - accuracy: 0.9095 - mean_squared_error: 0.0687 - val_loss: 0.0670 - val_accuracy: 0.9115 - val_mean_squared_error: 0.0670\n",
      "Epoch 29/50\n",
      "469/469 [==============================] - 1s 2ms/step - loss: 0.0685 - accuracy: 0.9098 - mean_squared_error: 0.0685 - val_loss: 0.0669 - val_accuracy: 0.9120 - val_mean_squared_error: 0.0669\n",
      "Epoch 30/50\n",
      "469/469 [==============================] - 1s 2ms/step - loss: 0.0684 - accuracy: 0.9103 - mean_squared_error: 0.0684 - val_loss: 0.0667 - val_accuracy: 0.9119 - val_mean_squared_error: 0.0667\n",
      "Epoch 31/50\n",
      "469/469 [==============================] - 1s 3ms/step - loss: 0.0683 - accuracy: 0.9099 - mean_squared_error: 0.0683 - val_loss: 0.0666 - val_accuracy: 0.9115 - val_mean_squared_error: 0.0666\n",
      "Epoch 32/50\n",
      "469/469 [==============================] - 2s 4ms/step - loss: 0.0681 - accuracy: 0.9104 - mean_squared_error: 0.0681 - val_loss: 0.0665 - val_accuracy: 0.9121 - val_mean_squared_error: 0.0665\n",
      "Epoch 33/50\n",
      "469/469 [==============================] - 2s 4ms/step - loss: 0.0680 - accuracy: 0.9106 - mean_squared_error: 0.0680 - val_loss: 0.0664 - val_accuracy: 0.9120 - val_mean_squared_error: 0.0664\n",
      "Epoch 34/50\n",
      "469/469 [==============================] - 2s 4ms/step - loss: 0.0679 - accuracy: 0.9107 - mean_squared_error: 0.0679 - val_loss: 0.0663 - val_accuracy: 0.9123 - val_mean_squared_error: 0.0663\n",
      "Epoch 35/50\n",
      "469/469 [==============================] - 2s 4ms/step - loss: 0.0677 - accuracy: 0.9110 - mean_squared_error: 0.0677 - val_loss: 0.0661 - val_accuracy: 0.9120 - val_mean_squared_error: 0.0661\n",
      "Epoch 36/50\n",
      "469/469 [==============================] - 1s 2ms/step - loss: 0.0676 - accuracy: 0.9113 - mean_squared_error: 0.0676 - val_loss: 0.0660 - val_accuracy: 0.9121 - val_mean_squared_error: 0.0660\n",
      "Epoch 37/50\n",
      "469/469 [==============================] - 1s 2ms/step - loss: 0.0675 - accuracy: 0.9113 - mean_squared_error: 0.0675 - val_loss: 0.0659 - val_accuracy: 0.9124 - val_mean_squared_error: 0.0659\n",
      "Epoch 38/50\n",
      "469/469 [==============================] - 1s 2ms/step - loss: 0.0674 - accuracy: 0.9113 - mean_squared_error: 0.0674 - val_loss: 0.0658 - val_accuracy: 0.9124 - val_mean_squared_error: 0.0658\n",
      "Epoch 39/50\n",
      "469/469 [==============================] - 1s 2ms/step - loss: 0.0673 - accuracy: 0.9113 - mean_squared_error: 0.0673 - val_loss: 0.0657 - val_accuracy: 0.9125 - val_mean_squared_error: 0.0657\n",
      "Epoch 40/50\n",
      "469/469 [==============================] - 1s 2ms/step - loss: 0.0672 - accuracy: 0.9115 - mean_squared_error: 0.0672 - val_loss: 0.0656 - val_accuracy: 0.9127 - val_mean_squared_error: 0.0656\n",
      "Epoch 41/50\n"
     ]
    },
    {
     "name": "stdout",
     "output_type": "stream",
     "text": [
      "469/469 [==============================] - 1s 2ms/step - loss: 0.0670 - accuracy: 0.9117 - mean_squared_error: 0.0670 - val_loss: 0.0655 - val_accuracy: 0.9128 - val_mean_squared_error: 0.0655\n",
      "Epoch 42/50\n",
      "469/469 [==============================] - 1s 3ms/step - loss: 0.0669 - accuracy: 0.9121 - mean_squared_error: 0.0669 - val_loss: 0.0654 - val_accuracy: 0.9129 - val_mean_squared_error: 0.0654\n",
      "Epoch 43/50\n",
      "469/469 [==============================] - 1s 2ms/step - loss: 0.0668 - accuracy: 0.9122 - mean_squared_error: 0.0668 - val_loss: 0.0653 - val_accuracy: 0.9135 - val_mean_squared_error: 0.0653\n",
      "Epoch 44/50\n",
      "469/469 [==============================] - 1s 2ms/step - loss: 0.0667 - accuracy: 0.9120 - mean_squared_error: 0.0667 - val_loss: 0.0652 - val_accuracy: 0.9139 - val_mean_squared_error: 0.0652\n",
      "Epoch 45/50\n",
      "469/469 [==============================] - 1s 2ms/step - loss: 0.0666 - accuracy: 0.9122 - mean_squared_error: 0.0666 - val_loss: 0.0651 - val_accuracy: 0.9139 - val_mean_squared_error: 0.0651\n",
      "Epoch 46/50\n",
      "469/469 [==============================] - 1s 2ms/step - loss: 0.0665 - accuracy: 0.9124 - mean_squared_error: 0.0665 - val_loss: 0.0650 - val_accuracy: 0.9145 - val_mean_squared_error: 0.0650\n",
      "Epoch 47/50\n",
      "469/469 [==============================] - 1s 2ms/step - loss: 0.0664 - accuracy: 0.9124 - mean_squared_error: 0.0664 - val_loss: 0.0649 - val_accuracy: 0.9151 - val_mean_squared_error: 0.0649\n",
      "Epoch 48/50\n",
      "469/469 [==============================] - 1s 2ms/step - loss: 0.0663 - accuracy: 0.9125 - mean_squared_error: 0.0663 - val_loss: 0.0648 - val_accuracy: 0.9149 - val_mean_squared_error: 0.0648\n",
      "Epoch 49/50\n",
      "469/469 [==============================] - 1s 2ms/step - loss: 0.0662 - accuracy: 0.9128 - mean_squared_error: 0.0662 - val_loss: 0.0647 - val_accuracy: 0.9153 - val_mean_squared_error: 0.0647\n",
      "Epoch 50/50\n",
      "469/469 [==============================] - 1s 2ms/step - loss: 0.0661 - accuracy: 0.9131 - mean_squared_error: 0.0661 - val_loss: 0.0646 - val_accuracy: 0.9153 - val_mean_squared_error: 0.0646\n",
      "\n",
      "accuracy: 0.9127869009971619 | mean_squared_error: 0.06555786728858948\n"
     ]
    }
   ],
   "source": [
    "model = Sequential([\n",
    "    # output layer\n",
    "    Dense(2, activation='sigmoid'),\n",
    "])\n",
    "train_and_evaluate_model(model, data)"
   ]
  },
  {
   "cell_type": "markdown",
   "metadata": {},
   "source": [
    "The training method prints the performance of the model after each epoch, as well as the final performance metrics obtained using the test set. For this exercise, I looked at the accuracy of the model (the higher the better) and its mean squared error (the lower the better) to assess its performance. At this point, it was hard to say whether the model was doing well or not because I had nothing to compare it to, but +90% of accuracy didn't look bad. However, I knew that there was a big margin of improvement.\n",
    "\n",
    "I then added the first hidden layer to the model. The previous model worked similarly to a logistic regression, since the structure didn't allow the model to learn non-linear relations between the predictor variables and the response variables. Adding a hidden layer fixed that. The new structure looked like the following diagram."
   ]
  },
  {
   "cell_type": "code",
   "execution_count": 17,
   "metadata": {
    "jupyter": {
     "outputs_hidden": false
    },
    "pycharm": {
     "name": "#%%\n"
    }
   },
   "outputs": [
    {
     "data": {
      "image/svg+xml": [
       "<svg xmlns=\"http://www.w3.org/2000/svg\" style=\"cursor: move;\" width=\"1872\" height=\"939\"><g transform=\"translate(-453.4407967506179,-189.33900437484783) scale(1.3717332885905962)\"><path class=\"link\" style=\"stroke-width: 0.5px; stroke-opacity: 1; stroke: rgb(80, 80, 80);\" marker-end=\"\" d=\"M776,279.5, 956,279.5\"/><path class=\"link\" style=\"stroke-width: 0.5px; stroke-opacity: 1; stroke: rgb(80, 80, 80);\" marker-end=\"\" d=\"M776,319.5, 956,279.5\"/><path class=\"link\" style=\"stroke-width: 0.5px; stroke-opacity: 1; stroke: rgb(80, 80, 80);\" marker-end=\"\" d=\"M776,359.5, 956,279.5\"/><path class=\"link\" style=\"stroke-width: 0.5px; stroke-opacity: 1; stroke: rgb(80, 80, 80);\" marker-end=\"\" d=\"M776,399.5, 956,279.5\"/><path class=\"link\" style=\"stroke-width: 0.5px; stroke-opacity: 1; stroke: rgb(80, 80, 80);\" marker-end=\"\" d=\"M776,439.5, 956,279.5\"/><path class=\"link\" style=\"stroke-width: 0.5px; stroke-opacity: 1; stroke: rgb(80, 80, 80);\" marker-end=\"\" d=\"M776,479.5, 956,279.5\"/><path class=\"link\" style=\"stroke-width: 0.5px; stroke-opacity: 1; stroke: rgb(80, 80, 80);\" marker-end=\"\" d=\"M776,519.5, 956,279.5\"/><path class=\"link\" style=\"stroke-width: 0.5px; stroke-opacity: 1; stroke: rgb(80, 80, 80);\" marker-end=\"\" d=\"M776,559.5, 956,279.5\"/><path class=\"link\" style=\"stroke-width: 0.5px; stroke-opacity: 1; stroke: rgb(80, 80, 80);\" marker-end=\"\" d=\"M776,599.5, 956,279.5\"/><path class=\"link\" style=\"stroke-width: 0.5px; stroke-opacity: 1; stroke: rgb(80, 80, 80);\" marker-end=\"\" d=\"M776,639.5, 956,279.5\"/><path class=\"link\" style=\"stroke-width: 0.5px; stroke-opacity: 1; stroke: rgb(80, 80, 80);\" marker-end=\"\" d=\"M956,279.5, 1136,439.5\"/><path class=\"link\" style=\"stroke-width: 0.5px; stroke-opacity: 1; stroke: rgb(80, 80, 80);\" marker-end=\"\" d=\"M776,279.5, 956,319.5\"/><path class=\"link\" style=\"stroke-width: 0.5px; stroke-opacity: 1; stroke: rgb(80, 80, 80);\" marker-end=\"\" d=\"M776,319.5, 956,319.5\"/><path class=\"link\" style=\"stroke-width: 0.5px; stroke-opacity: 1; stroke: rgb(80, 80, 80);\" marker-end=\"\" d=\"M776,359.5, 956,319.5\"/><path class=\"link\" style=\"stroke-width: 0.5px; stroke-opacity: 1; stroke: rgb(80, 80, 80);\" marker-end=\"\" d=\"M776,399.5, 956,319.5\"/><path class=\"link\" style=\"stroke-width: 0.5px; stroke-opacity: 1; stroke: rgb(80, 80, 80);\" marker-end=\"\" d=\"M776,439.5, 956,319.5\"/><path class=\"link\" style=\"stroke-width: 0.5px; stroke-opacity: 1; stroke: rgb(80, 80, 80);\" marker-end=\"\" d=\"M776,479.5, 956,319.5\"/><path class=\"link\" style=\"stroke-width: 0.5px; stroke-opacity: 1; stroke: rgb(80, 80, 80);\" marker-end=\"\" d=\"M776,519.5, 956,319.5\"/><path class=\"link\" style=\"stroke-width: 0.5px; stroke-opacity: 1; stroke: rgb(80, 80, 80);\" marker-end=\"\" d=\"M776,559.5, 956,319.5\"/><path class=\"link\" style=\"stroke-width: 0.5px; stroke-opacity: 1; stroke: rgb(80, 80, 80);\" marker-end=\"\" d=\"M776,599.5, 956,319.5\"/><path class=\"link\" style=\"stroke-width: 0.5px; stroke-opacity: 1; stroke: rgb(80, 80, 80);\" marker-end=\"\" d=\"M776,639.5, 956,319.5\"/><path class=\"link\" style=\"stroke-width: 0.5px; stroke-opacity: 1; stroke: rgb(80, 80, 80);\" marker-end=\"\" d=\"M956,319.5, 1136,439.5\"/><path class=\"link\" style=\"stroke-width: 0.5px; stroke-opacity: 1; stroke: rgb(80, 80, 80);\" marker-end=\"\" d=\"M776,279.5, 956,359.5\"/><path class=\"link\" style=\"stroke-width: 0.5px; stroke-opacity: 1; stroke: rgb(80, 80, 80);\" marker-end=\"\" d=\"M776,319.5, 956,359.5\"/><path class=\"link\" style=\"stroke-width: 0.5px; stroke-opacity: 1; stroke: rgb(80, 80, 80);\" marker-end=\"\" d=\"M776,359.5, 956,359.5\"/><path class=\"link\" style=\"stroke-width: 0.5px; stroke-opacity: 1; stroke: rgb(80, 80, 80);\" marker-end=\"\" d=\"M776,399.5, 956,359.5\"/><path class=\"link\" style=\"stroke-width: 0.5px; stroke-opacity: 1; stroke: rgb(80, 80, 80);\" marker-end=\"\" d=\"M776,439.5, 956,359.5\"/><path class=\"link\" style=\"stroke-width: 0.5px; stroke-opacity: 1; stroke: rgb(80, 80, 80);\" marker-end=\"\" d=\"M776,479.5, 956,359.5\"/><path class=\"link\" style=\"stroke-width: 0.5px; stroke-opacity: 1; stroke: rgb(80, 80, 80);\" marker-end=\"\" d=\"M776,519.5, 956,359.5\"/><path class=\"link\" style=\"stroke-width: 0.5px; stroke-opacity: 1; stroke: rgb(80, 80, 80);\" marker-end=\"\" d=\"M776,559.5, 956,359.5\"/><path class=\"link\" style=\"stroke-width: 0.5px; stroke-opacity: 1; stroke: rgb(80, 80, 80);\" marker-end=\"\" d=\"M776,599.5, 956,359.5\"/><path class=\"link\" style=\"stroke-width: 0.5px; stroke-opacity: 1; stroke: rgb(80, 80, 80);\" marker-end=\"\" d=\"M776,639.5, 956,359.5\"/><path class=\"link\" style=\"stroke-width: 0.5px; stroke-opacity: 1; stroke: rgb(80, 80, 80);\" marker-end=\"\" d=\"M956,359.5, 1136,439.5\"/><path class=\"link\" style=\"stroke-width: 0.5px; stroke-opacity: 1; stroke: rgb(80, 80, 80);\" marker-end=\"\" d=\"M776,279.5, 956,399.5\"/><path class=\"link\" style=\"stroke-width: 0.5px; stroke-opacity: 1; stroke: rgb(80, 80, 80);\" marker-end=\"\" d=\"M776,319.5, 956,399.5\"/><path class=\"link\" style=\"stroke-width: 0.5px; stroke-opacity: 1; stroke: rgb(80, 80, 80);\" marker-end=\"\" d=\"M776,359.5, 956,399.5\"/><path class=\"link\" style=\"stroke-width: 0.5px; stroke-opacity: 1; stroke: rgb(80, 80, 80);\" marker-end=\"\" d=\"M776,399.5, 956,399.5\"/><path class=\"link\" style=\"stroke-width: 0.5px; stroke-opacity: 1; stroke: rgb(80, 80, 80);\" marker-end=\"\" d=\"M776,439.5, 956,399.5\"/><path class=\"link\" style=\"stroke-width: 0.5px; stroke-opacity: 1; stroke: rgb(80, 80, 80);\" marker-end=\"\" d=\"M776,479.5, 956,399.5\"/><path class=\"link\" style=\"stroke-width: 0.5px; stroke-opacity: 1; stroke: rgb(80, 80, 80);\" marker-end=\"\" d=\"M776,519.5, 956,399.5\"/><path class=\"link\" style=\"stroke-width: 0.5px; stroke-opacity: 1; stroke: rgb(80, 80, 80);\" marker-end=\"\" d=\"M776,559.5, 956,399.5\"/><path class=\"link\" style=\"stroke-width: 0.5px; stroke-opacity: 1; stroke: rgb(80, 80, 80);\" marker-end=\"\" d=\"M776,599.5, 956,399.5\"/><path class=\"link\" style=\"stroke-width: 0.5px; stroke-opacity: 1; stroke: rgb(80, 80, 80);\" marker-end=\"\" d=\"M776,639.5, 956,399.5\"/><path class=\"link\" style=\"stroke-width: 0.5px; stroke-opacity: 1; stroke: rgb(80, 80, 80);\" marker-end=\"\" d=\"M956,399.5, 1136,439.5\"/><path class=\"link\" style=\"stroke-width: 0.5px; stroke-opacity: 1; stroke: rgb(80, 80, 80);\" marker-end=\"\" d=\"M776,279.5, 956,439.5\"/><path class=\"link\" style=\"stroke-width: 0.5px; stroke-opacity: 1; stroke: rgb(80, 80, 80);\" marker-end=\"\" d=\"M776,319.5, 956,439.5\"/><path class=\"link\" style=\"stroke-width: 0.5px; stroke-opacity: 1; stroke: rgb(80, 80, 80);\" marker-end=\"\" d=\"M776,359.5, 956,439.5\"/><path class=\"link\" style=\"stroke-width: 0.5px; stroke-opacity: 1; stroke: rgb(80, 80, 80);\" marker-end=\"\" d=\"M776,399.5, 956,439.5\"/><path class=\"link\" style=\"stroke-width: 0.5px; stroke-opacity: 1; stroke: rgb(80, 80, 80);\" marker-end=\"\" d=\"M776,439.5, 956,439.5\"/><path class=\"link\" style=\"stroke-width: 0.5px; stroke-opacity: 1; stroke: rgb(80, 80, 80);\" marker-end=\"\" d=\"M776,479.5, 956,439.5\"/><path class=\"link\" style=\"stroke-width: 0.5px; stroke-opacity: 1; stroke: rgb(80, 80, 80);\" marker-end=\"\" d=\"M776,519.5, 956,439.5\"/><path class=\"link\" style=\"stroke-width: 0.5px; stroke-opacity: 1; stroke: rgb(80, 80, 80);\" marker-end=\"\" d=\"M776,559.5, 956,439.5\"/><path class=\"link\" style=\"stroke-width: 0.5px; stroke-opacity: 1; stroke: rgb(80, 80, 80);\" marker-end=\"\" d=\"M776,599.5, 956,439.5\"/><path class=\"link\" style=\"stroke-width: 0.5px; stroke-opacity: 1; stroke: rgb(80, 80, 80);\" marker-end=\"\" d=\"M776,639.5, 956,439.5\"/><path class=\"link\" style=\"stroke-width: 0.5px; stroke-opacity: 1; stroke: rgb(80, 80, 80);\" marker-end=\"\" d=\"M956,439.5, 1136,439.5\"/><path class=\"link\" style=\"stroke-width: 0.5px; stroke-opacity: 1; stroke: rgb(80, 80, 80);\" marker-end=\"\" d=\"M776,279.5, 956,479.5\"/><path class=\"link\" style=\"stroke-width: 0.5px; stroke-opacity: 1; stroke: rgb(80, 80, 80);\" marker-end=\"\" d=\"M776,319.5, 956,479.5\"/><path class=\"link\" style=\"stroke-width: 0.5px; stroke-opacity: 1; stroke: rgb(80, 80, 80);\" marker-end=\"\" d=\"M776,359.5, 956,479.5\"/><path class=\"link\" style=\"stroke-width: 0.5px; stroke-opacity: 1; stroke: rgb(80, 80, 80);\" marker-end=\"\" d=\"M776,399.5, 956,479.5\"/><path class=\"link\" style=\"stroke-width: 0.5px; stroke-opacity: 1; stroke: rgb(80, 80, 80);\" marker-end=\"\" d=\"M776,439.5, 956,479.5\"/><path class=\"link\" style=\"stroke-width: 0.5px; stroke-opacity: 1; stroke: rgb(80, 80, 80);\" marker-end=\"\" d=\"M776,479.5, 956,479.5\"/><path class=\"link\" style=\"stroke-width: 0.5px; stroke-opacity: 1; stroke: rgb(80, 80, 80);\" marker-end=\"\" d=\"M776,519.5, 956,479.5\"/><path class=\"link\" style=\"stroke-width: 0.5px; stroke-opacity: 1; stroke: rgb(80, 80, 80);\" marker-end=\"\" d=\"M776,559.5, 956,479.5\"/><path class=\"link\" style=\"stroke-width: 0.5px; stroke-opacity: 1; stroke: rgb(80, 80, 80);\" marker-end=\"\" d=\"M776,599.5, 956,479.5\"/><path class=\"link\" style=\"stroke-width: 0.5px; stroke-opacity: 1; stroke: rgb(80, 80, 80);\" marker-end=\"\" d=\"M776,639.5, 956,479.5\"/><path class=\"link\" style=\"stroke-width: 0.5px; stroke-opacity: 1; stroke: rgb(80, 80, 80);\" marker-end=\"\" d=\"M956,479.5, 1136,439.5\"/><path class=\"link\" style=\"stroke-width: 0.5px; stroke-opacity: 1; stroke: rgb(80, 80, 80);\" marker-end=\"\" d=\"M776,279.5, 956,519.5\"/><path class=\"link\" style=\"stroke-width: 0.5px; stroke-opacity: 1; stroke: rgb(80, 80, 80);\" marker-end=\"\" d=\"M776,319.5, 956,519.5\"/><path class=\"link\" style=\"stroke-width: 0.5px; stroke-opacity: 1; stroke: rgb(80, 80, 80);\" marker-end=\"\" d=\"M776,359.5, 956,519.5\"/><path class=\"link\" style=\"stroke-width: 0.5px; stroke-opacity: 1; stroke: rgb(80, 80, 80);\" marker-end=\"\" d=\"M776,399.5, 956,519.5\"/><path class=\"link\" style=\"stroke-width: 0.5px; stroke-opacity: 1; stroke: rgb(80, 80, 80);\" marker-end=\"\" d=\"M776,439.5, 956,519.5\"/><path class=\"link\" style=\"stroke-width: 0.5px; stroke-opacity: 1; stroke: rgb(80, 80, 80);\" marker-end=\"\" d=\"M776,479.5, 956,519.5\"/><path class=\"link\" style=\"stroke-width: 0.5px; stroke-opacity: 1; stroke: rgb(80, 80, 80);\" marker-end=\"\" d=\"M776,519.5, 956,519.5\"/><path class=\"link\" style=\"stroke-width: 0.5px; stroke-opacity: 1; stroke: rgb(80, 80, 80);\" marker-end=\"\" d=\"M776,559.5, 956,519.5\"/><path class=\"link\" style=\"stroke-width: 0.5px; stroke-opacity: 1; stroke: rgb(80, 80, 80);\" marker-end=\"\" d=\"M776,599.5, 956,519.5\"/><path class=\"link\" style=\"stroke-width: 0.5px; stroke-opacity: 1; stroke: rgb(80, 80, 80);\" marker-end=\"\" d=\"M776,639.5, 956,519.5\"/><path class=\"link\" style=\"stroke-width: 0.5px; stroke-opacity: 1; stroke: rgb(80, 80, 80);\" marker-end=\"\" d=\"M956,519.5, 1136,439.5\"/><path class=\"link\" style=\"stroke-width: 0.5px; stroke-opacity: 1; stroke: rgb(80, 80, 80);\" marker-end=\"\" d=\"M776,279.5, 956,559.5\"/><path class=\"link\" style=\"stroke-width: 0.5px; stroke-opacity: 1; stroke: rgb(80, 80, 80);\" marker-end=\"\" d=\"M776,319.5, 956,559.5\"/><path class=\"link\" style=\"stroke-width: 0.5px; stroke-opacity: 1; stroke: rgb(80, 80, 80);\" marker-end=\"\" d=\"M776,359.5, 956,559.5\"/><path class=\"link\" style=\"stroke-width: 0.5px; stroke-opacity: 1; stroke: rgb(80, 80, 80);\" marker-end=\"\" d=\"M776,399.5, 956,559.5\"/><path class=\"link\" style=\"stroke-width: 0.5px; stroke-opacity: 1; stroke: rgb(80, 80, 80);\" marker-end=\"\" d=\"M776,439.5, 956,559.5\"/><path class=\"link\" style=\"stroke-width: 0.5px; stroke-opacity: 1; stroke: rgb(80, 80, 80);\" marker-end=\"\" d=\"M776,479.5, 956,559.5\"/><path class=\"link\" style=\"stroke-width: 0.5px; stroke-opacity: 1; stroke: rgb(80, 80, 80);\" marker-end=\"\" d=\"M776,519.5, 956,559.5\"/><path class=\"link\" style=\"stroke-width: 0.5px; stroke-opacity: 1; stroke: rgb(80, 80, 80);\" marker-end=\"\" d=\"M776,559.5, 956,559.5\"/><path class=\"link\" style=\"stroke-width: 0.5px; stroke-opacity: 1; stroke: rgb(80, 80, 80);\" marker-end=\"\" d=\"M776,599.5, 956,559.5\"/><path class=\"link\" style=\"stroke-width: 0.5px; stroke-opacity: 1; stroke: rgb(80, 80, 80);\" marker-end=\"\" d=\"M776,639.5, 956,559.5\"/><path class=\"link\" style=\"stroke-width: 0.5px; stroke-opacity: 1; stroke: rgb(80, 80, 80);\" marker-end=\"\" d=\"M956,559.5, 1136,439.5\"/><path class=\"link\" style=\"stroke-width: 0.5px; stroke-opacity: 1; stroke: rgb(80, 80, 80);\" marker-end=\"\" d=\"M776,279.5, 956,599.5\"/><path class=\"link\" style=\"stroke-width: 0.5px; stroke-opacity: 1; stroke: rgb(80, 80, 80);\" marker-end=\"\" d=\"M776,319.5, 956,599.5\"/><path class=\"link\" style=\"stroke-width: 0.5px; stroke-opacity: 1; stroke: rgb(80, 80, 80);\" marker-end=\"\" d=\"M776,359.5, 956,599.5\"/><path class=\"link\" style=\"stroke-width: 0.5px; stroke-opacity: 1; stroke: rgb(80, 80, 80);\" marker-end=\"\" d=\"M776,399.5, 956,599.5\"/><path class=\"link\" style=\"stroke-width: 0.5px; stroke-opacity: 1; stroke: rgb(80, 80, 80);\" marker-end=\"\" d=\"M776,439.5, 956,599.5\"/><path class=\"link\" style=\"stroke-width: 0.5px; stroke-opacity: 1; stroke: rgb(80, 80, 80);\" marker-end=\"\" d=\"M776,479.5, 956,599.5\"/><path class=\"link\" style=\"stroke-width: 0.5px; stroke-opacity: 1; stroke: rgb(80, 80, 80);\" marker-end=\"\" d=\"M776,519.5, 956,599.5\"/><path class=\"link\" style=\"stroke-width: 0.5px; stroke-opacity: 1; stroke: rgb(80, 80, 80);\" marker-end=\"\" d=\"M776,559.5, 956,599.5\"/><path class=\"link\" style=\"stroke-width: 0.5px; stroke-opacity: 1; stroke: rgb(80, 80, 80);\" marker-end=\"\" d=\"M776,599.5, 956,599.5\"/><path class=\"link\" style=\"stroke-width: 0.5px; stroke-opacity: 1; stroke: rgb(80, 80, 80);\" marker-end=\"\" d=\"M776,639.5, 956,599.5\"/><path class=\"link\" style=\"stroke-width: 0.5px; stroke-opacity: 1; stroke: rgb(80, 80, 80);\" marker-end=\"\" d=\"M956,599.5, 1136,439.5\"/><path class=\"link\" style=\"stroke-width: 0.5px; stroke-opacity: 1; stroke: rgb(80, 80, 80);\" marker-end=\"\" d=\"M776,279.5, 956,639.5\"/><path class=\"link\" style=\"stroke-width: 0.5px; stroke-opacity: 1; stroke: rgb(80, 80, 80);\" marker-end=\"\" d=\"M776,319.5, 956,639.5\"/><path class=\"link\" style=\"stroke-width: 0.5px; stroke-opacity: 1; stroke: rgb(80, 80, 80);\" marker-end=\"\" d=\"M776,359.5, 956,639.5\"/><path class=\"link\" style=\"stroke-width: 0.5px; stroke-opacity: 1; stroke: rgb(80, 80, 80);\" marker-end=\"\" d=\"M776,399.5, 956,639.5\"/><path class=\"link\" style=\"stroke-width: 0.5px; stroke-opacity: 1; stroke: rgb(80, 80, 80);\" marker-end=\"\" d=\"M776,439.5, 956,639.5\"/><path class=\"link\" style=\"stroke-width: 0.5px; stroke-opacity: 1; stroke: rgb(80, 80, 80);\" marker-end=\"\" d=\"M776,479.5, 956,639.5\"/><path class=\"link\" style=\"stroke-width: 0.5px; stroke-opacity: 1; stroke: rgb(80, 80, 80);\" marker-end=\"\" d=\"M776,519.5, 956,639.5\"/><path class=\"link\" style=\"stroke-width: 0.5px; stroke-opacity: 1; stroke: rgb(80, 80, 80);\" marker-end=\"\" d=\"M776,559.5, 956,639.5\"/><path class=\"link\" style=\"stroke-width: 0.5px; stroke-opacity: 1; stroke: rgb(80, 80, 80);\" marker-end=\"\" d=\"M776,599.5, 956,639.5\"/><path class=\"link\" style=\"stroke-width: 0.5px; stroke-opacity: 1; stroke: rgb(80, 80, 80);\" marker-end=\"\" d=\"M776,639.5, 956,639.5\"/><path class=\"link\" style=\"stroke-width: 0.5px; stroke-opacity: 1; stroke: rgb(80, 80, 80);\" marker-end=\"\" d=\"M956,639.5, 1136,439.5\"/><path class=\"link\" style=\"stroke-width: 0.5px; stroke-opacity: 1; stroke: rgb(80, 80, 80);\" marker-end=\"\" d=\"M956,279.5, 1136,479.5\"/><path class=\"link\" style=\"stroke-width: 0.5px; stroke-opacity: 1; stroke: rgb(80, 80, 80);\" marker-end=\"\" d=\"M956,319.5, 1136,479.5\"/><path class=\"link\" style=\"stroke-width: 0.5px; stroke-opacity: 1; stroke: rgb(80, 80, 80);\" marker-end=\"\" d=\"M956,359.5, 1136,479.5\"/><path class=\"link\" style=\"stroke-width: 0.5px; stroke-opacity: 1; stroke: rgb(80, 80, 80);\" marker-end=\"\" d=\"M956,399.5, 1136,479.5\"/><path class=\"link\" style=\"stroke-width: 0.5px; stroke-opacity: 1; stroke: rgb(80, 80, 80);\" marker-end=\"\" d=\"M956,439.5, 1136,479.5\"/><path class=\"link\" style=\"stroke-width: 0.5px; stroke-opacity: 1; stroke: rgb(80, 80, 80);\" marker-end=\"\" d=\"M956,479.5, 1136,479.5\"/><path class=\"link\" style=\"stroke-width: 0.5px; stroke-opacity: 1; stroke: rgb(80, 80, 80);\" marker-end=\"\" d=\"M956,519.5, 1136,479.5\"/><path class=\"link\" style=\"stroke-width: 0.5px; stroke-opacity: 1; stroke: rgb(80, 80, 80);\" marker-end=\"\" d=\"M956,559.5, 1136,479.5\"/><path class=\"link\" style=\"stroke-width: 0.5px; stroke-opacity: 1; stroke: rgb(80, 80, 80);\" marker-end=\"\" d=\"M956,599.5, 1136,479.5\"/><path class=\"link\" style=\"stroke-width: 0.5px; stroke-opacity: 1; stroke: rgb(80, 80, 80);\" marker-end=\"\" d=\"M956,639.5, 1136,479.5\"/><circle r=\"10\" class=\"node\" id=\"0_0\" style=\"fill: rgb(255, 255, 255); stroke: rgb(51, 51, 51);\" cx=\"776\" cy=\"279.5\"/><circle r=\"10\" class=\"node\" id=\"0_1\" style=\"fill: rgb(255, 255, 255); stroke: rgb(51, 51, 51);\" cx=\"776\" cy=\"319.5\"/><circle r=\"10\" class=\"node\" id=\"0_2\" style=\"fill: rgb(255, 255, 255); stroke: rgb(51, 51, 51);\" cx=\"776\" cy=\"359.5\"/><circle r=\"10\" class=\"node\" id=\"0_3\" style=\"fill: rgb(255, 255, 255); stroke: rgb(51, 51, 51);\" cx=\"776\" cy=\"399.5\"/><circle r=\"10\" class=\"node\" id=\"0_4\" style=\"fill: rgb(255, 255, 255); stroke: rgb(51, 51, 51);\" cx=\"776\" cy=\"439.5\"/><circle r=\"10\" class=\"node\" id=\"0_5\" style=\"fill: rgb(255, 255, 255); stroke: rgb(51, 51, 51);\" cx=\"776\" cy=\"479.5\"/><circle r=\"10\" class=\"node\" id=\"0_6\" style=\"fill: rgb(255, 255, 255); stroke: rgb(51, 51, 51);\" cx=\"776\" cy=\"519.5\"/><circle r=\"10\" class=\"node\" id=\"0_7\" style=\"fill: rgb(255, 255, 255); stroke: rgb(51, 51, 51);\" cx=\"776\" cy=\"559.5\"/><circle r=\"10\" class=\"node\" id=\"0_8\" style=\"fill: rgb(255, 255, 255); stroke: rgb(51, 51, 51);\" cx=\"776\" cy=\"599.5\"/><circle r=\"10\" class=\"node\" id=\"0_9\" style=\"fill: rgb(255, 255, 255); stroke: rgb(51, 51, 51);\" cx=\"776\" cy=\"639.5\"/><circle r=\"10\" class=\"node\" id=\"1_0\" style=\"fill: rgb(255, 255, 255); stroke: rgb(51, 51, 51);\" cx=\"956\" cy=\"279.5\"/><text class=\"text\" dy=\".35em\" style=\"font-size: 12px;\" x=\"741\" y=\"679.5\">Input Layer ∈ ℝ¹⁰</text><text class=\"text\" dy=\".35em\" style=\"font-size: 12px;\" x=\"921\" y=\"679.5\">Hidden Layer ∈ ℝ¹⁰</text><text class=\"text\" dy=\".35em\" style=\"font-size: 12px;\" x=\"1101\" y=\"679.5\">Output Layer ∈ ℝ²</text><circle r=\"10\" class=\"node\" id=\"1_1\" style=\"fill: rgb(255, 255, 255); stroke: rgb(51, 51, 51);\" cx=\"956\" cy=\"319.5\"/><circle r=\"10\" class=\"node\" id=\"1_2\" style=\"fill: rgb(255, 255, 255); stroke: rgb(51, 51, 51);\" cx=\"956\" cy=\"359.5\"/><circle r=\"10\" class=\"node\" id=\"1_3\" style=\"fill: rgb(255, 255, 255); stroke: rgb(51, 51, 51);\" cx=\"956\" cy=\"399.5\"/><circle r=\"10\" class=\"node\" id=\"1_4\" style=\"fill: rgb(255, 255, 255); stroke: rgb(51, 51, 51);\" cx=\"956\" cy=\"439.5\"/><circle r=\"10\" class=\"node\" id=\"1_5\" style=\"fill: rgb(255, 255, 255); stroke: rgb(51, 51, 51);\" cx=\"956\" cy=\"479.5\"/><circle r=\"10\" class=\"node\" id=\"1_6\" style=\"fill: rgb(255, 255, 255); stroke: rgb(51, 51, 51);\" cx=\"956\" cy=\"519.5\"/><circle r=\"10\" class=\"node\" id=\"1_7\" style=\"fill: rgb(255, 255, 255); stroke: rgb(51, 51, 51);\" cx=\"956\" cy=\"559.5\"/><circle r=\"10\" class=\"node\" id=\"1_8\" style=\"fill: rgb(255, 255, 255); stroke: rgb(51, 51, 51);\" cx=\"956\" cy=\"599.5\"/><circle r=\"10\" class=\"node\" id=\"1_9\" style=\"fill: rgb(255, 255, 255); stroke: rgb(51, 51, 51);\" cx=\"956\" cy=\"639.5\"/><circle r=\"10\" class=\"node\" id=\"2_0\" style=\"fill: rgb(255, 255, 255); stroke: rgb(51, 51, 51);\" cx=\"1136\" cy=\"439.5\"/><circle r=\"10\" class=\"node\" id=\"2_1\" style=\"fill: rgb(255, 255, 255); stroke: rgb(51, 51, 51);\" cx=\"1136\" cy=\"479.5\"/></g><defs><marker id=\"arrow\" viewBox=\"0 -5 10 10\" markerWidth=\"7\" markerHeight=\"7\" orient=\"auto\" refX=\"40\"><path d=\"M0,-5L10,0L0,5\" style=\"stroke: rgb(80, 80, 80); fill: none;\"/></marker></defs></svg>"
      ],
      "text/plain": [
       "<IPython.core.display.SVG object>"
      ]
     },
     "execution_count": 17,
     "metadata": {},
     "output_type": "execute_result"
    }
   ],
   "source": [
    "from IPython.core.display import SVG\n",
    "SVG(filename='assets/nn-1-hidden.svg')"
   ]
  },
  {
   "cell_type": "markdown",
   "metadata": {},
   "source": [
    "The number of neurons of the hidden layer was set to 10 (the same as the input layer). As mentioned in the introduction, I did not try many possible combinations of structures as it would have taken too much time. Keeping the number of neurons the same as the previous layer tends to yield good results. For now, I also used the sigmoid as the activation function of the hidden layer. I created the new model using the previous one as an example, and trained and evaluated it as before. It is important to note that the hidden layer was added before the output, and not after."
   ]
  },
  {
   "cell_type": "code",
   "execution_count": 18,
   "metadata": {
    "jupyter": {
     "outputs_hidden": false
    },
    "pycharm": {
     "name": "#%%\n"
    },
    "scrolled": true
   },
   "outputs": [
    {
     "name": "stdout",
     "output_type": "stream",
     "text": [
      "Epoch 1/50\n",
      "469/469 [==============================] - 1s 2ms/step - loss: 0.2069 - accuracy: 0.6780 - mean_squared_error: 0.2069 - val_loss: 0.1781 - val_accuracy: 0.7038 - val_mean_squared_error: 0.1781\n",
      "Epoch 2/50\n",
      "469/469 [==============================] - 1s 2ms/step - loss: 0.1505 - accuracy: 0.7918 - mean_squared_error: 0.1505 - val_loss: 0.1217 - val_accuracy: 0.8652 - val_mean_squared_error: 0.1217\n",
      "Epoch 3/50\n",
      "469/469 [==============================] - 1s 2ms/step - loss: 0.1082 - accuracy: 0.8759 - mean_squared_error: 0.1082 - val_loss: 0.0945 - val_accuracy: 0.8888 - val_mean_squared_error: 0.0945\n",
      "Epoch 4/50\n",
      "469/469 [==============================] - 1s 2ms/step - loss: 0.0905 - accuracy: 0.8922 - mean_squared_error: 0.0905 - val_loss: 0.0839 - val_accuracy: 0.8969 - val_mean_squared_error: 0.0839\n",
      "Epoch 5/50\n",
      "469/469 [==============================] - 1s 2ms/step - loss: 0.0830 - accuracy: 0.8974 - mean_squared_error: 0.0830 - val_loss: 0.0787 - val_accuracy: 0.8993 - val_mean_squared_error: 0.0787\n",
      "Epoch 6/50\n",
      "469/469 [==============================] - 1s 2ms/step - loss: 0.0791 - accuracy: 0.8996 - mean_squared_error: 0.0791 - val_loss: 0.0758 - val_accuracy: 0.9029 - val_mean_squared_error: 0.0758\n",
      "Epoch 7/50\n",
      "469/469 [==============================] - 1s 2ms/step - loss: 0.0768 - accuracy: 0.9017 - mean_squared_error: 0.0768 - val_loss: 0.0739 - val_accuracy: 0.9039 - val_mean_squared_error: 0.0739\n",
      "Epoch 8/50\n",
      "469/469 [==============================] - 1s 2ms/step - loss: 0.0753 - accuracy: 0.9024 - mean_squared_error: 0.0753 - val_loss: 0.0727 - val_accuracy: 0.9035 - val_mean_squared_error: 0.0727\n",
      "Epoch 9/50\n",
      "469/469 [==============================] - 1s 2ms/step - loss: 0.0742 - accuracy: 0.9031 - mean_squared_error: 0.0742 - val_loss: 0.0717 - val_accuracy: 0.9055 - val_mean_squared_error: 0.0717\n",
      "Epoch 10/50\n",
      "469/469 [==============================] - 1s 2ms/step - loss: 0.0733 - accuracy: 0.9032 - mean_squared_error: 0.0733 - val_loss: 0.0710 - val_accuracy: 0.9073 - val_mean_squared_error: 0.0710\n",
      "Epoch 11/50\n",
      "469/469 [==============================] - 1s 2ms/step - loss: 0.0726 - accuracy: 0.9040 - mean_squared_error: 0.0726 - val_loss: 0.0704 - val_accuracy: 0.9063 - val_mean_squared_error: 0.0704\n",
      "Epoch 12/50\n",
      "469/469 [==============================] - 1s 2ms/step - loss: 0.0721 - accuracy: 0.9046 - mean_squared_error: 0.0721 - val_loss: 0.0698 - val_accuracy: 0.9076 - val_mean_squared_error: 0.0698\n",
      "Epoch 13/50\n",
      "469/469 [==============================] - 1s 2ms/step - loss: 0.0716 - accuracy: 0.9051 - mean_squared_error: 0.0716 - val_loss: 0.0694 - val_accuracy: 0.9087 - val_mean_squared_error: 0.0694\n",
      "Epoch 14/50\n",
      "469/469 [==============================] - 2s 3ms/step - loss: 0.0712 - accuracy: 0.9056 - mean_squared_error: 0.0712 - val_loss: 0.0690 - val_accuracy: 0.9084 - val_mean_squared_error: 0.0690\n",
      "Epoch 15/50\n",
      "469/469 [==============================] - 1s 3ms/step - loss: 0.0708 - accuracy: 0.9058 - mean_squared_error: 0.0708 - val_loss: 0.0687 - val_accuracy: 0.9101 - val_mean_squared_error: 0.0687\n",
      "Epoch 16/50\n",
      "469/469 [==============================] - 2s 3ms/step - loss: 0.0704 - accuracy: 0.9062 - mean_squared_error: 0.0704 - val_loss: 0.0684 - val_accuracy: 0.9097 - val_mean_squared_error: 0.0684\n",
      "Epoch 17/50\n",
      "469/469 [==============================] - 2s 3ms/step - loss: 0.0701 - accuracy: 0.9063 - mean_squared_error: 0.0701 - val_loss: 0.0681 - val_accuracy: 0.9107 - val_mean_squared_error: 0.0681\n",
      "Epoch 18/50\n",
      "469/469 [==============================] - 1s 3ms/step - loss: 0.0698 - accuracy: 0.9072 - mean_squared_error: 0.0698 - val_loss: 0.0678 - val_accuracy: 0.9109 - val_mean_squared_error: 0.0678\n",
      "Epoch 19/50\n",
      "469/469 [==============================] - 2s 4ms/step - loss: 0.0695 - accuracy: 0.9072 - mean_squared_error: 0.0695 - val_loss: 0.0675 - val_accuracy: 0.9107 - val_mean_squared_error: 0.0675\n",
      "Epoch 20/50\n",
      "469/469 [==============================] - 2s 4ms/step - loss: 0.0692 - accuracy: 0.9080 - mean_squared_error: 0.0692 - val_loss: 0.0672 - val_accuracy: 0.9107 - val_mean_squared_error: 0.0672\n",
      "Epoch 21/50\n",
      "469/469 [==============================] - 2s 4ms/step - loss: 0.0690 - accuracy: 0.9081 - mean_squared_error: 0.0690 - val_loss: 0.0670 - val_accuracy: 0.9113 - val_mean_squared_error: 0.0670\n",
      "Epoch 22/50\n",
      "469/469 [==============================] - 2s 5ms/step - loss: 0.0687 - accuracy: 0.9086 - mean_squared_error: 0.0687 - val_loss: 0.0668 - val_accuracy: 0.9120 - val_mean_squared_error: 0.0668\n",
      "Epoch 23/50\n",
      "469/469 [==============================] - 2s 5ms/step - loss: 0.0684 - accuracy: 0.9090 - mean_squared_error: 0.0684 - val_loss: 0.0665 - val_accuracy: 0.9120 - val_mean_squared_error: 0.0665\n",
      "Epoch 24/50\n",
      "469/469 [==============================] - 2s 4ms/step - loss: 0.0682 - accuracy: 0.9092 - mean_squared_error: 0.0682 - val_loss: 0.0663 - val_accuracy: 0.9128 - val_mean_squared_error: 0.0663\n",
      "Epoch 25/50\n",
      "469/469 [==============================] - 2s 5ms/step - loss: 0.0679 - accuracy: 0.9093 - mean_squared_error: 0.0679 - val_loss: 0.0661 - val_accuracy: 0.9123 - val_mean_squared_error: 0.0661\n",
      "Epoch 26/50\n",
      "469/469 [==============================] - 2s 4ms/step - loss: 0.0677 - accuracy: 0.9101 - mean_squared_error: 0.0677 - val_loss: 0.0658 - val_accuracy: 0.9133 - val_mean_squared_error: 0.0658\n",
      "Epoch 27/50\n",
      "469/469 [==============================] - 1s 2ms/step - loss: 0.0674 - accuracy: 0.9099 - mean_squared_error: 0.0674 - val_loss: 0.0656 - val_accuracy: 0.9135 - val_mean_squared_error: 0.0656\n",
      "Epoch 28/50\n",
      "469/469 [==============================] - 1s 2ms/step - loss: 0.0671 - accuracy: 0.9107 - mean_squared_error: 0.0671 - val_loss: 0.0654 - val_accuracy: 0.9137 - val_mean_squared_error: 0.0654\n",
      "Epoch 29/50\n",
      "469/469 [==============================] - 1s 2ms/step - loss: 0.0669 - accuracy: 0.9113 - mean_squared_error: 0.0669 - val_loss: 0.0651 - val_accuracy: 0.9132 - val_mean_squared_error: 0.0651\n",
      "Epoch 30/50\n",
      "469/469 [==============================] - 1s 3ms/step - loss: 0.0667 - accuracy: 0.9113 - mean_squared_error: 0.0667 - val_loss: 0.0649 - val_accuracy: 0.9141 - val_mean_squared_error: 0.0649\n",
      "Epoch 31/50\n",
      "469/469 [==============================] - 2s 5ms/step - loss: 0.0664 - accuracy: 0.9116 - mean_squared_error: 0.0664 - val_loss: 0.0647 - val_accuracy: 0.9145 - val_mean_squared_error: 0.0647\n",
      "Epoch 32/50\n",
      "469/469 [==============================] - 2s 5ms/step - loss: 0.0661 - accuracy: 0.9119 - mean_squared_error: 0.0661 - val_loss: 0.0645 - val_accuracy: 0.9149 - val_mean_squared_error: 0.0645\n",
      "Epoch 33/50\n",
      "469/469 [==============================] - 2s 5ms/step - loss: 0.0659 - accuracy: 0.9121 - mean_squared_error: 0.0659 - val_loss: 0.0642 - val_accuracy: 0.9141 - val_mean_squared_error: 0.0642\n",
      "Epoch 34/50\n",
      "469/469 [==============================] - 2s 5ms/step - loss: 0.0657 - accuracy: 0.9124 - mean_squared_error: 0.0657 - val_loss: 0.0640 - val_accuracy: 0.9145 - val_mean_squared_error: 0.0640\n",
      "Epoch 35/50\n",
      "469/469 [==============================] - 2s 5ms/step - loss: 0.0654 - accuracy: 0.9129 - mean_squared_error: 0.0654 - val_loss: 0.0638 - val_accuracy: 0.9155 - val_mean_squared_error: 0.0638\n",
      "Epoch 36/50\n",
      "469/469 [==============================] - 2s 5ms/step - loss: 0.0652 - accuracy: 0.9129 - mean_squared_error: 0.0652 - val_loss: 0.0636 - val_accuracy: 0.9167 - val_mean_squared_error: 0.0636\n",
      "Epoch 37/50\n",
      "469/469 [==============================] - 2s 4ms/step - loss: 0.0649 - accuracy: 0.9136 - mean_squared_error: 0.0649 - val_loss: 0.0633 - val_accuracy: 0.9156 - val_mean_squared_error: 0.0633\n",
      "Epoch 38/50\n",
      "469/469 [==============================] - 2s 5ms/step - loss: 0.0647 - accuracy: 0.9134 - mean_squared_error: 0.0647 - val_loss: 0.0631 - val_accuracy: 0.9165 - val_mean_squared_error: 0.0631\n",
      "Epoch 39/50\n",
      "469/469 [==============================] - 1s 2ms/step - loss: 0.0644 - accuracy: 0.9136 - mean_squared_error: 0.0644 - val_loss: 0.0629 - val_accuracy: 0.9171 - val_mean_squared_error: 0.0629\n",
      "Epoch 40/50\n",
      "469/469 [==============================] - 1s 2ms/step - loss: 0.0642 - accuracy: 0.9145 - mean_squared_error: 0.0642 - val_loss: 0.0626 - val_accuracy: 0.9165 - val_mean_squared_error: 0.0626\n",
      "Epoch 41/50\n"
     ]
    },
    {
     "name": "stdout",
     "output_type": "stream",
     "text": [
      "469/469 [==============================] - 1s 2ms/step - loss: 0.0639 - accuracy: 0.9148 - mean_squared_error: 0.0639 - val_loss: 0.0624 - val_accuracy: 0.9167 - val_mean_squared_error: 0.0624\n",
      "Epoch 42/50\n",
      "469/469 [==============================] - 2s 3ms/step - loss: 0.0636 - accuracy: 0.9154 - mean_squared_error: 0.0636 - val_loss: 0.0622 - val_accuracy: 0.9168 - val_mean_squared_error: 0.0622\n",
      "Epoch 43/50\n",
      "469/469 [==============================] - 2s 5ms/step - loss: 0.0634 - accuracy: 0.9156 - mean_squared_error: 0.0634 - val_loss: 0.0619 - val_accuracy: 0.9177 - val_mean_squared_error: 0.0619\n",
      "Epoch 44/50\n",
      "469/469 [==============================] - 2s 5ms/step - loss: 0.0632 - accuracy: 0.9156 - mean_squared_error: 0.0632 - val_loss: 0.0617 - val_accuracy: 0.9181 - val_mean_squared_error: 0.0617\n",
      "Epoch 45/50\n",
      "469/469 [==============================] - 2s 5ms/step - loss: 0.0629 - accuracy: 0.9163 - mean_squared_error: 0.0629 - val_loss: 0.0615 - val_accuracy: 0.9183 - val_mean_squared_error: 0.0615\n",
      "Epoch 46/50\n",
      "469/469 [==============================] - 2s 5ms/step - loss: 0.0627 - accuracy: 0.9163 - mean_squared_error: 0.0627 - val_loss: 0.0613 - val_accuracy: 0.9187 - val_mean_squared_error: 0.0613\n",
      "Epoch 47/50\n",
      "469/469 [==============================] - 2s 5ms/step - loss: 0.0624 - accuracy: 0.9169 - mean_squared_error: 0.0624 - val_loss: 0.0611 - val_accuracy: 0.9191 - val_mean_squared_error: 0.0611\n",
      "Epoch 48/50\n",
      "469/469 [==============================] - 2s 5ms/step - loss: 0.0622 - accuracy: 0.9171 - mean_squared_error: 0.0622 - val_loss: 0.0609 - val_accuracy: 0.9196 - val_mean_squared_error: 0.0609\n",
      "Epoch 49/50\n",
      "469/469 [==============================] - 2s 5ms/step - loss: 0.0619 - accuracy: 0.9171 - mean_squared_error: 0.0619 - val_loss: 0.0606 - val_accuracy: 0.9205 - val_mean_squared_error: 0.0606\n",
      "Epoch 50/50\n",
      "469/469 [==============================] - 2s 4ms/step - loss: 0.0617 - accuracy: 0.9177 - mean_squared_error: 0.0617 - val_loss: 0.0604 - val_accuracy: 0.9211 - val_mean_squared_error: 0.0604\n",
      "\n",
      "accuracy: 0.9204201102256775 | mean_squared_error: 0.061129629611968994\n"
     ]
    }
   ],
   "source": [
    "model = Sequential([\n",
    "    Dense(10, activation='sigmoid'),\n",
    "    # output layer\n",
    "    Dense(2, activation='sigmoid'),\n",
    "])\n",
    "train_and_evaluate_model(model, data)"
   ]
  },
  {
   "cell_type": "markdown",
   "metadata": {},
   "source": [
    "Notice the improvement I achieved compared to the previous and simpler model. But I didn't stop there. I then focused on the activation functions. Each function used has different properties, and apart from adding non-linearity to the model predictions, they regulate the range of the output produced by the layer. But on the back-propagation stage they also affect the size of the correction applied to the weights in order to learn from the new data. This correction is known as the gradient, which corresponds to the derivative of the function with respect to the weights. Which means that the steeper the function (the higher the slope) the higher will be their gradients. With larger gradients, I would need fewer steps to reach the optimal solution, which would reduce the needed time to reach loss convergence. The disadvantage of taking big steps might be that I skip the best solution, but there are other parameters such as the learning rate that help to minimize this problem. The following plot compares the sigmoid and relu activation functions."
   ]
  },
  {
   "cell_type": "code",
   "execution_count": 19,
   "metadata": {
    "jupyter": {
     "outputs_hidden": false
    },
    "pycharm": {
     "name": "#%%\n"
    }
   },
   "outputs": [
    {
     "data": {
      "text/plain": [
       "<matplotlib.legend.Legend at 0x1b5497bb850>"
      ]
     },
     "execution_count": 19,
     "metadata": {},
     "output_type": "execute_result"
    },
    {
     "data": {
      "image/png": "[encoded data removed]",
      "text/plain": [
       "<Figure size 700x700 with 1 Axes>"
      ]
     },
     "metadata": {
      "needs_background": "light"
     },
     "output_type": "display_data"
    }
   ],
   "source": [
    "sigmoid = lambda x: [1 / (1 + math.exp(-item)) for item in x]\n",
    "tanh = lambda x: np.tanh(x)\n",
    "\n",
    "x_values = np.linspace(-2, 2, 1000)\n",
    "\n",
    "fig, ax = plt.subplots(figsize=(7, 7), dpi=100)\n",
    "ax.axhline(0, ls='--', c=\"gray\", alpha=0.5)\n",
    "ax.axvline(0, ls='--', c=\"gray\", alpha=0.5)\n",
    "ax.plot(x_values, sigmoid(x_values), label=\"sigmoid\")\n",
    "ax.plot(x_values, tanh(x_values), label=\"tanh\")\n",
    "ax.set_title(\"Activation functions: sigmoid vs tanh\")\n",
    "ax.legend()"
   ]
  },
  {
   "cell_type": "markdown",
   "metadata": {},
   "source": [
    "It is clear to see that the tanh is much steeper than the sigmoid. So I decided to try using this function as the activation function of the hidden layer instead of the sigmoid. However, I didn't use it on the output layer as it would reduce the performance of the model. The reason is that the predictions produced by the tanh function will be in the range [-1, 1], which is different than the range we expect [0, 1]."
   ]
  },
  {
   "cell_type": "code",
   "execution_count": 20,
   "metadata": {
    "jupyter": {
     "outputs_hidden": false
    },
    "pycharm": {
     "name": "#%%\n"
    },
    "scrolled": true
   },
   "outputs": [
    {
     "name": "stdout",
     "output_type": "stream",
     "text": [
      "Epoch 1/50\n",
      "469/469 [==============================] - 2s 3ms/step - loss: 0.1337 - accuracy: 0.8311 - mean_squared_error: 0.1337 - val_loss: 0.0815 - val_accuracy: 0.9000 - val_mean_squared_error: 0.0815\n",
      "Epoch 2/50\n",
      "469/469 [==============================] - 1s 2ms/step - loss: 0.0777 - accuracy: 0.9005 - mean_squared_error: 0.0777 - val_loss: 0.0723 - val_accuracy: 0.9064 - val_mean_squared_error: 0.0723\n",
      "Epoch 3/50\n",
      "469/469 [==============================] - 1s 2ms/step - loss: 0.0728 - accuracy: 0.9044 - mean_squared_error: 0.0728 - val_loss: 0.0697 - val_accuracy: 0.9069 - val_mean_squared_error: 0.0697\n",
      "Epoch 4/50\n",
      "469/469 [==============================] - 1s 2ms/step - loss: 0.0708 - accuracy: 0.9059 - mean_squared_error: 0.0708 - val_loss: 0.0683 - val_accuracy: 0.9107 - val_mean_squared_error: 0.0683\n",
      "Epoch 5/50\n",
      "469/469 [==============================] - 1s 2ms/step - loss: 0.0695 - accuracy: 0.9069 - mean_squared_error: 0.0695 - val_loss: 0.0671 - val_accuracy: 0.9105 - val_mean_squared_error: 0.0671\n",
      "Epoch 6/50\n",
      "469/469 [==============================] - 1s 2ms/step - loss: 0.0684 - accuracy: 0.9082 - mean_squared_error: 0.0684 - val_loss: 0.0662 - val_accuracy: 0.9111 - val_mean_squared_error: 0.0662\n",
      "Epoch 7/50\n",
      "469/469 [==============================] - 1s 2ms/step - loss: 0.0673 - accuracy: 0.9105 - mean_squared_error: 0.0673 - val_loss: 0.0652 - val_accuracy: 0.9135 - val_mean_squared_error: 0.0652\n",
      "Epoch 8/50\n",
      "469/469 [==============================] - 1s 2ms/step - loss: 0.0663 - accuracy: 0.9113 - mean_squared_error: 0.0663 - val_loss: 0.0643 - val_accuracy: 0.9139 - val_mean_squared_error: 0.0643\n",
      "Epoch 9/50\n",
      "469/469 [==============================] - 1s 2ms/step - loss: 0.0653 - accuracy: 0.9134 - mean_squared_error: 0.0653 - val_loss: 0.0634 - val_accuracy: 0.9151 - val_mean_squared_error: 0.0634\n",
      "Epoch 10/50\n",
      "469/469 [==============================] - 1s 2ms/step - loss: 0.0643 - accuracy: 0.9138 - mean_squared_error: 0.0643 - val_loss: 0.0625 - val_accuracy: 0.9169 - val_mean_squared_error: 0.0625\n",
      "Epoch 11/50\n",
      "469/469 [==============================] - 1s 3ms/step - loss: 0.0634 - accuracy: 0.9152 - mean_squared_error: 0.0634 - val_loss: 0.0616 - val_accuracy: 0.9187 - val_mean_squared_error: 0.0616\n",
      "Epoch 12/50\n",
      "469/469 [==============================] - 1s 3ms/step - loss: 0.0624 - accuracy: 0.9173 - mean_squared_error: 0.0624 - val_loss: 0.0608 - val_accuracy: 0.9189 - val_mean_squared_error: 0.0608\n",
      "Epoch 13/50\n",
      "469/469 [==============================] - 1s 3ms/step - loss: 0.0614 - accuracy: 0.9185 - mean_squared_error: 0.0614 - val_loss: 0.0601 - val_accuracy: 0.9204 - val_mean_squared_error: 0.0601\n",
      "Epoch 14/50\n",
      "469/469 [==============================] - 1s 3ms/step - loss: 0.0605 - accuracy: 0.9194 - mean_squared_error: 0.0605 - val_loss: 0.0594 - val_accuracy: 0.9228 - val_mean_squared_error: 0.0594\n",
      "Epoch 15/50\n",
      "469/469 [==============================] - 1s 3ms/step - loss: 0.0596 - accuracy: 0.9210 - mean_squared_error: 0.0596 - val_loss: 0.0586 - val_accuracy: 0.9235 - val_mean_squared_error: 0.0586\n",
      "Epoch 16/50\n",
      "469/469 [==============================] - 1s 3ms/step - loss: 0.0588 - accuracy: 0.9222 - mean_squared_error: 0.0588 - val_loss: 0.0577 - val_accuracy: 0.9249 - val_mean_squared_error: 0.0577\n",
      "Epoch 17/50\n",
      "469/469 [==============================] - 1s 3ms/step - loss: 0.0580 - accuracy: 0.9233 - mean_squared_error: 0.0580 - val_loss: 0.0571 - val_accuracy: 0.9255 - val_mean_squared_error: 0.0571\n",
      "Epoch 18/50\n",
      "469/469 [==============================] - 1s 3ms/step - loss: 0.0572 - accuracy: 0.9245 - mean_squared_error: 0.0572 - val_loss: 0.0566 - val_accuracy: 0.9265 - val_mean_squared_error: 0.0566\n",
      "Epoch 19/50\n",
      "469/469 [==============================] - 2s 4ms/step - loss: 0.0566 - accuracy: 0.9257 - mean_squared_error: 0.0566 - val_loss: 0.0559 - val_accuracy: 0.9291 - val_mean_squared_error: 0.0559\n",
      "Epoch 20/50\n",
      "469/469 [==============================] - 2s 5ms/step - loss: 0.0559 - accuracy: 0.9270 - mean_squared_error: 0.0559 - val_loss: 0.0554 - val_accuracy: 0.9280 - val_mean_squared_error: 0.0554\n",
      "Epoch 21/50\n",
      "469/469 [==============================] - 2s 5ms/step - loss: 0.0554 - accuracy: 0.9270 - mean_squared_error: 0.0554 - val_loss: 0.0550 - val_accuracy: 0.9276 - val_mean_squared_error: 0.0550\n",
      "Epoch 22/50\n",
      "469/469 [==============================] - 2s 5ms/step - loss: 0.0549 - accuracy: 0.9287 - mean_squared_error: 0.0549 - val_loss: 0.0545 - val_accuracy: 0.9289 - val_mean_squared_error: 0.0545\n",
      "Epoch 23/50\n",
      "469/469 [==============================] - 2s 5ms/step - loss: 0.0544 - accuracy: 0.9288 - mean_squared_error: 0.0544 - val_loss: 0.0544 - val_accuracy: 0.9291 - val_mean_squared_error: 0.0544\n",
      "Epoch 24/50\n",
      "469/469 [==============================] - 2s 5ms/step - loss: 0.0540 - accuracy: 0.9293 - mean_squared_error: 0.0540 - val_loss: 0.0538 - val_accuracy: 0.9299 - val_mean_squared_error: 0.0538\n",
      "Epoch 25/50\n",
      "469/469 [==============================] - 2s 5ms/step - loss: 0.0536 - accuracy: 0.9296 - mean_squared_error: 0.0536 - val_loss: 0.0535 - val_accuracy: 0.9301 - val_mean_squared_error: 0.0535\n",
      "Epoch 26/50\n",
      "469/469 [==============================] - 2s 5ms/step - loss: 0.0533 - accuracy: 0.9302 - mean_squared_error: 0.0533 - val_loss: 0.0531 - val_accuracy: 0.9313 - val_mean_squared_error: 0.0531\n",
      "Epoch 27/50\n",
      "469/469 [==============================] - 2s 5ms/step - loss: 0.0528 - accuracy: 0.9306 - mean_squared_error: 0.0528 - val_loss: 0.0529 - val_accuracy: 0.9304 - val_mean_squared_error: 0.0529\n",
      "Epoch 28/50\n",
      "469/469 [==============================] - 2s 5ms/step - loss: 0.0524 - accuracy: 0.9317 - mean_squared_error: 0.0524 - val_loss: 0.0524 - val_accuracy: 0.9324 - val_mean_squared_error: 0.0524\n",
      "Epoch 29/50\n",
      "469/469 [==============================] - 2s 5ms/step - loss: 0.0521 - accuracy: 0.9319 - mean_squared_error: 0.0521 - val_loss: 0.0520 - val_accuracy: 0.9328 - val_mean_squared_error: 0.0520\n",
      "Epoch 30/50\n",
      "469/469 [==============================] - 2s 5ms/step - loss: 0.0518 - accuracy: 0.9325 - mean_squared_error: 0.0518 - val_loss: 0.0518 - val_accuracy: 0.9324 - val_mean_squared_error: 0.0518\n",
      "Epoch 31/50\n",
      "469/469 [==============================] - 2s 5ms/step - loss: 0.0514 - accuracy: 0.9334 - mean_squared_error: 0.0514 - val_loss: 0.0516 - val_accuracy: 0.9321 - val_mean_squared_error: 0.0516\n",
      "Epoch 32/50\n",
      "469/469 [==============================] - 2s 4ms/step - loss: 0.0511 - accuracy: 0.9331 - mean_squared_error: 0.0511 - val_loss: 0.0512 - val_accuracy: 0.9333 - val_mean_squared_error: 0.0512\n",
      "Epoch 33/50\n",
      "469/469 [==============================] - 2s 4ms/step - loss: 0.0508 - accuracy: 0.9334 - mean_squared_error: 0.0508 - val_loss: 0.0511 - val_accuracy: 0.9333 - val_mean_squared_error: 0.0511\n",
      "Epoch 34/50\n",
      "469/469 [==============================] - 2s 5ms/step - loss: 0.0506 - accuracy: 0.9337 - mean_squared_error: 0.0506 - val_loss: 0.0508 - val_accuracy: 0.9336 - val_mean_squared_error: 0.0508\n",
      "Epoch 35/50\n",
      "469/469 [==============================] - 2s 4ms/step - loss: 0.0503 - accuracy: 0.9342 - mean_squared_error: 0.0503 - val_loss: 0.0508 - val_accuracy: 0.9336 - val_mean_squared_error: 0.0508\n",
      "Epoch 36/50\n",
      "469/469 [==============================] - 2s 5ms/step - loss: 0.0501 - accuracy: 0.9341 - mean_squared_error: 0.0501 - val_loss: 0.0503 - val_accuracy: 0.9348 - val_mean_squared_error: 0.0503\n",
      "Epoch 37/50\n",
      "469/469 [==============================] - 1s 3ms/step - loss: 0.0499 - accuracy: 0.9347 - mean_squared_error: 0.0499 - val_loss: 0.0501 - val_accuracy: 0.9352 - val_mean_squared_error: 0.0501\n",
      "Epoch 38/50\n",
      "469/469 [==============================] - 2s 3ms/step - loss: 0.0497 - accuracy: 0.9354 - mean_squared_error: 0.0497 - val_loss: 0.0501 - val_accuracy: 0.9340 - val_mean_squared_error: 0.0501\n",
      "Epoch 39/50\n",
      "469/469 [==============================] - 2s 4ms/step - loss: 0.0495 - accuracy: 0.9355 - mean_squared_error: 0.0495 - val_loss: 0.0498 - val_accuracy: 0.9363 - val_mean_squared_error: 0.0498\n",
      "Epoch 40/50\n",
      "469/469 [==============================] - 2s 3ms/step - loss: 0.0493 - accuracy: 0.9355 - mean_squared_error: 0.0493 - val_loss: 0.0499 - val_accuracy: 0.9356 - val_mean_squared_error: 0.0499\n",
      "Epoch 41/50\n"
     ]
    },
    {
     "name": "stdout",
     "output_type": "stream",
     "text": [
      "469/469 [==============================] - 1s 3ms/step - loss: 0.0490 - accuracy: 0.9366 - mean_squared_error: 0.0490 - val_loss: 0.0494 - val_accuracy: 0.9361 - val_mean_squared_error: 0.0494\n",
      "Epoch 42/50\n",
      "469/469 [==============================] - 2s 4ms/step - loss: 0.0488 - accuracy: 0.9367 - mean_squared_error: 0.0488 - val_loss: 0.0494 - val_accuracy: 0.9372 - val_mean_squared_error: 0.0494\n",
      "Epoch 43/50\n",
      "469/469 [==============================] - 1s 3ms/step - loss: 0.0487 - accuracy: 0.9366 - mean_squared_error: 0.0487 - val_loss: 0.0493 - val_accuracy: 0.9365 - val_mean_squared_error: 0.0493\n",
      "Epoch 44/50\n",
      "469/469 [==============================] - 1s 3ms/step - loss: 0.0486 - accuracy: 0.9367 - mean_squared_error: 0.0486 - val_loss: 0.0489 - val_accuracy: 0.9375 - val_mean_squared_error: 0.0489\n",
      "Epoch 45/50\n",
      "469/469 [==============================] - 2s 3ms/step - loss: 0.0483 - accuracy: 0.9366 - mean_squared_error: 0.0483 - val_loss: 0.0488 - val_accuracy: 0.9383 - val_mean_squared_error: 0.0488\n",
      "Epoch 46/50\n",
      "469/469 [==============================] - 2s 4ms/step - loss: 0.0482 - accuracy: 0.9375 - mean_squared_error: 0.0482 - val_loss: 0.0487 - val_accuracy: 0.9380 - val_mean_squared_error: 0.0487\n",
      "Epoch 47/50\n",
      "469/469 [==============================] - 2s 5ms/step - loss: 0.0481 - accuracy: 0.9374 - mean_squared_error: 0.0481 - val_loss: 0.0485 - val_accuracy: 0.9381 - val_mean_squared_error: 0.0485\n",
      "Epoch 48/50\n",
      "469/469 [==============================] - 2s 5ms/step - loss: 0.0479 - accuracy: 0.9384 - mean_squared_error: 0.0479 - val_loss: 0.0485 - val_accuracy: 0.9387 - val_mean_squared_error: 0.0485\n",
      "Epoch 49/50\n",
      "469/469 [==============================] - 2s 5ms/step - loss: 0.0477 - accuracy: 0.9380 - mean_squared_error: 0.0477 - val_loss: 0.0483 - val_accuracy: 0.9389 - val_mean_squared_error: 0.0483\n",
      "Epoch 50/50\n",
      "469/469 [==============================] - 2s 5ms/step - loss: 0.0476 - accuracy: 0.9384 - mean_squared_error: 0.0476 - val_loss: 0.0481 - val_accuracy: 0.9387 - val_mean_squared_error: 0.0481\n",
      "\n",
      "accuracy: 0.938826322555542 | mean_squared_error: 0.047255609184503555\n"
     ]
    }
   ],
   "source": [
    "model = Sequential([\n",
    "    Dense(10, activation='tanh'),\n",
    "    # output layer\n",
    "    Dense(2, activation='sigmoid'),\n",
    "])\n",
    "train_and_evaluate_model(model, data)"
   ]
  },
  {
   "cell_type": "markdown",
   "metadata": {},
   "source": [
    "Note the large improvement obtained. The next configuration to modify will be the loss function. The default we are using right now is the mean squared error, which is not the best when we know that the output corresponds to probabilities. On the other hand, the Cross Entropy Loss works very well for this problem, given that the loss values produced for predictions close the incorrect value increase exponentially towards infinity. The mean squared error's maximum loss is 1 for probabilities. Larger loss values will also produce larger gradients. Try adding as the last parameter passed to the train_and_evaluate_model method the following: loss=\"binary_crossentropy\".\n",
    "\n",
    "I want to point out the large improvement obtained. The next configuration I will modify is the loss function. The default being used right now is the mean squared error, which is not the best when we know that the output corresponds to probabilities. On the other hand, the Cross Entropy Loss works very well for this problem, given that the loss values produced for predictions close the incorrect value increase exponentially towards infinity. The mean squared error's maximum loss is 1 for probabilities. Larger loss values will also produce larger gradients. I added as the last parameter passed to the train_and_evaluate_model method the following: loss=\"binary_crossentropy\"."
   ]
  },
  {
   "cell_type": "code",
   "execution_count": 21,
   "metadata": {
    "jupyter": {
     "outputs_hidden": false
    },
    "pycharm": {
     "name": "#%%\n"
    },
    "scrolled": true
   },
   "outputs": [
    {
     "name": "stdout",
     "output_type": "stream",
     "text": [
      "Epoch 1/50\n",
      "469/469 [==============================] - 2s 3ms/step - loss: 0.3301 - accuracy: 0.8667 - mean_squared_error: 0.1007 - val_loss: 0.2414 - val_accuracy: 0.9051 - val_mean_squared_error: 0.0703\n",
      "Epoch 2/50\n",
      "469/469 [==============================] - 1s 2ms/step - loss: 0.2392 - accuracy: 0.9050 - mean_squared_error: 0.0704 - val_loss: 0.2300 - val_accuracy: 0.9121 - val_mean_squared_error: 0.0667\n",
      "Epoch 3/50\n",
      "469/469 [==============================] - 1s 2ms/step - loss: 0.2286 - accuracy: 0.9099 - mean_squared_error: 0.0673 - val_loss: 0.2219 - val_accuracy: 0.9139 - val_mean_squared_error: 0.0642\n",
      "Epoch 4/50\n",
      "469/469 [==============================] - 1s 2ms/step - loss: 0.2190 - accuracy: 0.9133 - mean_squared_error: 0.0643 - val_loss: 0.2137 - val_accuracy: 0.9167 - val_mean_squared_error: 0.0618\n",
      "Epoch 5/50\n",
      "469/469 [==============================] - 1s 2ms/step - loss: 0.2105 - accuracy: 0.9165 - mean_squared_error: 0.0617 - val_loss: 0.2053 - val_accuracy: 0.9203 - val_mean_squared_error: 0.0592\n",
      "Epoch 6/50\n",
      "469/469 [==============================] - 1s 2ms/step - loss: 0.2022 - accuracy: 0.9197 - mean_squared_error: 0.0591 - val_loss: 0.1997 - val_accuracy: 0.9225 - val_mean_squared_error: 0.0573\n",
      "Epoch 7/50\n",
      "469/469 [==============================] - 1s 2ms/step - loss: 0.1951 - accuracy: 0.9227 - mean_squared_error: 0.0568 - val_loss: 0.1933 - val_accuracy: 0.9259 - val_mean_squared_error: 0.0552\n",
      "Epoch 8/50\n",
      "469/469 [==============================] - 1s 2ms/step - loss: 0.1890 - accuracy: 0.9256 - mean_squared_error: 0.0549 - val_loss: 0.1887 - val_accuracy: 0.9276 - val_mean_squared_error: 0.0541\n",
      "Epoch 9/50\n",
      "469/469 [==============================] - 1s 2ms/step - loss: 0.1841 - accuracy: 0.9285 - mean_squared_error: 0.0533 - val_loss: 0.1855 - val_accuracy: 0.9315 - val_mean_squared_error: 0.0524\n",
      "Epoch 10/50\n",
      "469/469 [==============================] - 1s 2ms/step - loss: 0.1803 - accuracy: 0.9310 - mean_squared_error: 0.0520 - val_loss: 0.1822 - val_accuracy: 0.9320 - val_mean_squared_error: 0.0514\n",
      "Epoch 11/50\n",
      "469/469 [==============================] - 1s 2ms/step - loss: 0.1768 - accuracy: 0.9322 - mean_squared_error: 0.0510 - val_loss: 0.1799 - val_accuracy: 0.9337 - val_mean_squared_error: 0.0507\n",
      "Epoch 12/50\n",
      "469/469 [==============================] - 1s 2ms/step - loss: 0.1742 - accuracy: 0.9329 - mean_squared_error: 0.0501 - val_loss: 0.1772 - val_accuracy: 0.9347 - val_mean_squared_error: 0.0499\n",
      "Epoch 13/50\n",
      "469/469 [==============================] - 1s 2ms/step - loss: 0.1717 - accuracy: 0.9345 - mean_squared_error: 0.0494 - val_loss: 0.1773 - val_accuracy: 0.9325 - val_mean_squared_error: 0.0497\n",
      "Epoch 14/50\n",
      "469/469 [==============================] - 1s 2ms/step - loss: 0.1696 - accuracy: 0.9343 - mean_squared_error: 0.0490 - val_loss: 0.1758 - val_accuracy: 0.9311 - val_mean_squared_error: 0.0504\n",
      "Epoch 15/50\n",
      "469/469 [==============================] - 1s 2ms/step - loss: 0.1678 - accuracy: 0.9361 - mean_squared_error: 0.0483 - val_loss: 0.1725 - val_accuracy: 0.9369 - val_mean_squared_error: 0.0488\n",
      "Epoch 16/50\n",
      "469/469 [==============================] - 1s 2ms/step - loss: 0.1664 - accuracy: 0.9365 - mean_squared_error: 0.0480 - val_loss: 0.1710 - val_accuracy: 0.9357 - val_mean_squared_error: 0.0484\n",
      "Epoch 17/50\n",
      "469/469 [==============================] - 1s 2ms/step - loss: 0.1651 - accuracy: 0.9372 - mean_squared_error: 0.0476 - val_loss: 0.1691 - val_accuracy: 0.9373 - val_mean_squared_error: 0.0477\n",
      "Epoch 18/50\n",
      "469/469 [==============================] - 1s 2ms/step - loss: 0.1638 - accuracy: 0.9371 - mean_squared_error: 0.0472 - val_loss: 0.1699 - val_accuracy: 0.9371 - val_mean_squared_error: 0.0476\n",
      "Epoch 19/50\n",
      "469/469 [==============================] - 1s 2ms/step - loss: 0.1628 - accuracy: 0.9376 - mean_squared_error: 0.0470 - val_loss: 0.1678 - val_accuracy: 0.9369 - val_mean_squared_error: 0.0477\n",
      "Epoch 20/50\n",
      "469/469 [==============================] - 1s 2ms/step - loss: 0.1618 - accuracy: 0.9387 - mean_squared_error: 0.0466 - val_loss: 0.1674 - val_accuracy: 0.9369 - val_mean_squared_error: 0.0473\n",
      "Epoch 21/50\n",
      "469/469 [==============================] - 1s 2ms/step - loss: 0.1610 - accuracy: 0.9376 - mean_squared_error: 0.0465 - val_loss: 0.1672 - val_accuracy: 0.9356 - val_mean_squared_error: 0.0477\n",
      "Epoch 22/50\n",
      "469/469 [==============================] - 2s 3ms/step - loss: 0.1605 - accuracy: 0.9388 - mean_squared_error: 0.0463 - val_loss: 0.1656 - val_accuracy: 0.9371 - val_mean_squared_error: 0.0470\n",
      "Epoch 23/50\n",
      "469/469 [==============================] - 2s 5ms/step - loss: 0.1595 - accuracy: 0.9389 - mean_squared_error: 0.0461 - val_loss: 0.1659 - val_accuracy: 0.9383 - val_mean_squared_error: 0.0469\n",
      "Epoch 24/50\n",
      "469/469 [==============================] - 2s 5ms/step - loss: 0.1590 - accuracy: 0.9383 - mean_squared_error: 0.0459 - val_loss: 0.1656 - val_accuracy: 0.9391 - val_mean_squared_error: 0.0468\n",
      "Epoch 25/50\n",
      "469/469 [==============================] - 2s 5ms/step - loss: 0.1584 - accuracy: 0.9392 - mean_squared_error: 0.0457 - val_loss: 0.1636 - val_accuracy: 0.9389 - val_mean_squared_error: 0.0463\n",
      "Epoch 26/50\n",
      "469/469 [==============================] - 2s 5ms/step - loss: 0.1577 - accuracy: 0.9397 - mean_squared_error: 0.0455 - val_loss: 0.1650 - val_accuracy: 0.9387 - val_mean_squared_error: 0.0464\n",
      "Epoch 27/50\n",
      "469/469 [==============================] - 2s 5ms/step - loss: 0.1572 - accuracy: 0.9401 - mean_squared_error: 0.0453 - val_loss: 0.1633 - val_accuracy: 0.9381 - val_mean_squared_error: 0.0466\n",
      "Epoch 28/50\n",
      "469/469 [==============================] - 2s 5ms/step - loss: 0.1565 - accuracy: 0.9400 - mean_squared_error: 0.0451 - val_loss: 0.1632 - val_accuracy: 0.9392 - val_mean_squared_error: 0.0460\n",
      "Epoch 29/50\n",
      "469/469 [==============================] - 2s 5ms/step - loss: 0.1557 - accuracy: 0.9402 - mean_squared_error: 0.0450 - val_loss: 0.1626 - val_accuracy: 0.9391 - val_mean_squared_error: 0.0459\n",
      "Epoch 30/50\n",
      "469/469 [==============================] - 2s 5ms/step - loss: 0.1555 - accuracy: 0.9408 - mean_squared_error: 0.0449 - val_loss: 0.1608 - val_accuracy: 0.9413 - val_mean_squared_error: 0.0454\n",
      "Epoch 31/50\n",
      "469/469 [==============================] - 1s 3ms/step - loss: 0.1546 - accuracy: 0.9410 - mean_squared_error: 0.0446 - val_loss: 0.1621 - val_accuracy: 0.9393 - val_mean_squared_error: 0.0460\n",
      "Epoch 32/50\n",
      "469/469 [==============================] - 2s 4ms/step - loss: 0.1542 - accuracy: 0.9407 - mean_squared_error: 0.0445 - val_loss: 0.1609 - val_accuracy: 0.9379 - val_mean_squared_error: 0.0458\n",
      "Epoch 33/50\n",
      "469/469 [==============================] - 2s 4ms/step - loss: 0.1531 - accuracy: 0.9415 - mean_squared_error: 0.0441 - val_loss: 0.1590 - val_accuracy: 0.9400 - val_mean_squared_error: 0.0451\n",
      "Epoch 34/50\n",
      "469/469 [==============================] - 2s 5ms/step - loss: 0.1524 - accuracy: 0.9422 - mean_squared_error: 0.0439 - val_loss: 0.1581 - val_accuracy: 0.9428 - val_mean_squared_error: 0.0444\n",
      "Epoch 35/50\n",
      "469/469 [==============================] - 2s 5ms/step - loss: 0.1518 - accuracy: 0.9423 - mean_squared_error: 0.0436 - val_loss: 0.1597 - val_accuracy: 0.9411 - val_mean_squared_error: 0.0448\n",
      "Epoch 36/50\n",
      "469/469 [==============================] - 2s 5ms/step - loss: 0.1511 - accuracy: 0.9424 - mean_squared_error: 0.0434 - val_loss: 0.1584 - val_accuracy: 0.9424 - val_mean_squared_error: 0.0445\n",
      "Epoch 37/50\n",
      "469/469 [==============================] - 2s 5ms/step - loss: 0.1509 - accuracy: 0.9424 - mean_squared_error: 0.0435 - val_loss: 0.1568 - val_accuracy: 0.9435 - val_mean_squared_error: 0.0439\n",
      "Epoch 38/50\n",
      "469/469 [==============================] - 2s 5ms/step - loss: 0.1500 - accuracy: 0.9427 - mean_squared_error: 0.0431 - val_loss: 0.1571 - val_accuracy: 0.9404 - val_mean_squared_error: 0.0443\n",
      "Epoch 39/50\n",
      "469/469 [==============================] - 2s 5ms/step - loss: 0.1494 - accuracy: 0.9430 - mean_squared_error: 0.0429 - val_loss: 0.1560 - val_accuracy: 0.9436 - val_mean_squared_error: 0.0436\n",
      "Epoch 40/50\n",
      "469/469 [==============================] - 2s 5ms/step - loss: 0.1491 - accuracy: 0.9432 - mean_squared_error: 0.0429 - val_loss: 0.1576 - val_accuracy: 0.9400 - val_mean_squared_error: 0.0446\n",
      "Epoch 41/50\n"
     ]
    },
    {
     "name": "stdout",
     "output_type": "stream",
     "text": [
      "469/469 [==============================] - 2s 5ms/step - loss: 0.1485 - accuracy: 0.9433 - mean_squared_error: 0.0427 - val_loss: 0.1548 - val_accuracy: 0.9432 - val_mean_squared_error: 0.0434\n",
      "Epoch 42/50\n",
      "469/469 [==============================] - 2s 5ms/step - loss: 0.1481 - accuracy: 0.9442 - mean_squared_error: 0.0425 - val_loss: 0.1542 - val_accuracy: 0.9429 - val_mean_squared_error: 0.0433\n",
      "Epoch 43/50\n",
      "469/469 [==============================] - 2s 4ms/step - loss: 0.1473 - accuracy: 0.9440 - mean_squared_error: 0.0422 - val_loss: 0.1569 - val_accuracy: 0.9431 - val_mean_squared_error: 0.0441\n",
      "Epoch 44/50\n",
      "469/469 [==============================] - 1s 3ms/step - loss: 0.1474 - accuracy: 0.9440 - mean_squared_error: 0.0423 - val_loss: 0.1538 - val_accuracy: 0.9443 - val_mean_squared_error: 0.0431\n",
      "Epoch 45/50\n",
      "469/469 [==============================] - 2s 4ms/step - loss: 0.1467 - accuracy: 0.9447 - mean_squared_error: 0.0420 - val_loss: 0.1533 - val_accuracy: 0.9453 - val_mean_squared_error: 0.0430\n",
      "Epoch 46/50\n",
      "469/469 [==============================] - 2s 4ms/step - loss: 0.1463 - accuracy: 0.9439 - mean_squared_error: 0.0420 - val_loss: 0.1539 - val_accuracy: 0.9439 - val_mean_squared_error: 0.0432\n",
      "Epoch 47/50\n",
      "469/469 [==============================] - 2s 4ms/step - loss: 0.1465 - accuracy: 0.9449 - mean_squared_error: 0.0420 - val_loss: 0.1537 - val_accuracy: 0.9440 - val_mean_squared_error: 0.0428\n",
      "Epoch 48/50\n",
      "469/469 [==============================] - 2s 5ms/step - loss: 0.1458 - accuracy: 0.9445 - mean_squared_error: 0.0418 - val_loss: 0.1535 - val_accuracy: 0.9437 - val_mean_squared_error: 0.0433\n",
      "Epoch 49/50\n",
      "469/469 [==============================] - 2s 4ms/step - loss: 0.1456 - accuracy: 0.9446 - mean_squared_error: 0.0418 - val_loss: 0.1524 - val_accuracy: 0.9441 - val_mean_squared_error: 0.0428\n",
      "Epoch 50/50\n",
      "469/469 [==============================] - 2s 5ms/step - loss: 0.1454 - accuracy: 0.9449 - mean_squared_error: 0.0417 - val_loss: 0.1536 - val_accuracy: 0.9449 - val_mean_squared_error: 0.0431\n",
      "\n",
      "accuracy: 0.9454850554466248 | mean_squared_error: 0.042147450149059296\n"
     ]
    }
   ],
   "source": [
    "model = Sequential([\n",
    "    Dense(10, activation='tanh'),\n",
    "    # output layer\n",
    "    Dense(2, activation='sigmoid'),\n",
    "])\n",
    "train_and_evaluate_model(model, data, loss=\"binary_crossentropy\")"
   ]
  },
  {
   "cell_type": "markdown",
   "metadata": {},
   "source": [
    "Again, we observe an increase in the performance of the model. The next parameter to modify will be the momentum. The momentum can be interpreted as the inertia kept by the weight updates. So when it's time to update a weight using the obtained gradient, it will also consider the previous gradients obtained for that weight. Each of the previous gradients will be weighted in an exponential decay determined by the value of the momentum parameter. This will help for example to avoid getting stuck in local minima. For this, I tried adding momentum=0.9 as a new parameter."
   ]
  },
  {
   "cell_type": "code",
   "execution_count": 22,
   "metadata": {
    "jupyter": {
     "outputs_hidden": false
    },
    "pycharm": {
     "name": "#%%\n"
    },
    "scrolled": true
   },
   "outputs": [
    {
     "name": "stdout",
     "output_type": "stream",
     "text": [
      "Epoch 1/50\n",
      "469/469 [==============================] - 2s 2ms/step - loss: 0.2394 - accuracy: 0.9017 - mean_squared_error: 0.0718 - val_loss: 0.1945 - val_accuracy: 0.9208 - val_mean_squared_error: 0.0567\n",
      "Epoch 2/50\n",
      "469/469 [==============================] - 1s 2ms/step - loss: 0.1836 - accuracy: 0.9277 - mean_squared_error: 0.0537 - val_loss: 0.1812 - val_accuracy: 0.9315 - val_mean_squared_error: 0.0514\n",
      "Epoch 3/50\n",
      "469/469 [==============================] - 2s 5ms/step - loss: 0.1687 - accuracy: 0.9350 - mean_squared_error: 0.0491 - val_loss: 0.1641 - val_accuracy: 0.9388 - val_mean_squared_error: 0.0465\n",
      "Epoch 4/50\n",
      "469/469 [==============================] - 2s 5ms/step - loss: 0.1634 - accuracy: 0.9372 - mean_squared_error: 0.0474 - val_loss: 0.1603 - val_accuracy: 0.9412 - val_mean_squared_error: 0.0450\n",
      "Epoch 5/50\n",
      "469/469 [==============================] - 3s 5ms/step - loss: 0.1588 - accuracy: 0.9382 - mean_squared_error: 0.0461 - val_loss: 0.1618 - val_accuracy: 0.9381 - val_mean_squared_error: 0.0458\n",
      "Epoch 6/50\n",
      "469/469 [==============================] - 2s 4ms/step - loss: 0.1570 - accuracy: 0.9385 - mean_squared_error: 0.0458 - val_loss: 0.1593 - val_accuracy: 0.9432 - val_mean_squared_error: 0.0448\n",
      "Epoch 7/50\n",
      "469/469 [==============================] - 2s 5ms/step - loss: 0.1557 - accuracy: 0.9397 - mean_squared_error: 0.0452 - val_loss: 0.1585 - val_accuracy: 0.9416 - val_mean_squared_error: 0.0453\n",
      "Epoch 8/50\n",
      "469/469 [==============================] - 2s 4ms/step - loss: 0.1526 - accuracy: 0.9419 - mean_squared_error: 0.0442 - val_loss: 0.1540 - val_accuracy: 0.9415 - val_mean_squared_error: 0.0439\n",
      "Epoch 9/50\n",
      "469/469 [==============================] - 2s 4ms/step - loss: 0.1531 - accuracy: 0.9404 - mean_squared_error: 0.0445 - val_loss: 0.1511 - val_accuracy: 0.9431 - val_mean_squared_error: 0.0430\n",
      "Epoch 10/50\n",
      "469/469 [==============================] - 2s 4ms/step - loss: 0.1506 - accuracy: 0.9419 - mean_squared_error: 0.0438 - val_loss: 0.1581 - val_accuracy: 0.9404 - val_mean_squared_error: 0.0454\n",
      "Epoch 11/50\n",
      "469/469 [==============================] - 2s 4ms/step - loss: 0.1491 - accuracy: 0.9432 - mean_squared_error: 0.0430 - val_loss: 0.1563 - val_accuracy: 0.9401 - val_mean_squared_error: 0.0447\n",
      "Epoch 12/50\n",
      "469/469 [==============================] - 2s 4ms/step - loss: 0.1500 - accuracy: 0.9419 - mean_squared_error: 0.0434 - val_loss: 0.1596 - val_accuracy: 0.9407 - val_mean_squared_error: 0.0452\n",
      "Epoch 13/50\n",
      "469/469 [==============================] - 2s 4ms/step - loss: 0.1488 - accuracy: 0.9430 - mean_squared_error: 0.0430 - val_loss: 0.1600 - val_accuracy: 0.9389 - val_mean_squared_error: 0.0460\n",
      "Epoch 14/50\n",
      "469/469 [==============================] - 2s 4ms/step - loss: 0.1475 - accuracy: 0.9430 - mean_squared_error: 0.0427 - val_loss: 0.1696 - val_accuracy: 0.9359 - val_mean_squared_error: 0.0489\n",
      "Epoch 15/50\n",
      "469/469 [==============================] - 2s 4ms/step - loss: 0.1481 - accuracy: 0.9427 - mean_squared_error: 0.0429 - val_loss: 0.1539 - val_accuracy: 0.9416 - val_mean_squared_error: 0.0439\n",
      "Epoch 16/50\n",
      "469/469 [==============================] - 2s 4ms/step - loss: 0.1493 - accuracy: 0.9434 - mean_squared_error: 0.0432 - val_loss: 0.1507 - val_accuracy: 0.9449 - val_mean_squared_error: 0.0427\n",
      "Epoch 17/50\n",
      "469/469 [==============================] - 2s 4ms/step - loss: 0.1485 - accuracy: 0.9424 - mean_squared_error: 0.0430 - val_loss: 0.1552 - val_accuracy: 0.9400 - val_mean_squared_error: 0.0445\n",
      "Epoch 18/50\n",
      "469/469 [==============================] - 1s 3ms/step - loss: 0.1487 - accuracy: 0.9424 - mean_squared_error: 0.0429 - val_loss: 0.1496 - val_accuracy: 0.9465 - val_mean_squared_error: 0.0417\n",
      "Epoch 19/50\n",
      "469/469 [==============================] - 1s 3ms/step - loss: 0.1478 - accuracy: 0.9425 - mean_squared_error: 0.0428 - val_loss: 0.1506 - val_accuracy: 0.9445 - val_mean_squared_error: 0.0426\n",
      "Epoch 20/50\n",
      "469/469 [==============================] - 1s 3ms/step - loss: 0.1465 - accuracy: 0.9441 - mean_squared_error: 0.0424 - val_loss: 0.1536 - val_accuracy: 0.9441 - val_mean_squared_error: 0.0430\n",
      "Epoch 21/50\n",
      "469/469 [==============================] - 1s 3ms/step - loss: 0.1460 - accuracy: 0.9430 - mean_squared_error: 0.0424 - val_loss: 0.1483 - val_accuracy: 0.9448 - val_mean_squared_error: 0.0418\n",
      "Epoch 22/50\n",
      "469/469 [==============================] - 1s 3ms/step - loss: 0.1456 - accuracy: 0.9424 - mean_squared_error: 0.0422 - val_loss: 0.1535 - val_accuracy: 0.9415 - val_mean_squared_error: 0.0437\n",
      "Epoch 23/50\n",
      "469/469 [==============================] - 1s 3ms/step - loss: 0.1466 - accuracy: 0.9430 - mean_squared_error: 0.0426 - val_loss: 0.1530 - val_accuracy: 0.9443 - val_mean_squared_error: 0.0432\n",
      "Epoch 24/50\n",
      "469/469 [==============================] - 1s 3ms/step - loss: 0.1459 - accuracy: 0.9424 - mean_squared_error: 0.0424 - val_loss: 0.1576 - val_accuracy: 0.9423 - val_mean_squared_error: 0.0443\n",
      "Epoch 25/50\n",
      "469/469 [==============================] - 2s 3ms/step - loss: 0.1465 - accuracy: 0.9435 - mean_squared_error: 0.0423 - val_loss: 0.1500 - val_accuracy: 0.9455 - val_mean_squared_error: 0.0422\n",
      "Epoch 26/50\n",
      "469/469 [==============================] - 2s 4ms/step - loss: 0.1450 - accuracy: 0.9435 - mean_squared_error: 0.0421 - val_loss: 0.1532 - val_accuracy: 0.9411 - val_mean_squared_error: 0.0436\n",
      "Epoch 27/50\n",
      "469/469 [==============================] - 2s 4ms/step - loss: 0.1431 - accuracy: 0.9440 - mean_squared_error: 0.0416 - val_loss: 0.1453 - val_accuracy: 0.9464 - val_mean_squared_error: 0.0411\n",
      "Epoch 28/50\n",
      "469/469 [==============================] - 2s 4ms/step - loss: 0.1413 - accuracy: 0.9460 - mean_squared_error: 0.0409 - val_loss: 0.1463 - val_accuracy: 0.9469 - val_mean_squared_error: 0.0409\n",
      "Epoch 29/50\n",
      "469/469 [==============================] - 2s 4ms/step - loss: 0.1403 - accuracy: 0.9465 - mean_squared_error: 0.0405 - val_loss: 0.1456 - val_accuracy: 0.9473 - val_mean_squared_error: 0.0406\n",
      "Epoch 30/50\n",
      "469/469 [==============================] - 2s 4ms/step - loss: 0.1375 - accuracy: 0.9474 - mean_squared_error: 0.0397 - val_loss: 0.1439 - val_accuracy: 0.9445 - val_mean_squared_error: 0.0410\n",
      "Epoch 31/50\n",
      "469/469 [==============================] - 2s 4ms/step - loss: 0.1383 - accuracy: 0.9467 - mean_squared_error: 0.0399 - val_loss: 0.1566 - val_accuracy: 0.9441 - val_mean_squared_error: 0.0437\n",
      "Epoch 32/50\n",
      "469/469 [==============================] - 2s 4ms/step - loss: 0.1373 - accuracy: 0.9473 - mean_squared_error: 0.0396 - val_loss: 0.1455 - val_accuracy: 0.9448 - val_mean_squared_error: 0.0414\n",
      "Epoch 33/50\n",
      "469/469 [==============================] - 2s 4ms/step - loss: 0.1359 - accuracy: 0.9478 - mean_squared_error: 0.0391 - val_loss: 0.1416 - val_accuracy: 0.9471 - val_mean_squared_error: 0.0400\n",
      "Epoch 34/50\n",
      "469/469 [==============================] - 2s 4ms/step - loss: 0.1364 - accuracy: 0.9490 - mean_squared_error: 0.0393 - val_loss: 0.1463 - val_accuracy: 0.9448 - val_mean_squared_error: 0.0412\n",
      "Epoch 35/50\n",
      "469/469 [==============================] - 2s 4ms/step - loss: 0.1339 - accuracy: 0.9488 - mean_squared_error: 0.0386 - val_loss: 0.1442 - val_accuracy: 0.9484 - val_mean_squared_error: 0.0401\n",
      "Epoch 36/50\n",
      "469/469 [==============================] - 2s 4ms/step - loss: 0.1351 - accuracy: 0.9486 - mean_squared_error: 0.0386 - val_loss: 0.1418 - val_accuracy: 0.9503 - val_mean_squared_error: 0.0393\n",
      "Epoch 37/50\n",
      "469/469 [==============================] - 2s 4ms/step - loss: 0.1349 - accuracy: 0.9478 - mean_squared_error: 0.0391 - val_loss: 0.1473 - val_accuracy: 0.9464 - val_mean_squared_error: 0.0410\n",
      "Epoch 38/50\n",
      "469/469 [==============================] - 2s 4ms/step - loss: 0.1348 - accuracy: 0.9493 - mean_squared_error: 0.0387 - val_loss: 0.1390 - val_accuracy: 0.9487 - val_mean_squared_error: 0.0388\n",
      "Epoch 39/50\n",
      "469/469 [==============================] - 2s 4ms/step - loss: 0.1344 - accuracy: 0.9480 - mean_squared_error: 0.0390 - val_loss: 0.1402 - val_accuracy: 0.9501 - val_mean_squared_error: 0.0387\n",
      "Epoch 40/50\n",
      "469/469 [==============================] - 2s 4ms/step - loss: 0.1341 - accuracy: 0.9483 - mean_squared_error: 0.0385 - val_loss: 0.1443 - val_accuracy: 0.9455 - val_mean_squared_error: 0.0405\n",
      "Epoch 41/50\n"
     ]
    },
    {
     "name": "stdout",
     "output_type": "stream",
     "text": [
      "469/469 [==============================] - 2s 4ms/step - loss: 0.1340 - accuracy: 0.9490 - mean_squared_error: 0.0385 - val_loss: 0.1379 - val_accuracy: 0.9504 - val_mean_squared_error: 0.0379\n",
      "Epoch 42/50\n",
      "469/469 [==============================] - 2s 4ms/step - loss: 0.1334 - accuracy: 0.9491 - mean_squared_error: 0.0384 - val_loss: 0.1386 - val_accuracy: 0.9489 - val_mean_squared_error: 0.0387\n",
      "Epoch 43/50\n",
      "469/469 [==============================] - 2s 4ms/step - loss: 0.1326 - accuracy: 0.9497 - mean_squared_error: 0.0381 - val_loss: 0.1446 - val_accuracy: 0.9481 - val_mean_squared_error: 0.0403\n",
      "Epoch 44/50\n",
      "469/469 [==============================] - 2s 4ms/step - loss: 0.1334 - accuracy: 0.9489 - mean_squared_error: 0.0382 - val_loss: 0.1385 - val_accuracy: 0.9492 - val_mean_squared_error: 0.0385\n",
      "Epoch 45/50\n",
      "469/469 [==============================] - 2s 4ms/step - loss: 0.1323 - accuracy: 0.9498 - mean_squared_error: 0.0379 - val_loss: 0.1373 - val_accuracy: 0.9521 - val_mean_squared_error: 0.0379\n",
      "Epoch 46/50\n",
      "469/469 [==============================] - 2s 4ms/step - loss: 0.1330 - accuracy: 0.9490 - mean_squared_error: 0.0383 - val_loss: 0.1339 - val_accuracy: 0.9516 - val_mean_squared_error: 0.0373\n",
      "Epoch 47/50\n",
      "469/469 [==============================] - 2s 4ms/step - loss: 0.1334 - accuracy: 0.9492 - mean_squared_error: 0.0383 - val_loss: 0.1363 - val_accuracy: 0.9509 - val_mean_squared_error: 0.0376\n",
      "Epoch 48/50\n",
      "469/469 [==============================] - 2s 4ms/step - loss: 0.1329 - accuracy: 0.9495 - mean_squared_error: 0.0382 - val_loss: 0.1373 - val_accuracy: 0.9499 - val_mean_squared_error: 0.0380\n",
      "Epoch 49/50\n",
      "469/469 [==============================] - 1s 3ms/step - loss: 0.1318 - accuracy: 0.9491 - mean_squared_error: 0.0379 - val_loss: 0.1385 - val_accuracy: 0.9481 - val_mean_squared_error: 0.0387\n",
      "Epoch 50/50\n",
      "469/469 [==============================] - 1s 3ms/step - loss: 0.1312 - accuracy: 0.9501 - mean_squared_error: 0.0378 - val_loss: 0.1400 - val_accuracy: 0.9495 - val_mean_squared_error: 0.0388\n",
      "\n",
      "accuracy: 0.9494911432266235 | mean_squared_error: 0.03882622346282005\n"
     ]
    }
   ],
   "source": [
    "model = Sequential([\n",
    "    Dense(10, activation='tanh'),\n",
    "    # output layer\n",
    "    Dense(2, activation='sigmoid'),\n",
    "])\n",
    "train_and_evaluate_model(model, data, loss=\"binary_crossentropy\", momentum=0.9)"
   ]
  },
  {
   "cell_type": "markdown",
   "metadata": {},
   "source": [
    "We see that the metrics improve again. I will try now to add a second hidden layer with tanh as the activation function. Note that adding more hidden layers increases the complexity of the model, which can sometimes lead to poorer performances. The new network should look as the following diagram."
   ]
  },
  {
   "cell_type": "code",
   "execution_count": 23,
   "metadata": {
    "jupyter": {
     "outputs_hidden": false
    },
    "pycharm": {
     "name": "#%%\n"
    }
   },
   "outputs": [
    {
     "data": {
      "image/svg+xml": [
       "<svg xmlns=\"http://www.w3.org/2000/svg\" style=\"cursor: move;\" width=\"1872\" height=\"939\"><g transform=\"translate(-453.4407967506179,-189.33900437484783) scale(1.3717332885905962)\"><path class=\"link\" style=\"stroke-width: 0.5px; stroke-opacity: 1; stroke: rgb(80, 80, 80);\" marker-end=\"\" d=\"M722.6666666666666,279.5, 902.6666666666666,279.5\"/><path class=\"link\" style=\"stroke-width: 0.5px; stroke-opacity: 1; stroke: rgb(80, 80, 80);\" marker-end=\"\" d=\"M722.6666666666666,319.5, 902.6666666666666,279.5\"/><path class=\"link\" style=\"stroke-width: 0.5px; stroke-opacity: 1; stroke: rgb(80, 80, 80);\" marker-end=\"\" d=\"M722.6666666666666,359.5, 902.6666666666666,279.5\"/><path class=\"link\" style=\"stroke-width: 0.5px; stroke-opacity: 1; stroke: rgb(80, 80, 80);\" marker-end=\"\" d=\"M722.6666666666666,399.5, 902.6666666666666,279.5\"/><path class=\"link\" style=\"stroke-width: 0.5px; stroke-opacity: 1; stroke: rgb(80, 80, 80);\" marker-end=\"\" d=\"M722.6666666666666,439.5, 902.6666666666666,279.5\"/><path class=\"link\" style=\"stroke-width: 0.5px; stroke-opacity: 1; stroke: rgb(80, 80, 80);\" marker-end=\"\" d=\"M722.6666666666666,479.5, 902.6666666666666,279.5\"/><path class=\"link\" style=\"stroke-width: 0.5px; stroke-opacity: 1; stroke: rgb(80, 80, 80);\" marker-end=\"\" d=\"M722.6666666666666,519.5, 902.6666666666666,279.5\"/><path class=\"link\" style=\"stroke-width: 0.5px; stroke-opacity: 1; stroke: rgb(80, 80, 80);\" marker-end=\"\" d=\"M722.6666666666666,559.5, 902.6666666666666,279.5\"/><path class=\"link\" style=\"stroke-width: 0.5px; stroke-opacity: 1; stroke: rgb(80, 80, 80);\" marker-end=\"\" d=\"M722.6666666666666,599.5, 902.6666666666666,279.5\"/><path class=\"link\" style=\"stroke-width: 0.5px; stroke-opacity: 1; stroke: rgb(80, 80, 80);\" marker-end=\"\" d=\"M722.6666666666666,639.5, 902.6666666666666,279.5\"/><path class=\"link\" style=\"stroke-width: 0.5px; stroke-opacity: 1; stroke: rgb(80, 80, 80);\" marker-end=\"\" d=\"M902.6666666666666,279.5, 1082.6666666666667,279.5\"/><path class=\"link\" style=\"stroke-width: 0.5px; stroke-opacity: 1; stroke: rgb(80, 80, 80);\" marker-end=\"\" d=\"M722.6666666666666,279.5, 902.6666666666666,319.5\"/><path class=\"link\" style=\"stroke-width: 0.5px; stroke-opacity: 1; stroke: rgb(80, 80, 80);\" marker-end=\"\" d=\"M722.6666666666666,319.5, 902.6666666666666,319.5\"/><path class=\"link\" style=\"stroke-width: 0.5px; stroke-opacity: 1; stroke: rgb(80, 80, 80);\" marker-end=\"\" d=\"M722.6666666666666,359.5, 902.6666666666666,319.5\"/><path class=\"link\" style=\"stroke-width: 0.5px; stroke-opacity: 1; stroke: rgb(80, 80, 80);\" marker-end=\"\" d=\"M722.6666666666666,399.5, 902.6666666666666,319.5\"/><path class=\"link\" style=\"stroke-width: 0.5px; stroke-opacity: 1; stroke: rgb(80, 80, 80);\" marker-end=\"\" d=\"M722.6666666666666,439.5, 902.6666666666666,319.5\"/><path class=\"link\" style=\"stroke-width: 0.5px; stroke-opacity: 1; stroke: rgb(80, 80, 80);\" marker-end=\"\" d=\"M722.6666666666666,479.5, 902.6666666666666,319.5\"/><path class=\"link\" style=\"stroke-width: 0.5px; stroke-opacity: 1; stroke: rgb(80, 80, 80);\" marker-end=\"\" d=\"M722.6666666666666,519.5, 902.6666666666666,319.5\"/><path class=\"link\" style=\"stroke-width: 0.5px; stroke-opacity: 1; stroke: rgb(80, 80, 80);\" marker-end=\"\" d=\"M722.6666666666666,559.5, 902.6666666666666,319.5\"/><path class=\"link\" style=\"stroke-width: 0.5px; stroke-opacity: 1; stroke: rgb(80, 80, 80);\" marker-end=\"\" d=\"M722.6666666666666,599.5, 902.6666666666666,319.5\"/><path class=\"link\" style=\"stroke-width: 0.5px; stroke-opacity: 1; stroke: rgb(80, 80, 80);\" marker-end=\"\" d=\"M722.6666666666666,639.5, 902.6666666666666,319.5\"/><path class=\"link\" style=\"stroke-width: 0.5px; stroke-opacity: 1; stroke: rgb(80, 80, 80);\" marker-end=\"\" d=\"M902.6666666666666,319.5, 1082.6666666666667,279.5\"/><path class=\"link\" style=\"stroke-width: 0.5px; stroke-opacity: 1; stroke: rgb(80, 80, 80);\" marker-end=\"\" d=\"M722.6666666666666,279.5, 902.6666666666666,359.5\"/><path class=\"link\" style=\"stroke-width: 0.5px; stroke-opacity: 1; stroke: rgb(80, 80, 80);\" marker-end=\"\" d=\"M722.6666666666666,319.5, 902.6666666666666,359.5\"/><path class=\"link\" style=\"stroke-width: 0.5px; stroke-opacity: 1; stroke: rgb(80, 80, 80);\" marker-end=\"\" d=\"M722.6666666666666,359.5, 902.6666666666666,359.5\"/><path class=\"link\" style=\"stroke-width: 0.5px; stroke-opacity: 1; stroke: rgb(80, 80, 80);\" marker-end=\"\" d=\"M722.6666666666666,399.5, 902.6666666666666,359.5\"/><path class=\"link\" style=\"stroke-width: 0.5px; stroke-opacity: 1; stroke: rgb(80, 80, 80);\" marker-end=\"\" d=\"M722.6666666666666,439.5, 902.6666666666666,359.5\"/><path class=\"link\" style=\"stroke-width: 0.5px; stroke-opacity: 1; stroke: rgb(80, 80, 80);\" marker-end=\"\" d=\"M722.6666666666666,479.5, 902.6666666666666,359.5\"/><path class=\"link\" style=\"stroke-width: 0.5px; stroke-opacity: 1; stroke: rgb(80, 80, 80);\" marker-end=\"\" d=\"M722.6666666666666,519.5, 902.6666666666666,359.5\"/><path class=\"link\" style=\"stroke-width: 0.5px; stroke-opacity: 1; stroke: rgb(80, 80, 80);\" marker-end=\"\" d=\"M722.6666666666666,559.5, 902.6666666666666,359.5\"/><path class=\"link\" style=\"stroke-width: 0.5px; stroke-opacity: 1; stroke: rgb(80, 80, 80);\" marker-end=\"\" d=\"M722.6666666666666,599.5, 902.6666666666666,359.5\"/><path class=\"link\" style=\"stroke-width: 0.5px; stroke-opacity: 1; stroke: rgb(80, 80, 80);\" marker-end=\"\" d=\"M722.6666666666666,639.5, 902.6666666666666,359.5\"/><path class=\"link\" style=\"stroke-width: 0.5px; stroke-opacity: 1; stroke: rgb(80, 80, 80);\" marker-end=\"\" d=\"M902.6666666666666,359.5, 1082.6666666666667,279.5\"/><path class=\"link\" style=\"stroke-width: 0.5px; stroke-opacity: 1; stroke: rgb(80, 80, 80);\" marker-end=\"\" d=\"M722.6666666666666,279.5, 902.6666666666666,399.5\"/><path class=\"link\" style=\"stroke-width: 0.5px; stroke-opacity: 1; stroke: rgb(80, 80, 80);\" marker-end=\"\" d=\"M722.6666666666666,319.5, 902.6666666666666,399.5\"/><path class=\"link\" style=\"stroke-width: 0.5px; stroke-opacity: 1; stroke: rgb(80, 80, 80);\" marker-end=\"\" d=\"M722.6666666666666,359.5, 902.6666666666666,399.5\"/><path class=\"link\" style=\"stroke-width: 0.5px; stroke-opacity: 1; stroke: rgb(80, 80, 80);\" marker-end=\"\" d=\"M722.6666666666666,399.5, 902.6666666666666,399.5\"/><path class=\"link\" style=\"stroke-width: 0.5px; stroke-opacity: 1; stroke: rgb(80, 80, 80);\" marker-end=\"\" d=\"M722.6666666666666,439.5, 902.6666666666666,399.5\"/><path class=\"link\" style=\"stroke-width: 0.5px; stroke-opacity: 1; stroke: rgb(80, 80, 80);\" marker-end=\"\" d=\"M722.6666666666666,479.5, 902.6666666666666,399.5\"/><path class=\"link\" style=\"stroke-width: 0.5px; stroke-opacity: 1; stroke: rgb(80, 80, 80);\" marker-end=\"\" d=\"M722.6666666666666,519.5, 902.6666666666666,399.5\"/><path class=\"link\" style=\"stroke-width: 0.5px; stroke-opacity: 1; stroke: rgb(80, 80, 80);\" marker-end=\"\" d=\"M722.6666666666666,559.5, 902.6666666666666,399.5\"/><path class=\"link\" style=\"stroke-width: 0.5px; stroke-opacity: 1; stroke: rgb(80, 80, 80);\" marker-end=\"\" d=\"M722.6666666666666,599.5, 902.6666666666666,399.5\"/><path class=\"link\" style=\"stroke-width: 0.5px; stroke-opacity: 1; stroke: rgb(80, 80, 80);\" marker-end=\"\" d=\"M722.6666666666666,639.5, 902.6666666666666,399.5\"/><path class=\"link\" style=\"stroke-width: 0.5px; stroke-opacity: 1; stroke: rgb(80, 80, 80);\" marker-end=\"\" d=\"M902.6666666666666,399.5, 1082.6666666666667,279.5\"/><path class=\"link\" style=\"stroke-width: 0.5px; stroke-opacity: 1; stroke: rgb(80, 80, 80);\" marker-end=\"\" d=\"M722.6666666666666,279.5, 902.6666666666666,439.5\"/><path class=\"link\" style=\"stroke-width: 0.5px; stroke-opacity: 1; stroke: rgb(80, 80, 80);\" marker-end=\"\" d=\"M722.6666666666666,319.5, 902.6666666666666,439.5\"/><path class=\"link\" style=\"stroke-width: 0.5px; stroke-opacity: 1; stroke: rgb(80, 80, 80);\" marker-end=\"\" d=\"M722.6666666666666,359.5, 902.6666666666666,439.5\"/><path class=\"link\" style=\"stroke-width: 0.5px; stroke-opacity: 1; stroke: rgb(80, 80, 80);\" marker-end=\"\" d=\"M722.6666666666666,399.5, 902.6666666666666,439.5\"/><path class=\"link\" style=\"stroke-width: 0.5px; stroke-opacity: 1; stroke: rgb(80, 80, 80);\" marker-end=\"\" d=\"M722.6666666666666,439.5, 902.6666666666666,439.5\"/><path class=\"link\" style=\"stroke-width: 0.5px; stroke-opacity: 1; stroke: rgb(80, 80, 80);\" marker-end=\"\" d=\"M722.6666666666666,479.5, 902.6666666666666,439.5\"/><path class=\"link\" style=\"stroke-width: 0.5px; stroke-opacity: 1; stroke: rgb(80, 80, 80);\" marker-end=\"\" d=\"M722.6666666666666,519.5, 902.6666666666666,439.5\"/><path class=\"link\" style=\"stroke-width: 0.5px; stroke-opacity: 1; stroke: rgb(80, 80, 80);\" marker-end=\"\" d=\"M722.6666666666666,559.5, 902.6666666666666,439.5\"/><path class=\"link\" style=\"stroke-width: 0.5px; stroke-opacity: 1; stroke: rgb(80, 80, 80);\" marker-end=\"\" d=\"M722.6666666666666,599.5, 902.6666666666666,439.5\"/><path class=\"link\" style=\"stroke-width: 0.5px; stroke-opacity: 1; stroke: rgb(80, 80, 80);\" marker-end=\"\" d=\"M722.6666666666666,639.5, 902.6666666666666,439.5\"/><path class=\"link\" style=\"stroke-width: 0.5px; stroke-opacity: 1; stroke: rgb(80, 80, 80);\" marker-end=\"\" d=\"M902.6666666666666,439.5, 1082.6666666666667,279.5\"/><path class=\"link\" style=\"stroke-width: 0.5px; stroke-opacity: 1; stroke: rgb(80, 80, 80);\" marker-end=\"\" d=\"M722.6666666666666,279.5, 902.6666666666666,479.5\"/><path class=\"link\" style=\"stroke-width: 0.5px; stroke-opacity: 1; stroke: rgb(80, 80, 80);\" marker-end=\"\" d=\"M722.6666666666666,319.5, 902.6666666666666,479.5\"/><path class=\"link\" style=\"stroke-width: 0.5px; stroke-opacity: 1; stroke: rgb(80, 80, 80);\" marker-end=\"\" d=\"M722.6666666666666,359.5, 902.6666666666666,479.5\"/><path class=\"link\" style=\"stroke-width: 0.5px; stroke-opacity: 1; stroke: rgb(80, 80, 80);\" marker-end=\"\" d=\"M722.6666666666666,399.5, 902.6666666666666,479.5\"/><path class=\"link\" style=\"stroke-width: 0.5px; stroke-opacity: 1; stroke: rgb(80, 80, 80);\" marker-end=\"\" d=\"M722.6666666666666,439.5, 902.6666666666666,479.5\"/><path class=\"link\" style=\"stroke-width: 0.5px; stroke-opacity: 1; stroke: rgb(80, 80, 80);\" marker-end=\"\" d=\"M722.6666666666666,479.5, 902.6666666666666,479.5\"/><path class=\"link\" style=\"stroke-width: 0.5px; stroke-opacity: 1; stroke: rgb(80, 80, 80);\" marker-end=\"\" d=\"M722.6666666666666,519.5, 902.6666666666666,479.5\"/><path class=\"link\" style=\"stroke-width: 0.5px; stroke-opacity: 1; stroke: rgb(80, 80, 80);\" marker-end=\"\" d=\"M722.6666666666666,559.5, 902.6666666666666,479.5\"/><path class=\"link\" style=\"stroke-width: 0.5px; stroke-opacity: 1; stroke: rgb(80, 80, 80);\" marker-end=\"\" d=\"M722.6666666666666,599.5, 902.6666666666666,479.5\"/><path class=\"link\" style=\"stroke-width: 0.5px; stroke-opacity: 1; stroke: rgb(80, 80, 80);\" marker-end=\"\" d=\"M722.6666666666666,639.5, 902.6666666666666,479.5\"/><path class=\"link\" style=\"stroke-width: 0.5px; stroke-opacity: 1; stroke: rgb(80, 80, 80);\" marker-end=\"\" d=\"M902.6666666666666,479.5, 1082.6666666666667,279.5\"/><path class=\"link\" style=\"stroke-width: 0.5px; stroke-opacity: 1; stroke: rgb(80, 80, 80);\" marker-end=\"\" d=\"M722.6666666666666,279.5, 902.6666666666666,519.5\"/><path class=\"link\" style=\"stroke-width: 0.5px; stroke-opacity: 1; stroke: rgb(80, 80, 80);\" marker-end=\"\" d=\"M722.6666666666666,319.5, 902.6666666666666,519.5\"/><path class=\"link\" style=\"stroke-width: 0.5px; stroke-opacity: 1; stroke: rgb(80, 80, 80);\" marker-end=\"\" d=\"M722.6666666666666,359.5, 902.6666666666666,519.5\"/><path class=\"link\" style=\"stroke-width: 0.5px; stroke-opacity: 1; stroke: rgb(80, 80, 80);\" marker-end=\"\" d=\"M722.6666666666666,399.5, 902.6666666666666,519.5\"/><path class=\"link\" style=\"stroke-width: 0.5px; stroke-opacity: 1; stroke: rgb(80, 80, 80);\" marker-end=\"\" d=\"M722.6666666666666,439.5, 902.6666666666666,519.5\"/><path class=\"link\" style=\"stroke-width: 0.5px; stroke-opacity: 1; stroke: rgb(80, 80, 80);\" marker-end=\"\" d=\"M722.6666666666666,479.5, 902.6666666666666,519.5\"/><path class=\"link\" style=\"stroke-width: 0.5px; stroke-opacity: 1; stroke: rgb(80, 80, 80);\" marker-end=\"\" d=\"M722.6666666666666,519.5, 902.6666666666666,519.5\"/><path class=\"link\" style=\"stroke-width: 0.5px; stroke-opacity: 1; stroke: rgb(80, 80, 80);\" marker-end=\"\" d=\"M722.6666666666666,559.5, 902.6666666666666,519.5\"/><path class=\"link\" style=\"stroke-width: 0.5px; stroke-opacity: 1; stroke: rgb(80, 80, 80);\" marker-end=\"\" d=\"M722.6666666666666,599.5, 902.6666666666666,519.5\"/><path class=\"link\" style=\"stroke-width: 0.5px; stroke-opacity: 1; stroke: rgb(80, 80, 80);\" marker-end=\"\" d=\"M722.6666666666666,639.5, 902.6666666666666,519.5\"/><path class=\"link\" style=\"stroke-width: 0.5px; stroke-opacity: 1; stroke: rgb(80, 80, 80);\" marker-end=\"\" d=\"M902.6666666666666,519.5, 1082.6666666666667,279.5\"/><path class=\"link\" style=\"stroke-width: 0.5px; stroke-opacity: 1; stroke: rgb(80, 80, 80);\" marker-end=\"\" d=\"M722.6666666666666,279.5, 902.6666666666666,559.5\"/><path class=\"link\" style=\"stroke-width: 0.5px; stroke-opacity: 1; stroke: rgb(80, 80, 80);\" marker-end=\"\" d=\"M722.6666666666666,319.5, 902.6666666666666,559.5\"/><path class=\"link\" style=\"stroke-width: 0.5px; stroke-opacity: 1; stroke: rgb(80, 80, 80);\" marker-end=\"\" d=\"M722.6666666666666,359.5, 902.6666666666666,559.5\"/><path class=\"link\" style=\"stroke-width: 0.5px; stroke-opacity: 1; stroke: rgb(80, 80, 80);\" marker-end=\"\" d=\"M722.6666666666666,399.5, 902.6666666666666,559.5\"/><path class=\"link\" style=\"stroke-width: 0.5px; stroke-opacity: 1; stroke: rgb(80, 80, 80);\" marker-end=\"\" d=\"M722.6666666666666,439.5, 902.6666666666666,559.5\"/><path class=\"link\" style=\"stroke-width: 0.5px; stroke-opacity: 1; stroke: rgb(80, 80, 80);\" marker-end=\"\" d=\"M722.6666666666666,479.5, 902.6666666666666,559.5\"/><path class=\"link\" style=\"stroke-width: 0.5px; stroke-opacity: 1; stroke: rgb(80, 80, 80);\" marker-end=\"\" d=\"M722.6666666666666,519.5, 902.6666666666666,559.5\"/><path class=\"link\" style=\"stroke-width: 0.5px; stroke-opacity: 1; stroke: rgb(80, 80, 80);\" marker-end=\"\" d=\"M722.6666666666666,559.5, 902.6666666666666,559.5\"/><path class=\"link\" style=\"stroke-width: 0.5px; stroke-opacity: 1; stroke: rgb(80, 80, 80);\" marker-end=\"\" d=\"M722.6666666666666,599.5, 902.6666666666666,559.5\"/><path class=\"link\" style=\"stroke-width: 0.5px; stroke-opacity: 1; stroke: rgb(80, 80, 80);\" marker-end=\"\" d=\"M722.6666666666666,639.5, 902.6666666666666,559.5\"/><path class=\"link\" style=\"stroke-width: 0.5px; stroke-opacity: 1; stroke: rgb(80, 80, 80);\" marker-end=\"\" d=\"M902.6666666666666,559.5, 1082.6666666666667,279.5\"/><path class=\"link\" style=\"stroke-width: 0.5px; stroke-opacity: 1; stroke: rgb(80, 80, 80);\" marker-end=\"\" d=\"M722.6666666666666,279.5, 902.6666666666666,599.5\"/><path class=\"link\" style=\"stroke-width: 0.5px; stroke-opacity: 1; stroke: rgb(80, 80, 80);\" marker-end=\"\" d=\"M722.6666666666666,319.5, 902.6666666666666,599.5\"/><path class=\"link\" style=\"stroke-width: 0.5px; stroke-opacity: 1; stroke: rgb(80, 80, 80);\" marker-end=\"\" d=\"M722.6666666666666,359.5, 902.6666666666666,599.5\"/><path class=\"link\" style=\"stroke-width: 0.5px; stroke-opacity: 1; stroke: rgb(80, 80, 80);\" marker-end=\"\" d=\"M722.6666666666666,399.5, 902.6666666666666,599.5\"/><path class=\"link\" style=\"stroke-width: 0.5px; stroke-opacity: 1; stroke: rgb(80, 80, 80);\" marker-end=\"\" d=\"M722.6666666666666,439.5, 902.6666666666666,599.5\"/><path class=\"link\" style=\"stroke-width: 0.5px; stroke-opacity: 1; stroke: rgb(80, 80, 80);\" marker-end=\"\" d=\"M722.6666666666666,479.5, 902.6666666666666,599.5\"/><path class=\"link\" style=\"stroke-width: 0.5px; stroke-opacity: 1; stroke: rgb(80, 80, 80);\" marker-end=\"\" d=\"M722.6666666666666,519.5, 902.6666666666666,599.5\"/><path class=\"link\" style=\"stroke-width: 0.5px; stroke-opacity: 1; stroke: rgb(80, 80, 80);\" marker-end=\"\" d=\"M722.6666666666666,559.5, 902.6666666666666,599.5\"/><path class=\"link\" style=\"stroke-width: 0.5px; stroke-opacity: 1; stroke: rgb(80, 80, 80);\" marker-end=\"\" d=\"M722.6666666666666,599.5, 902.6666666666666,599.5\"/><path class=\"link\" style=\"stroke-width: 0.5px; stroke-opacity: 1; stroke: rgb(80, 80, 80);\" marker-end=\"\" d=\"M722.6666666666666,639.5, 902.6666666666666,599.5\"/><path class=\"link\" style=\"stroke-width: 0.5px; stroke-opacity: 1; stroke: rgb(80, 80, 80);\" marker-end=\"\" d=\"M902.6666666666666,599.5, 1082.6666666666667,279.5\"/><path class=\"link\" style=\"stroke-width: 0.5px; stroke-opacity: 1; stroke: rgb(80, 80, 80);\" marker-end=\"\" d=\"M722.6666666666666,279.5, 902.6666666666666,639.5\"/><path class=\"link\" style=\"stroke-width: 0.5px; stroke-opacity: 1; stroke: rgb(80, 80, 80);\" marker-end=\"\" d=\"M722.6666666666666,319.5, 902.6666666666666,639.5\"/><path class=\"link\" style=\"stroke-width: 0.5px; stroke-opacity: 1; stroke: rgb(80, 80, 80);\" marker-end=\"\" d=\"M722.6666666666666,359.5, 902.6666666666666,639.5\"/><path class=\"link\" style=\"stroke-width: 0.5px; stroke-opacity: 1; stroke: rgb(80, 80, 80);\" marker-end=\"\" d=\"M722.6666666666666,399.5, 902.6666666666666,639.5\"/><path class=\"link\" style=\"stroke-width: 0.5px; stroke-opacity: 1; stroke: rgb(80, 80, 80);\" marker-end=\"\" d=\"M722.6666666666666,439.5, 902.6666666666666,639.5\"/><path class=\"link\" style=\"stroke-width: 0.5px; stroke-opacity: 1; stroke: rgb(80, 80, 80);\" marker-end=\"\" d=\"M722.6666666666666,479.5, 902.6666666666666,639.5\"/><path class=\"link\" style=\"stroke-width: 0.5px; stroke-opacity: 1; stroke: rgb(80, 80, 80);\" marker-end=\"\" d=\"M722.6666666666666,519.5, 902.6666666666666,639.5\"/><path class=\"link\" style=\"stroke-width: 0.5px; stroke-opacity: 1; stroke: rgb(80, 80, 80);\" marker-end=\"\" d=\"M722.6666666666666,559.5, 902.6666666666666,639.5\"/><path class=\"link\" style=\"stroke-width: 0.5px; stroke-opacity: 1; stroke: rgb(80, 80, 80);\" marker-end=\"\" d=\"M722.6666666666666,599.5, 902.6666666666666,639.5\"/><path class=\"link\" style=\"stroke-width: 0.5px; stroke-opacity: 1; stroke: rgb(80, 80, 80);\" marker-end=\"\" d=\"M722.6666666666666,639.5, 902.6666666666666,639.5\"/><path class=\"link\" style=\"stroke-width: 0.5px; stroke-opacity: 1; stroke: rgb(80, 80, 80);\" marker-end=\"\" d=\"M902.6666666666666,639.5, 1082.6666666666667,279.5\"/><path class=\"link\" style=\"stroke-width: 0.5px; stroke-opacity: 1; stroke: rgb(80, 80, 80);\" marker-end=\"\" d=\"M1082.6666666666667,279.5, 1262.6666666666667,439.5\"/><path class=\"link\" style=\"stroke-width: 0.5px; stroke-opacity: 1; stroke: rgb(80, 80, 80);\" marker-end=\"\" d=\"M902.6666666666666,279.5, 1082.6666666666667,319.5\"/><path class=\"link\" style=\"stroke-width: 0.5px; stroke-opacity: 1; stroke: rgb(80, 80, 80);\" marker-end=\"\" d=\"M902.6666666666666,319.5, 1082.6666666666667,319.5\"/><path class=\"link\" style=\"stroke-width: 0.5px; stroke-opacity: 1; stroke: rgb(80, 80, 80);\" marker-end=\"\" d=\"M902.6666666666666,359.5, 1082.6666666666667,319.5\"/><path class=\"link\" style=\"stroke-width: 0.5px; stroke-opacity: 1; stroke: rgb(80, 80, 80);\" marker-end=\"\" d=\"M902.6666666666666,399.5, 1082.6666666666667,319.5\"/><path class=\"link\" style=\"stroke-width: 0.5px; stroke-opacity: 1; stroke: rgb(80, 80, 80);\" marker-end=\"\" d=\"M902.6666666666666,439.5, 1082.6666666666667,319.5\"/><path class=\"link\" style=\"stroke-width: 0.5px; stroke-opacity: 1; stroke: rgb(80, 80, 80);\" marker-end=\"\" d=\"M902.6666666666666,479.5, 1082.6666666666667,319.5\"/><path class=\"link\" style=\"stroke-width: 0.5px; stroke-opacity: 1; stroke: rgb(80, 80, 80);\" marker-end=\"\" d=\"M902.6666666666666,519.5, 1082.6666666666667,319.5\"/><path class=\"link\" style=\"stroke-width: 0.5px; stroke-opacity: 1; stroke: rgb(80, 80, 80);\" marker-end=\"\" d=\"M902.6666666666666,559.5, 1082.6666666666667,319.5\"/><path class=\"link\" style=\"stroke-width: 0.5px; stroke-opacity: 1; stroke: rgb(80, 80, 80);\" marker-end=\"\" d=\"M902.6666666666666,599.5, 1082.6666666666667,319.5\"/><path class=\"link\" style=\"stroke-width: 0.5px; stroke-opacity: 1; stroke: rgb(80, 80, 80);\" marker-end=\"\" d=\"M902.6666666666666,639.5, 1082.6666666666667,319.5\"/><path class=\"link\" style=\"stroke-width: 0.5px; stroke-opacity: 1; stroke: rgb(80, 80, 80);\" marker-end=\"\" d=\"M1082.6666666666667,319.5, 1262.6666666666667,439.5\"/><path class=\"link\" style=\"stroke-width: 0.5px; stroke-opacity: 1; stroke: rgb(80, 80, 80);\" marker-end=\"\" d=\"M902.6666666666666,279.5, 1082.6666666666667,359.5\"/><path class=\"link\" style=\"stroke-width: 0.5px; stroke-opacity: 1; stroke: rgb(80, 80, 80);\" marker-end=\"\" d=\"M902.6666666666666,319.5, 1082.6666666666667,359.5\"/><path class=\"link\" style=\"stroke-width: 0.5px; stroke-opacity: 1; stroke: rgb(80, 80, 80);\" marker-end=\"\" d=\"M902.6666666666666,359.5, 1082.6666666666667,359.5\"/><path class=\"link\" style=\"stroke-width: 0.5px; stroke-opacity: 1; stroke: rgb(80, 80, 80);\" marker-end=\"\" d=\"M902.6666666666666,399.5, 1082.6666666666667,359.5\"/><path class=\"link\" style=\"stroke-width: 0.5px; stroke-opacity: 1; stroke: rgb(80, 80, 80);\" marker-end=\"\" d=\"M902.6666666666666,439.5, 1082.6666666666667,359.5\"/><path class=\"link\" style=\"stroke-width: 0.5px; stroke-opacity: 1; stroke: rgb(80, 80, 80);\" marker-end=\"\" d=\"M902.6666666666666,479.5, 1082.6666666666667,359.5\"/><path class=\"link\" style=\"stroke-width: 0.5px; stroke-opacity: 1; stroke: rgb(80, 80, 80);\" marker-end=\"\" d=\"M902.6666666666666,519.5, 1082.6666666666667,359.5\"/><path class=\"link\" style=\"stroke-width: 0.5px; stroke-opacity: 1; stroke: rgb(80, 80, 80);\" marker-end=\"\" d=\"M902.6666666666666,559.5, 1082.6666666666667,359.5\"/><path class=\"link\" style=\"stroke-width: 0.5px; stroke-opacity: 1; stroke: rgb(80, 80, 80);\" marker-end=\"\" d=\"M902.6666666666666,599.5, 1082.6666666666667,359.5\"/><path class=\"link\" style=\"stroke-width: 0.5px; stroke-opacity: 1; stroke: rgb(80, 80, 80);\" marker-end=\"\" d=\"M902.6666666666666,639.5, 1082.6666666666667,359.5\"/><path class=\"link\" style=\"stroke-width: 0.5px; stroke-opacity: 1; stroke: rgb(80, 80, 80);\" marker-end=\"\" d=\"M1082.6666666666667,359.5, 1262.6666666666667,439.5\"/><path class=\"link\" style=\"stroke-width: 0.5px; stroke-opacity: 1; stroke: rgb(80, 80, 80);\" marker-end=\"\" d=\"M902.6666666666666,279.5, 1082.6666666666667,399.5\"/><path class=\"link\" style=\"stroke-width: 0.5px; stroke-opacity: 1; stroke: rgb(80, 80, 80);\" marker-end=\"\" d=\"M902.6666666666666,319.5, 1082.6666666666667,399.5\"/><path class=\"link\" style=\"stroke-width: 0.5px; stroke-opacity: 1; stroke: rgb(80, 80, 80);\" marker-end=\"\" d=\"M902.6666666666666,359.5, 1082.6666666666667,399.5\"/><path class=\"link\" style=\"stroke-width: 0.5px; stroke-opacity: 1; stroke: rgb(80, 80, 80);\" marker-end=\"\" d=\"M902.6666666666666,399.5, 1082.6666666666667,399.5\"/><path class=\"link\" style=\"stroke-width: 0.5px; stroke-opacity: 1; stroke: rgb(80, 80, 80);\" marker-end=\"\" d=\"M902.6666666666666,439.5, 1082.6666666666667,399.5\"/><path class=\"link\" style=\"stroke-width: 0.5px; stroke-opacity: 1; stroke: rgb(80, 80, 80);\" marker-end=\"\" d=\"M902.6666666666666,479.5, 1082.6666666666667,399.5\"/><path class=\"link\" style=\"stroke-width: 0.5px; stroke-opacity: 1; stroke: rgb(80, 80, 80);\" marker-end=\"\" d=\"M902.6666666666666,519.5, 1082.6666666666667,399.5\"/><path class=\"link\" style=\"stroke-width: 0.5px; stroke-opacity: 1; stroke: rgb(80, 80, 80);\" marker-end=\"\" d=\"M902.6666666666666,559.5, 1082.6666666666667,399.5\"/><path class=\"link\" style=\"stroke-width: 0.5px; stroke-opacity: 1; stroke: rgb(80, 80, 80);\" marker-end=\"\" d=\"M902.6666666666666,599.5, 1082.6666666666667,399.5\"/><path class=\"link\" style=\"stroke-width: 0.5px; stroke-opacity: 1; stroke: rgb(80, 80, 80);\" marker-end=\"\" d=\"M902.6666666666666,639.5, 1082.6666666666667,399.5\"/><path class=\"link\" style=\"stroke-width: 0.5px; stroke-opacity: 1; stroke: rgb(80, 80, 80);\" marker-end=\"\" d=\"M1082.6666666666667,399.5, 1262.6666666666667,439.5\"/><path class=\"link\" style=\"stroke-width: 0.5px; stroke-opacity: 1; stroke: rgb(80, 80, 80);\" marker-end=\"\" d=\"M902.6666666666666,279.5, 1082.6666666666667,439.5\"/><path class=\"link\" style=\"stroke-width: 0.5px; stroke-opacity: 1; stroke: rgb(80, 80, 80);\" marker-end=\"\" d=\"M902.6666666666666,319.5, 1082.6666666666667,439.5\"/><path class=\"link\" style=\"stroke-width: 0.5px; stroke-opacity: 1; stroke: rgb(80, 80, 80);\" marker-end=\"\" d=\"M902.6666666666666,359.5, 1082.6666666666667,439.5\"/><path class=\"link\" style=\"stroke-width: 0.5px; stroke-opacity: 1; stroke: rgb(80, 80, 80);\" marker-end=\"\" d=\"M902.6666666666666,399.5, 1082.6666666666667,439.5\"/><path class=\"link\" style=\"stroke-width: 0.5px; stroke-opacity: 1; stroke: rgb(80, 80, 80);\" marker-end=\"\" d=\"M902.6666666666666,439.5, 1082.6666666666667,439.5\"/><path class=\"link\" style=\"stroke-width: 0.5px; stroke-opacity: 1; stroke: rgb(80, 80, 80);\" marker-end=\"\" d=\"M902.6666666666666,479.5, 1082.6666666666667,439.5\"/><path class=\"link\" style=\"stroke-width: 0.5px; stroke-opacity: 1; stroke: rgb(80, 80, 80);\" marker-end=\"\" d=\"M902.6666666666666,519.5, 1082.6666666666667,439.5\"/><path class=\"link\" style=\"stroke-width: 0.5px; stroke-opacity: 1; stroke: rgb(80, 80, 80);\" marker-end=\"\" d=\"M902.6666666666666,559.5, 1082.6666666666667,439.5\"/><path class=\"link\" style=\"stroke-width: 0.5px; stroke-opacity: 1; stroke: rgb(80, 80, 80);\" marker-end=\"\" d=\"M902.6666666666666,599.5, 1082.6666666666667,439.5\"/><path class=\"link\" style=\"stroke-width: 0.5px; stroke-opacity: 1; stroke: rgb(80, 80, 80);\" marker-end=\"\" d=\"M902.6666666666666,639.5, 1082.6666666666667,439.5\"/><path class=\"link\" style=\"stroke-width: 0.5px; stroke-opacity: 1; stroke: rgb(80, 80, 80);\" marker-end=\"\" d=\"M1082.6666666666667,439.5, 1262.6666666666667,439.5\"/><path class=\"link\" style=\"stroke-width: 0.5px; stroke-opacity: 1; stroke: rgb(80, 80, 80);\" marker-end=\"\" d=\"M902.6666666666666,279.5, 1082.6666666666667,479.5\"/><path class=\"link\" style=\"stroke-width: 0.5px; stroke-opacity: 1; stroke: rgb(80, 80, 80);\" marker-end=\"\" d=\"M902.6666666666666,319.5, 1082.6666666666667,479.5\"/><path class=\"link\" style=\"stroke-width: 0.5px; stroke-opacity: 1; stroke: rgb(80, 80, 80);\" marker-end=\"\" d=\"M902.6666666666666,359.5, 1082.6666666666667,479.5\"/><path class=\"link\" style=\"stroke-width: 0.5px; stroke-opacity: 1; stroke: rgb(80, 80, 80);\" marker-end=\"\" d=\"M902.6666666666666,399.5, 1082.6666666666667,479.5\"/><path class=\"link\" style=\"stroke-width: 0.5px; stroke-opacity: 1; stroke: rgb(80, 80, 80);\" marker-end=\"\" d=\"M902.6666666666666,439.5, 1082.6666666666667,479.5\"/><path class=\"link\" style=\"stroke-width: 0.5px; stroke-opacity: 1; stroke: rgb(80, 80, 80);\" marker-end=\"\" d=\"M902.6666666666666,479.5, 1082.6666666666667,479.5\"/><path class=\"link\" style=\"stroke-width: 0.5px; stroke-opacity: 1; stroke: rgb(80, 80, 80);\" marker-end=\"\" d=\"M902.6666666666666,519.5, 1082.6666666666667,479.5\"/><path class=\"link\" style=\"stroke-width: 0.5px; stroke-opacity: 1; stroke: rgb(80, 80, 80);\" marker-end=\"\" d=\"M902.6666666666666,559.5, 1082.6666666666667,479.5\"/><path class=\"link\" style=\"stroke-width: 0.5px; stroke-opacity: 1; stroke: rgb(80, 80, 80);\" marker-end=\"\" d=\"M902.6666666666666,599.5, 1082.6666666666667,479.5\"/><path class=\"link\" style=\"stroke-width: 0.5px; stroke-opacity: 1; stroke: rgb(80, 80, 80);\" marker-end=\"\" d=\"M902.6666666666666,639.5, 1082.6666666666667,479.5\"/><path class=\"link\" style=\"stroke-width: 0.5px; stroke-opacity: 1; stroke: rgb(80, 80, 80);\" marker-end=\"\" d=\"M1082.6666666666667,479.5, 1262.6666666666667,439.5\"/><path class=\"link\" style=\"stroke-width: 0.5px; stroke-opacity: 1; stroke: rgb(80, 80, 80);\" marker-end=\"\" d=\"M902.6666666666666,279.5, 1082.6666666666667,519.5\"/><path class=\"link\" style=\"stroke-width: 0.5px; stroke-opacity: 1; stroke: rgb(80, 80, 80);\" marker-end=\"\" d=\"M902.6666666666666,319.5, 1082.6666666666667,519.5\"/><path class=\"link\" style=\"stroke-width: 0.5px; stroke-opacity: 1; stroke: rgb(80, 80, 80);\" marker-end=\"\" d=\"M902.6666666666666,359.5, 1082.6666666666667,519.5\"/><path class=\"link\" style=\"stroke-width: 0.5px; stroke-opacity: 1; stroke: rgb(80, 80, 80);\" marker-end=\"\" d=\"M902.6666666666666,399.5, 1082.6666666666667,519.5\"/><path class=\"link\" style=\"stroke-width: 0.5px; stroke-opacity: 1; stroke: rgb(80, 80, 80);\" marker-end=\"\" d=\"M902.6666666666666,439.5, 1082.6666666666667,519.5\"/><path class=\"link\" style=\"stroke-width: 0.5px; stroke-opacity: 1; stroke: rgb(80, 80, 80);\" marker-end=\"\" d=\"M902.6666666666666,479.5, 1082.6666666666667,519.5\"/><path class=\"link\" style=\"stroke-width: 0.5px; stroke-opacity: 1; stroke: rgb(80, 80, 80);\" marker-end=\"\" d=\"M902.6666666666666,519.5, 1082.6666666666667,519.5\"/><path class=\"link\" style=\"stroke-width: 0.5px; stroke-opacity: 1; stroke: rgb(80, 80, 80);\" marker-end=\"\" d=\"M902.6666666666666,559.5, 1082.6666666666667,519.5\"/><path class=\"link\" style=\"stroke-width: 0.5px; stroke-opacity: 1; stroke: rgb(80, 80, 80);\" marker-end=\"\" d=\"M902.6666666666666,599.5, 1082.6666666666667,519.5\"/><path class=\"link\" style=\"stroke-width: 0.5px; stroke-opacity: 1; stroke: rgb(80, 80, 80);\" marker-end=\"\" d=\"M902.6666666666666,639.5, 1082.6666666666667,519.5\"/><path class=\"link\" style=\"stroke-width: 0.5px; stroke-opacity: 1; stroke: rgb(80, 80, 80);\" marker-end=\"\" d=\"M1082.6666666666667,519.5, 1262.6666666666667,439.5\"/><path class=\"link\" style=\"stroke-width: 0.5px; stroke-opacity: 1; stroke: rgb(80, 80, 80);\" marker-end=\"\" d=\"M902.6666666666666,279.5, 1082.6666666666667,559.5\"/><path class=\"link\" style=\"stroke-width: 0.5px; stroke-opacity: 1; stroke: rgb(80, 80, 80);\" marker-end=\"\" d=\"M902.6666666666666,319.5, 1082.6666666666667,559.5\"/><path class=\"link\" style=\"stroke-width: 0.5px; stroke-opacity: 1; stroke: rgb(80, 80, 80);\" marker-end=\"\" d=\"M902.6666666666666,359.5, 1082.6666666666667,559.5\"/><path class=\"link\" style=\"stroke-width: 0.5px; stroke-opacity: 1; stroke: rgb(80, 80, 80);\" marker-end=\"\" d=\"M902.6666666666666,399.5, 1082.6666666666667,559.5\"/><path class=\"link\" style=\"stroke-width: 0.5px; stroke-opacity: 1; stroke: rgb(80, 80, 80);\" marker-end=\"\" d=\"M902.6666666666666,439.5, 1082.6666666666667,559.5\"/><path class=\"link\" style=\"stroke-width: 0.5px; stroke-opacity: 1; stroke: rgb(80, 80, 80);\" marker-end=\"\" d=\"M902.6666666666666,479.5, 1082.6666666666667,559.5\"/><path class=\"link\" style=\"stroke-width: 0.5px; stroke-opacity: 1; stroke: rgb(80, 80, 80);\" marker-end=\"\" d=\"M902.6666666666666,519.5, 1082.6666666666667,559.5\"/><path class=\"link\" style=\"stroke-width: 0.5px; stroke-opacity: 1; stroke: rgb(80, 80, 80);\" marker-end=\"\" d=\"M902.6666666666666,559.5, 1082.6666666666667,559.5\"/><path class=\"link\" style=\"stroke-width: 0.5px; stroke-opacity: 1; stroke: rgb(80, 80, 80);\" marker-end=\"\" d=\"M902.6666666666666,599.5, 1082.6666666666667,559.5\"/><path class=\"link\" style=\"stroke-width: 0.5px; stroke-opacity: 1; stroke: rgb(80, 80, 80);\" marker-end=\"\" d=\"M902.6666666666666,639.5, 1082.6666666666667,559.5\"/><path class=\"link\" style=\"stroke-width: 0.5px; stroke-opacity: 1; stroke: rgb(80, 80, 80);\" marker-end=\"\" d=\"M1082.6666666666667,559.5, 1262.6666666666667,439.5\"/><path class=\"link\" style=\"stroke-width: 0.5px; stroke-opacity: 1; stroke: rgb(80, 80, 80);\" marker-end=\"\" d=\"M902.6666666666666,279.5, 1082.6666666666667,599.5\"/><path class=\"link\" style=\"stroke-width: 0.5px; stroke-opacity: 1; stroke: rgb(80, 80, 80);\" marker-end=\"\" d=\"M902.6666666666666,319.5, 1082.6666666666667,599.5\"/><path class=\"link\" style=\"stroke-width: 0.5px; stroke-opacity: 1; stroke: rgb(80, 80, 80);\" marker-end=\"\" d=\"M902.6666666666666,359.5, 1082.6666666666667,599.5\"/><path class=\"link\" style=\"stroke-width: 0.5px; stroke-opacity: 1; stroke: rgb(80, 80, 80);\" marker-end=\"\" d=\"M902.6666666666666,399.5, 1082.6666666666667,599.5\"/><path class=\"link\" style=\"stroke-width: 0.5px; stroke-opacity: 1; stroke: rgb(80, 80, 80);\" marker-end=\"\" d=\"M902.6666666666666,439.5, 1082.6666666666667,599.5\"/><path class=\"link\" style=\"stroke-width: 0.5px; stroke-opacity: 1; stroke: rgb(80, 80, 80);\" marker-end=\"\" d=\"M902.6666666666666,479.5, 1082.6666666666667,599.5\"/><path class=\"link\" style=\"stroke-width: 0.5px; stroke-opacity: 1; stroke: rgb(80, 80, 80);\" marker-end=\"\" d=\"M902.6666666666666,519.5, 1082.6666666666667,599.5\"/><path class=\"link\" style=\"stroke-width: 0.5px; stroke-opacity: 1; stroke: rgb(80, 80, 80);\" marker-end=\"\" d=\"M902.6666666666666,559.5, 1082.6666666666667,599.5\"/><path class=\"link\" style=\"stroke-width: 0.5px; stroke-opacity: 1; stroke: rgb(80, 80, 80);\" marker-end=\"\" d=\"M902.6666666666666,599.5, 1082.6666666666667,599.5\"/><path class=\"link\" style=\"stroke-width: 0.5px; stroke-opacity: 1; stroke: rgb(80, 80, 80);\" marker-end=\"\" d=\"M902.6666666666666,639.5, 1082.6666666666667,599.5\"/><path class=\"link\" style=\"stroke-width: 0.5px; stroke-opacity: 1; stroke: rgb(80, 80, 80);\" marker-end=\"\" d=\"M1082.6666666666667,599.5, 1262.6666666666667,439.5\"/><path class=\"link\" style=\"stroke-width: 0.5px; stroke-opacity: 1; stroke: rgb(80, 80, 80);\" marker-end=\"\" d=\"M902.6666666666666,279.5, 1082.6666666666667,639.5\"/><path class=\"link\" style=\"stroke-width: 0.5px; stroke-opacity: 1; stroke: rgb(80, 80, 80);\" marker-end=\"\" d=\"M902.6666666666666,319.5, 1082.6666666666667,639.5\"/><path class=\"link\" style=\"stroke-width: 0.5px; stroke-opacity: 1; stroke: rgb(80, 80, 80);\" marker-end=\"\" d=\"M902.6666666666666,359.5, 1082.6666666666667,639.5\"/><path class=\"link\" style=\"stroke-width: 0.5px; stroke-opacity: 1; stroke: rgb(80, 80, 80);\" marker-end=\"\" d=\"M902.6666666666666,399.5, 1082.6666666666667,639.5\"/><path class=\"link\" style=\"stroke-width: 0.5px; stroke-opacity: 1; stroke: rgb(80, 80, 80);\" marker-end=\"\" d=\"M902.6666666666666,439.5, 1082.6666666666667,639.5\"/><path class=\"link\" style=\"stroke-width: 0.5px; stroke-opacity: 1; stroke: rgb(80, 80, 80);\" marker-end=\"\" d=\"M902.6666666666666,479.5, 1082.6666666666667,639.5\"/><path class=\"link\" style=\"stroke-width: 0.5px; stroke-opacity: 1; stroke: rgb(80, 80, 80);\" marker-end=\"\" d=\"M902.6666666666666,519.5, 1082.6666666666667,639.5\"/><path class=\"link\" style=\"stroke-width: 0.5px; stroke-opacity: 1; stroke: rgb(80, 80, 80);\" marker-end=\"\" d=\"M902.6666666666666,559.5, 1082.6666666666667,639.5\"/><path class=\"link\" style=\"stroke-width: 0.5px; stroke-opacity: 1; stroke: rgb(80, 80, 80);\" marker-end=\"\" d=\"M902.6666666666666,599.5, 1082.6666666666667,639.5\"/><path class=\"link\" style=\"stroke-width: 0.5px; stroke-opacity: 1; stroke: rgb(80, 80, 80);\" marker-end=\"\" d=\"M902.6666666666666,639.5, 1082.6666666666667,639.5\"/><path class=\"link\" style=\"stroke-width: 0.5px; stroke-opacity: 1; stroke: rgb(80, 80, 80);\" marker-end=\"\" d=\"M1082.6666666666667,639.5, 1262.6666666666667,439.5\"/><path class=\"link\" style=\"stroke-width: 0.5px; stroke-opacity: 1; stroke: rgb(80, 80, 80);\" marker-end=\"\" d=\"M1082.6666666666667,279.5, 1262.6666666666667,479.5\"/><path class=\"link\" style=\"stroke-width: 0.5px; stroke-opacity: 1; stroke: rgb(80, 80, 80);\" marker-end=\"\" d=\"M1082.6666666666667,319.5, 1262.6666666666667,479.5\"/><path class=\"link\" style=\"stroke-width: 0.5px; stroke-opacity: 1; stroke: rgb(80, 80, 80);\" marker-end=\"\" d=\"M1082.6666666666667,359.5, 1262.6666666666667,479.5\"/><path class=\"link\" style=\"stroke-width: 0.5px; stroke-opacity: 1; stroke: rgb(80, 80, 80);\" marker-end=\"\" d=\"M1082.6666666666667,399.5, 1262.6666666666667,479.5\"/><path class=\"link\" style=\"stroke-width: 0.5px; stroke-opacity: 1; stroke: rgb(80, 80, 80);\" marker-end=\"\" d=\"M1082.6666666666667,439.5, 1262.6666666666667,479.5\"/><path class=\"link\" style=\"stroke-width: 0.5px; stroke-opacity: 1; stroke: rgb(80, 80, 80);\" marker-end=\"\" d=\"M1082.6666666666667,479.5, 1262.6666666666667,479.5\"/><path class=\"link\" style=\"stroke-width: 0.5px; stroke-opacity: 1; stroke: rgb(80, 80, 80);\" marker-end=\"\" d=\"M1082.6666666666667,519.5, 1262.6666666666667,479.5\"/><path class=\"link\" style=\"stroke-width: 0.5px; stroke-opacity: 1; stroke: rgb(80, 80, 80);\" marker-end=\"\" d=\"M1082.6666666666667,559.5, 1262.6666666666667,479.5\"/><path class=\"link\" style=\"stroke-width: 0.5px; stroke-opacity: 1; stroke: rgb(80, 80, 80);\" marker-end=\"\" d=\"M1082.6666666666667,599.5, 1262.6666666666667,479.5\"/><path class=\"link\" style=\"stroke-width: 0.5px; stroke-opacity: 1; stroke: rgb(80, 80, 80);\" marker-end=\"\" d=\"M1082.6666666666667,639.5, 1262.6666666666667,479.5\"/><circle r=\"10\" class=\"node\" id=\"0_0\" style=\"fill: rgb(255, 255, 255); stroke: rgb(51, 51, 51);\" cx=\"722.6666666666666\" cy=\"279.5\"/><circle r=\"10\" class=\"node\" id=\"0_1\" style=\"fill: rgb(255, 255, 255); stroke: rgb(51, 51, 51);\" cx=\"722.6666666666666\" cy=\"319.5\"/><circle r=\"10\" class=\"node\" id=\"0_2\" style=\"fill: rgb(255, 255, 255); stroke: rgb(51, 51, 51);\" cx=\"722.6666666666666\" cy=\"359.5\"/><circle r=\"10\" class=\"node\" id=\"0_3\" style=\"fill: rgb(255, 255, 255); stroke: rgb(51, 51, 51);\" cx=\"722.6666666666666\" cy=\"399.5\"/><circle r=\"10\" class=\"node\" id=\"0_4\" style=\"fill: rgb(255, 255, 255); stroke: rgb(51, 51, 51);\" cx=\"722.6666666666666\" cy=\"439.5\"/><circle r=\"10\" class=\"node\" id=\"0_5\" style=\"fill: rgb(255, 255, 255); stroke: rgb(51, 51, 51);\" cx=\"722.6666666666666\" cy=\"479.5\"/><circle r=\"10\" class=\"node\" id=\"0_6\" style=\"fill: rgb(255, 255, 255); stroke: rgb(51, 51, 51);\" cx=\"722.6666666666666\" cy=\"519.5\"/><circle r=\"10\" class=\"node\" id=\"0_7\" style=\"fill: rgb(255, 255, 255); stroke: rgb(51, 51, 51);\" cx=\"722.6666666666666\" cy=\"559.5\"/><circle r=\"10\" class=\"node\" id=\"0_8\" style=\"fill: rgb(255, 255, 255); stroke: rgb(51, 51, 51);\" cx=\"722.6666666666666\" cy=\"599.5\"/><circle r=\"10\" class=\"node\" id=\"0_9\" style=\"fill: rgb(255, 255, 255); stroke: rgb(51, 51, 51);\" cx=\"722.6666666666666\" cy=\"639.5\"/><circle r=\"10\" class=\"node\" id=\"1_0\" style=\"fill: rgb(255, 255, 255); stroke: rgb(51, 51, 51);\" cx=\"902.6666666666666\" cy=\"279.5\"/><text class=\"text\" dy=\".35em\" style=\"font-size: 12px;\" x=\"687.6666666666666\" y=\"679.5\">Input Layer ∈ ℝ¹⁰</text><text class=\"text\" dy=\".35em\" style=\"font-size: 12px;\" x=\"867.6666666666666\" y=\"679.5\">Hidden Layer ∈ ℝ¹⁰</text><text class=\"text\" dy=\".35em\" style=\"font-size: 12px;\" x=\"1047.6666666666667\" y=\"679.5\">Hidden Layer ∈ ℝ¹⁰</text><circle r=\"10\" class=\"node\" id=\"1_1\" style=\"fill: rgb(255, 255, 255); stroke: rgb(51, 51, 51);\" cx=\"902.6666666666666\" cy=\"319.5\"/><circle r=\"10\" class=\"node\" id=\"1_2\" style=\"fill: rgb(255, 255, 255); stroke: rgb(51, 51, 51);\" cx=\"902.6666666666666\" cy=\"359.5\"/><circle r=\"10\" class=\"node\" id=\"1_3\" style=\"fill: rgb(255, 255, 255); stroke: rgb(51, 51, 51);\" cx=\"902.6666666666666\" cy=\"399.5\"/><circle r=\"10\" class=\"node\" id=\"1_4\" style=\"fill: rgb(255, 255, 255); stroke: rgb(51, 51, 51);\" cx=\"902.6666666666666\" cy=\"439.5\"/><circle r=\"10\" class=\"node\" id=\"1_5\" style=\"fill: rgb(255, 255, 255); stroke: rgb(51, 51, 51);\" cx=\"902.6666666666666\" cy=\"479.5\"/><circle r=\"10\" class=\"node\" id=\"1_6\" style=\"fill: rgb(255, 255, 255); stroke: rgb(51, 51, 51);\" cx=\"902.6666666666666\" cy=\"519.5\"/><circle r=\"10\" class=\"node\" id=\"1_7\" style=\"fill: rgb(255, 255, 255); stroke: rgb(51, 51, 51);\" cx=\"902.6666666666666\" cy=\"559.5\"/><circle r=\"10\" class=\"node\" id=\"1_8\" style=\"fill: rgb(255, 255, 255); stroke: rgb(51, 51, 51);\" cx=\"902.6666666666666\" cy=\"599.5\"/><circle r=\"10\" class=\"node\" id=\"1_9\" style=\"fill: rgb(255, 255, 255); stroke: rgb(51, 51, 51);\" cx=\"902.6666666666666\" cy=\"639.5\"/><circle r=\"10\" class=\"node\" id=\"2_0\" style=\"fill: rgb(255, 255, 255); stroke: rgb(51, 51, 51);\" cx=\"1082.6666666666667\" cy=\"279.5\"/><circle r=\"10\" class=\"node\" id=\"2_1\" style=\"fill: rgb(255, 255, 255); stroke: rgb(51, 51, 51);\" cx=\"1082.6666666666667\" cy=\"319.5\"/><circle r=\"10\" class=\"node\" id=\"2_2\" style=\"fill: rgb(255, 255, 255); stroke: rgb(51, 51, 51);\" cx=\"1082.6666666666667\" cy=\"359.5\"/><circle r=\"10\" class=\"node\" id=\"2_3\" style=\"fill: rgb(255, 255, 255); stroke: rgb(51, 51, 51);\" cx=\"1082.6666666666667\" cy=\"399.5\"/><circle r=\"10\" class=\"node\" id=\"2_4\" style=\"fill: rgb(255, 255, 255); stroke: rgb(51, 51, 51);\" cx=\"1082.6666666666667\" cy=\"439.5\"/><circle r=\"10\" class=\"node\" id=\"2_5\" style=\"fill: rgb(255, 255, 255); stroke: rgb(51, 51, 51);\" cx=\"1082.6666666666667\" cy=\"479.5\"/><circle r=\"10\" class=\"node\" id=\"2_6\" style=\"fill: rgb(255, 255, 255); stroke: rgb(51, 51, 51);\" cx=\"1082.6666666666667\" cy=\"519.5\"/><circle r=\"10\" class=\"node\" id=\"2_7\" style=\"fill: rgb(255, 255, 255); stroke: rgb(51, 51, 51);\" cx=\"1082.6666666666667\" cy=\"559.5\"/><circle r=\"10\" class=\"node\" id=\"2_8\" style=\"fill: rgb(255, 255, 255); stroke: rgb(51, 51, 51);\" cx=\"1082.6666666666667\" cy=\"599.5\"/><circle r=\"10\" class=\"node\" id=\"2_9\" style=\"fill: rgb(255, 255, 255); stroke: rgb(51, 51, 51);\" cx=\"1082.6666666666667\" cy=\"639.5\"/><circle r=\"10\" class=\"node\" id=\"3_0\" style=\"fill: rgb(255, 255, 255); stroke: rgb(51, 51, 51);\" cx=\"1262.6666666666667\" cy=\"439.5\"/><text class=\"text\" dy=\".35em\" style=\"font-size: 12px;\" x=\"1227.6666666666667\" y=\"679.5\">Output Layer ∈ ℝ²</text><circle r=\"10\" class=\"node\" id=\"3_1\" style=\"fill: rgb(255, 255, 255); stroke: rgb(51, 51, 51);\" cx=\"1262.6666666666667\" cy=\"479.5\"/></g><defs><marker id=\"arrow\" viewBox=\"0 -5 10 10\" markerWidth=\"7\" markerHeight=\"7\" orient=\"auto\" refX=\"40\"><path d=\"M0,-5L10,0L0,5\" style=\"stroke: rgb(80, 80, 80); fill: none;\"/></marker></defs></svg>"
      ],
      "text/plain": [
       "<IPython.core.display.SVG object>"
      ]
     },
     "execution_count": 23,
     "metadata": {},
     "output_type": "execute_result"
    }
   ],
   "source": [
    "from IPython.core.display import SVG\n",
    "SVG(filename='assets/nn-2-hidden.svg')"
   ]
  },
  {
   "cell_type": "code",
   "execution_count": 24,
   "metadata": {
    "jupyter": {
     "outputs_hidden": false
    },
    "pycharm": {
     "name": "#%%\n"
    },
    "scrolled": true
   },
   "outputs": [
    {
     "name": "stdout",
     "output_type": "stream",
     "text": [
      "Epoch 1/50\n",
      "469/469 [==============================] - 2s 3ms/step - loss: 0.2263 - accuracy: 0.9075 - mean_squared_error: 0.0675 - val_loss: 0.1913 - val_accuracy: 0.9243 - val_mean_squared_error: 0.0557\n",
      "Epoch 2/50\n",
      "469/469 [==============================] - 1s 2ms/step - loss: 0.1777 - accuracy: 0.9303 - mean_squared_error: 0.0519 - val_loss: 0.1795 - val_accuracy: 0.9312 - val_mean_squared_error: 0.0516\n",
      "Epoch 3/50\n",
      "469/469 [==============================] - 1s 3ms/step - loss: 0.1675 - accuracy: 0.9352 - mean_squared_error: 0.0488 - val_loss: 0.1579 - val_accuracy: 0.9411 - val_mean_squared_error: 0.0449\n",
      "Epoch 4/50\n",
      "469/469 [==============================] - 1s 3ms/step - loss: 0.1596 - accuracy: 0.9393 - mean_squared_error: 0.0461 - val_loss: 0.1527 - val_accuracy: 0.9393 - val_mean_squared_error: 0.0440\n",
      "Epoch 5/50\n",
      "469/469 [==============================] - 1s 3ms/step - loss: 0.1567 - accuracy: 0.9396 - mean_squared_error: 0.0454 - val_loss: 0.1534 - val_accuracy: 0.9413 - val_mean_squared_error: 0.0438\n",
      "Epoch 6/50\n",
      "469/469 [==============================] - 1s 3ms/step - loss: 0.1542 - accuracy: 0.9406 - mean_squared_error: 0.0447 - val_loss: 0.1540 - val_accuracy: 0.9429 - val_mean_squared_error: 0.0436\n",
      "Epoch 7/50\n",
      "469/469 [==============================] - 1s 3ms/step - loss: 0.1511 - accuracy: 0.9422 - mean_squared_error: 0.0437 - val_loss: 0.1544 - val_accuracy: 0.9415 - val_mean_squared_error: 0.0442\n",
      "Epoch 8/50\n",
      "469/469 [==============================] - 1s 3ms/step - loss: 0.1484 - accuracy: 0.9429 - mean_squared_error: 0.0432 - val_loss: 0.1539 - val_accuracy: 0.9419 - val_mean_squared_error: 0.0438\n",
      "Epoch 9/50\n",
      "469/469 [==============================] - 1s 3ms/step - loss: 0.1487 - accuracy: 0.9431 - mean_squared_error: 0.0430 - val_loss: 0.1432 - val_accuracy: 0.9463 - val_mean_squared_error: 0.0405\n",
      "Epoch 10/50\n",
      "469/469 [==============================] - 1s 3ms/step - loss: 0.1467 - accuracy: 0.9451 - mean_squared_error: 0.0422 - val_loss: 0.1538 - val_accuracy: 0.9459 - val_mean_squared_error: 0.0437\n",
      "Epoch 11/50\n",
      "469/469 [==============================] - 1s 3ms/step - loss: 0.1447 - accuracy: 0.9458 - mean_squared_error: 0.0416 - val_loss: 0.1533 - val_accuracy: 0.9404 - val_mean_squared_error: 0.0444\n",
      "Epoch 12/50\n",
      "469/469 [==============================] - 2s 3ms/step - loss: 0.1455 - accuracy: 0.9437 - mean_squared_error: 0.0422 - val_loss: 0.1517 - val_accuracy: 0.9436 - val_mean_squared_error: 0.0430\n",
      "Epoch 13/50\n",
      "469/469 [==============================] - 2s 4ms/step - loss: 0.1437 - accuracy: 0.9446 - mean_squared_error: 0.0416 - val_loss: 0.1558 - val_accuracy: 0.9389 - val_mean_squared_error: 0.0451\n",
      "Epoch 14/50\n",
      "469/469 [==============================] - 2s 5ms/step - loss: 0.1429 - accuracy: 0.9458 - mean_squared_error: 0.0413 - val_loss: 0.1666 - val_accuracy: 0.9383 - val_mean_squared_error: 0.0475\n",
      "Epoch 15/50\n",
      "469/469 [==============================] - 2s 4ms/step - loss: 0.1422 - accuracy: 0.9468 - mean_squared_error: 0.0410 - val_loss: 0.1476 - val_accuracy: 0.9431 - val_mean_squared_error: 0.0423\n",
      "Epoch 16/50\n",
      "469/469 [==============================] - 2s 4ms/step - loss: 0.1439 - accuracy: 0.9450 - mean_squared_error: 0.0417 - val_loss: 0.1451 - val_accuracy: 0.9472 - val_mean_squared_error: 0.0411\n",
      "Epoch 17/50\n",
      "469/469 [==============================] - 2s 4ms/step - loss: 0.1419 - accuracy: 0.9460 - mean_squared_error: 0.0412 - val_loss: 0.1503 - val_accuracy: 0.9427 - val_mean_squared_error: 0.0428\n",
      "Epoch 18/50\n",
      "469/469 [==============================] - 2s 4ms/step - loss: 0.1411 - accuracy: 0.9450 - mean_squared_error: 0.0408 - val_loss: 0.1432 - val_accuracy: 0.9472 - val_mean_squared_error: 0.0402\n",
      "Epoch 19/50\n",
      "469/469 [==============================] - 2s 4ms/step - loss: 0.1414 - accuracy: 0.9460 - mean_squared_error: 0.0410 - val_loss: 0.1423 - val_accuracy: 0.9437 - val_mean_squared_error: 0.0408\n",
      "Epoch 20/50\n",
      "469/469 [==============================] - 2s 4ms/step - loss: 0.1371 - accuracy: 0.9476 - mean_squared_error: 0.0396 - val_loss: 0.1415 - val_accuracy: 0.9472 - val_mean_squared_error: 0.0402\n",
      "Epoch 21/50\n",
      "469/469 [==============================] - 2s 5ms/step - loss: 0.1368 - accuracy: 0.9467 - mean_squared_error: 0.0397 - val_loss: 0.1390 - val_accuracy: 0.9475 - val_mean_squared_error: 0.0396\n",
      "Epoch 22/50\n",
      "469/469 [==============================] - 2s 5ms/step - loss: 0.1352 - accuracy: 0.9477 - mean_squared_error: 0.0393 - val_loss: 0.1417 - val_accuracy: 0.9453 - val_mean_squared_error: 0.0406\n",
      "Epoch 23/50\n",
      "469/469 [==============================] - 3s 6ms/step - loss: 0.1345 - accuracy: 0.9474 - mean_squared_error: 0.0389 - val_loss: 0.1423 - val_accuracy: 0.9484 - val_mean_squared_error: 0.0395\n",
      "Epoch 24/50\n",
      "469/469 [==============================] - 2s 4ms/step - loss: 0.1333 - accuracy: 0.9476 - mean_squared_error: 0.0388 - val_loss: 0.1435 - val_accuracy: 0.9471 - val_mean_squared_error: 0.0403\n",
      "Epoch 25/50\n",
      "469/469 [==============================] - 3s 6ms/step - loss: 0.1336 - accuracy: 0.9493 - mean_squared_error: 0.0384 - val_loss: 0.1459 - val_accuracy: 0.9443 - val_mean_squared_error: 0.0417\n",
      "Epoch 26/50\n",
      "469/469 [==============================] - 1s 3ms/step - loss: 0.1323 - accuracy: 0.9488 - mean_squared_error: 0.0384 - val_loss: 0.1495 - val_accuracy: 0.9432 - val_mean_squared_error: 0.0424\n",
      "Epoch 27/50\n",
      "469/469 [==============================] - 1s 3ms/step - loss: 0.1315 - accuracy: 0.9494 - mean_squared_error: 0.0380 - val_loss: 0.1401 - val_accuracy: 0.9471 - val_mean_squared_error: 0.0398\n",
      "Epoch 28/50\n",
      "469/469 [==============================] - 1s 3ms/step - loss: 0.1313 - accuracy: 0.9499 - mean_squared_error: 0.0378 - val_loss: 0.1418 - val_accuracy: 0.9484 - val_mean_squared_error: 0.0400\n",
      "Epoch 29/50\n",
      "469/469 [==============================] - 1s 3ms/step - loss: 0.1318 - accuracy: 0.9497 - mean_squared_error: 0.0381 - val_loss: 0.1385 - val_accuracy: 0.9491 - val_mean_squared_error: 0.0387\n",
      "Epoch 30/50\n",
      "469/469 [==============================] - 2s 4ms/step - loss: 0.1295 - accuracy: 0.9506 - mean_squared_error: 0.0371 - val_loss: 0.1393 - val_accuracy: 0.9459 - val_mean_squared_error: 0.0398\n",
      "Epoch 31/50\n",
      "469/469 [==============================] - 3s 6ms/step - loss: 0.1300 - accuracy: 0.9497 - mean_squared_error: 0.0377 - val_loss: 0.1403 - val_accuracy: 0.9475 - val_mean_squared_error: 0.0399\n",
      "Epoch 32/50\n",
      "469/469 [==============================] - 3s 6ms/step - loss: 0.1299 - accuracy: 0.9506 - mean_squared_error: 0.0374 - val_loss: 0.1510 - val_accuracy: 0.9443 - val_mean_squared_error: 0.0428\n",
      "Epoch 33/50\n",
      "469/469 [==============================] - 3s 6ms/step - loss: 0.1292 - accuracy: 0.9510 - mean_squared_error: 0.0370 - val_loss: 0.1326 - val_accuracy: 0.9500 - val_mean_squared_error: 0.0376\n",
      "Epoch 34/50\n",
      "469/469 [==============================] - 3s 6ms/step - loss: 0.1288 - accuracy: 0.9508 - mean_squared_error: 0.0370 - val_loss: 0.1381 - val_accuracy: 0.9488 - val_mean_squared_error: 0.0389\n",
      "Epoch 35/50\n",
      "469/469 [==============================] - 3s 6ms/step - loss: 0.1276 - accuracy: 0.9499 - mean_squared_error: 0.0370 - val_loss: 0.1366 - val_accuracy: 0.9477 - val_mean_squared_error: 0.0387\n",
      "Epoch 36/50\n",
      "469/469 [==============================] - 3s 6ms/step - loss: 0.1265 - accuracy: 0.9525 - mean_squared_error: 0.0363 - val_loss: 0.1377 - val_accuracy: 0.9496 - val_mean_squared_error: 0.0389\n",
      "Epoch 37/50\n",
      "469/469 [==============================] - 3s 6ms/step - loss: 0.1270 - accuracy: 0.9508 - mean_squared_error: 0.0369 - val_loss: 0.1493 - val_accuracy: 0.9425 - val_mean_squared_error: 0.0424\n",
      "Epoch 38/50\n",
      "469/469 [==============================] - 3s 6ms/step - loss: 0.1279 - accuracy: 0.9507 - mean_squared_error: 0.0368 - val_loss: 0.1349 - val_accuracy: 0.9496 - val_mean_squared_error: 0.0377\n",
      "Epoch 39/50\n",
      "469/469 [==============================] - 3s 6ms/step - loss: 0.1269 - accuracy: 0.9513 - mean_squared_error: 0.0367 - val_loss: 0.1355 - val_accuracy: 0.9491 - val_mean_squared_error: 0.0378\n",
      "Epoch 40/50\n",
      "469/469 [==============================] - 3s 6ms/step - loss: 0.1288 - accuracy: 0.9504 - mean_squared_error: 0.0371 - val_loss: 0.1481 - val_accuracy: 0.9444 - val_mean_squared_error: 0.0421\n",
      "Epoch 41/50\n"
     ]
    },
    {
     "name": "stdout",
     "output_type": "stream",
     "text": [
      "469/469 [==============================] - 3s 5ms/step - loss: 0.1274 - accuracy: 0.9512 - mean_squared_error: 0.0366 - val_loss: 0.1397 - val_accuracy: 0.9480 - val_mean_squared_error: 0.0388\n",
      "Epoch 42/50\n",
      "469/469 [==============================] - 3s 5ms/step - loss: 0.1264 - accuracy: 0.9510 - mean_squared_error: 0.0365 - val_loss: 0.1330 - val_accuracy: 0.9496 - val_mean_squared_error: 0.0379\n",
      "Epoch 43/50\n",
      "469/469 [==============================] - 3s 5ms/step - loss: 0.1268 - accuracy: 0.9517 - mean_squared_error: 0.0364 - val_loss: 0.1426 - val_accuracy: 0.9447 - val_mean_squared_error: 0.0409\n",
      "Epoch 44/50\n",
      "469/469 [==============================] - 3s 5ms/step - loss: 0.1271 - accuracy: 0.9514 - mean_squared_error: 0.0365 - val_loss: 0.1411 - val_accuracy: 0.9485 - val_mean_squared_error: 0.0400\n",
      "Epoch 45/50\n",
      "469/469 [==============================] - 3s 5ms/step - loss: 0.1256 - accuracy: 0.9523 - mean_squared_error: 0.0359 - val_loss: 0.1294 - val_accuracy: 0.9512 - val_mean_squared_error: 0.0369\n",
      "Epoch 46/50\n",
      "469/469 [==============================] - 2s 5ms/step - loss: 0.1260 - accuracy: 0.9521 - mean_squared_error: 0.0363 - val_loss: 0.1310 - val_accuracy: 0.9496 - val_mean_squared_error: 0.0375\n",
      "Epoch 47/50\n",
      "469/469 [==============================] - 3s 5ms/step - loss: 0.1259 - accuracy: 0.9509 - mean_squared_error: 0.0365 - val_loss: 0.1321 - val_accuracy: 0.9512 - val_mean_squared_error: 0.0368\n",
      "Epoch 48/50\n",
      "469/469 [==============================] - 3s 5ms/step - loss: 0.1255 - accuracy: 0.9509 - mean_squared_error: 0.0361 - val_loss: 0.1357 - val_accuracy: 0.9496 - val_mean_squared_error: 0.0382\n",
      "Epoch 49/50\n",
      "469/469 [==============================] - 3s 5ms/step - loss: 0.1245 - accuracy: 0.9522 - mean_squared_error: 0.0360 - val_loss: 0.1431 - val_accuracy: 0.9440 - val_mean_squared_error: 0.0407\n",
      "Epoch 50/50\n",
      "469/469 [==============================] - 2s 5ms/step - loss: 0.1252 - accuracy: 0.9522 - mean_squared_error: 0.0360 - val_loss: 0.1381 - val_accuracy: 0.9493 - val_mean_squared_error: 0.0386\n",
      "\n",
      "accuracy: 0.9511151909828186 | mean_squared_error: 0.03762579709291458\n"
     ]
    }
   ],
   "source": [
    "model = Sequential([\n",
    "    Dense(10, activation='tanh'),\n",
    "    Dense(10, activation='tanh'),\n",
    "    # output layer\n",
    "    Dense(2, activation='sigmoid'),\n",
    "])\n",
    "train_and_evaluate_model(model, data, loss=\"binary_crossentropy\", momentum=0.9)"
   ]
  },
  {
   "cell_type": "markdown",
   "metadata": {},
   "source": [
    "We see that in this case, it does indeed improve the performance. So I will keep this structure for the rest of the exercise. Finally, what I want to do is to tune the last 2 parameters I have not yet touched. Those are the learning rate and the batch size. To do so, I will perform a grid search (try all the possible combinations of the given values) and keep the pair that produces the best evaluating metrics. The values I will try are the following ones."
   ]
  },
  {
   "cell_type": "code",
   "execution_count": 25,
   "metadata": {
    "jupyter": {
     "outputs_hidden": false
    },
    "pycharm": {
     "name": "#%%\n"
    }
   },
   "outputs": [],
   "source": [
    "learning_rates = [0.001, 0.01, 0.1]\n",
    "batch_sizes = [32, 64, 128]"
   ]
  },
  {
   "cell_type": "code",
   "execution_count": 26,
   "metadata": {
    "jupyter": {
     "outputs_hidden": false
    },
    "pycharm": {
     "name": "#%%\n"
    }
   },
   "outputs": [
    {
     "name": "stdout",
     "output_type": "stream",
     "text": [
      "\n",
      "accuracy: 0.9444564580917358 | mean_squared_error: 0.04316599667072296\n",
      "\n",
      "accuracy: 0.9372022747993469 | mean_squared_error: 0.04739774391055107\n",
      "\n",
      "accuracy: 0.9280532598495483 | mean_squared_error: 0.05398264154791832\n",
      "\n",
      "accuracy: 0.9518189430236816 | mean_squared_error: 0.03721180558204651\n",
      "\n",
      "accuracy: 0.9495993852615356 | mean_squared_error: 0.038618169724941254\n",
      "\n",
      "accuracy: 0.9493287205696106 | mean_squared_error: 0.0392879918217659\n",
      "\n",
      "accuracy: 0.9495452642440796 | mean_squared_error: 0.038814522325992584\n",
      "\n",
      "accuracy: 0.9511151909828186 | mean_squared_error: 0.03762579709291458\n",
      "\n",
      "accuracy: 0.9472715258598328 | mean_squared_error: 0.039197757840156555\n"
     ]
    }
   ],
   "source": [
    "import itertools\n",
    "for lr, bs in itertools.product(learning_rates, batch_sizes):\n",
    "\n",
    "    model = Sequential([\n",
    "        Dense(10, activation='tanh'),\n",
    "        Dense(10, activation='tanh'),\n",
    "        # output layer\n",
    "        Dense(2, activation='sigmoid'),\n",
    "    ])\n",
    "    train_and_evaluate_model(model, data, loss=\"binary_crossentropy\", momentum=0.9, learning_rate=lr, batch_size=bs, verbose=0)"
   ]
  },
  {
   "cell_type": "markdown",
   "metadata": {},
   "source": [
    "Now, I train again the model using the final structure and the hyper-parameters I have just obtained (`learning_rate` = 0.01 and `batch_sizes` = 32). I will use the method train_model to obtain the trained model instead of just evaluating it."
   ]
  },
  {
   "cell_type": "code",
   "execution_count": 27,
   "metadata": {
    "jupyter": {
     "outputs_hidden": false
    },
    "pycharm": {
     "name": "#%%\n"
    },
    "scrolled": true
   },
   "outputs": [
    {
     "name": "stdout",
     "output_type": "stream",
     "text": [
      "Epoch 1/50\n",
      "938/938 [==============================] - 5s 4ms/step - loss: 0.2596 - accuracy: 0.8955 - mean_squared_error: 0.0774 - val_loss: 0.2097 - val_accuracy: 0.9161 - val_mean_squared_error: 0.0611\n",
      "Epoch 2/50\n",
      "938/938 [==============================] - 2s 2ms/step - loss: 0.1951 - accuracy: 0.9219 - mean_squared_error: 0.0570 - val_loss: 0.1882 - val_accuracy: 0.9280 - val_mean_squared_error: 0.0536\n",
      "Epoch 3/50\n",
      "938/938 [==============================] - 3s 3ms/step - loss: 0.1797 - accuracy: 0.9291 - mean_squared_error: 0.0527 - val_loss: 0.1760 - val_accuracy: 0.9303 - val_mean_squared_error: 0.0502\n",
      "Epoch 4/50\n",
      "938/938 [==============================] - 5s 5ms/step - loss: 0.1710 - accuracy: 0.9331 - mean_squared_error: 0.0498 - val_loss: 0.1694 - val_accuracy: 0.9340 - val_mean_squared_error: 0.0488\n",
      "Epoch 5/50\n",
      "938/938 [==============================] - 4s 5ms/step - loss: 0.1663 - accuracy: 0.9356 - mean_squared_error: 0.0483 - val_loss: 0.1697 - val_accuracy: 0.9355 - val_mean_squared_error: 0.0487\n",
      "Epoch 6/50\n",
      "938/938 [==============================] - 5s 5ms/step - loss: 0.1627 - accuracy: 0.9370 - mean_squared_error: 0.0473 - val_loss: 0.1706 - val_accuracy: 0.9371 - val_mean_squared_error: 0.0482\n",
      "Epoch 7/50\n",
      "938/938 [==============================] - 5s 5ms/step - loss: 0.1584 - accuracy: 0.9391 - mean_squared_error: 0.0456 - val_loss: 0.1601 - val_accuracy: 0.9391 - val_mean_squared_error: 0.0454\n",
      "Epoch 8/50\n",
      "938/938 [==============================] - 5s 5ms/step - loss: 0.1556 - accuracy: 0.9404 - mean_squared_error: 0.0450 - val_loss: 0.1597 - val_accuracy: 0.9395 - val_mean_squared_error: 0.0452\n",
      "Epoch 9/50\n",
      "938/938 [==============================] - 3s 3ms/step - loss: 0.1524 - accuracy: 0.9417 - mean_squared_error: 0.0440 - val_loss: 0.1540 - val_accuracy: 0.9429 - val_mean_squared_error: 0.0436\n",
      "Epoch 10/50\n",
      "938/938 [==============================] - 5s 5ms/step - loss: 0.1510 - accuracy: 0.9429 - mean_squared_error: 0.0434 - val_loss: 0.1538 - val_accuracy: 0.9416 - val_mean_squared_error: 0.0438\n",
      "Epoch 11/50\n",
      "938/938 [==============================] - 5s 5ms/step - loss: 0.1485 - accuracy: 0.9433 - mean_squared_error: 0.0427 - val_loss: 0.1554 - val_accuracy: 0.9423 - val_mean_squared_error: 0.0445\n",
      "Epoch 12/50\n",
      "938/938 [==============================] - 5s 5ms/step - loss: 0.1472 - accuracy: 0.9434 - mean_squared_error: 0.0423 - val_loss: 0.1554 - val_accuracy: 0.9432 - val_mean_squared_error: 0.0438\n",
      "Epoch 13/50\n",
      "938/938 [==============================] - 4s 4ms/step - loss: 0.1468 - accuracy: 0.9437 - mean_squared_error: 0.0423 - val_loss: 0.1585 - val_accuracy: 0.9401 - val_mean_squared_error: 0.0451\n",
      "Epoch 14/50\n",
      "938/938 [==============================] - 3s 3ms/step - loss: 0.1452 - accuracy: 0.9448 - mean_squared_error: 0.0415 - val_loss: 0.1570 - val_accuracy: 0.9396 - val_mean_squared_error: 0.0454\n",
      "Epoch 15/50\n",
      "938/938 [==============================] - 4s 4ms/step - loss: 0.1443 - accuracy: 0.9453 - mean_squared_error: 0.0412 - val_loss: 0.1464 - val_accuracy: 0.9452 - val_mean_squared_error: 0.0416\n",
      "Epoch 16/50\n",
      "938/938 [==============================] - 5s 5ms/step - loss: 0.1427 - accuracy: 0.9469 - mean_squared_error: 0.0407 - val_loss: 0.1467 - val_accuracy: 0.9437 - val_mean_squared_error: 0.0415\n",
      "Epoch 17/50\n",
      "938/938 [==============================] - 5s 5ms/step - loss: 0.1419 - accuracy: 0.9465 - mean_squared_error: 0.0406 - val_loss: 0.1472 - val_accuracy: 0.9433 - val_mean_squared_error: 0.0416\n",
      "Epoch 18/50\n",
      "938/938 [==============================] - 5s 5ms/step - loss: 0.1413 - accuracy: 0.9469 - mean_squared_error: 0.0404 - val_loss: 0.1464 - val_accuracy: 0.9475 - val_mean_squared_error: 0.0410\n",
      "Epoch 19/50\n",
      "938/938 [==============================] - 4s 5ms/step - loss: 0.1394 - accuracy: 0.9467 - mean_squared_error: 0.0399 - val_loss: 0.1441 - val_accuracy: 0.9445 - val_mean_squared_error: 0.0408\n",
      "Epoch 20/50\n",
      "938/938 [==============================] - 4s 4ms/step - loss: 0.1384 - accuracy: 0.9482 - mean_squared_error: 0.0395 - val_loss: 0.1427 - val_accuracy: 0.9465 - val_mean_squared_error: 0.0403\n",
      "Epoch 21/50\n",
      "938/938 [==============================] - 4s 4ms/step - loss: 0.1370 - accuracy: 0.9486 - mean_squared_error: 0.0392 - val_loss: 0.1401 - val_accuracy: 0.9497 - val_mean_squared_error: 0.0393\n",
      "Epoch 22/50\n",
      "938/938 [==============================] - 4s 4ms/step - loss: 0.1369 - accuracy: 0.9489 - mean_squared_error: 0.0392 - val_loss: 0.1413 - val_accuracy: 0.9459 - val_mean_squared_error: 0.0400\n",
      "Epoch 23/50\n",
      "938/938 [==============================] - 4s 4ms/step - loss: 0.1352 - accuracy: 0.9488 - mean_squared_error: 0.0387 - val_loss: 0.1410 - val_accuracy: 0.9473 - val_mean_squared_error: 0.0392\n",
      "Epoch 24/50\n",
      "938/938 [==============================] - 4s 5ms/step - loss: 0.1356 - accuracy: 0.9488 - mean_squared_error: 0.0389 - val_loss: 0.1468 - val_accuracy: 0.9464 - val_mean_squared_error: 0.0407\n",
      "Epoch 25/50\n",
      "938/938 [==============================] - 5s 6ms/step - loss: 0.1349 - accuracy: 0.9495 - mean_squared_error: 0.0384 - val_loss: 0.1375 - val_accuracy: 0.9480 - val_mean_squared_error: 0.0387\n",
      "Epoch 26/50\n",
      "938/938 [==============================] - 5s 5ms/step - loss: 0.1335 - accuracy: 0.9495 - mean_squared_error: 0.0382 - val_loss: 0.1456 - val_accuracy: 0.9455 - val_mean_squared_error: 0.0412\n",
      "Epoch 27/50\n",
      "938/938 [==============================] - 5s 6ms/step - loss: 0.1334 - accuracy: 0.9500 - mean_squared_error: 0.0381 - val_loss: 0.1371 - val_accuracy: 0.9493 - val_mean_squared_error: 0.0385\n",
      "Epoch 28/50\n",
      "938/938 [==============================] - 5s 6ms/step - loss: 0.1332 - accuracy: 0.9506 - mean_squared_error: 0.0377 - val_loss: 0.1549 - val_accuracy: 0.9416 - val_mean_squared_error: 0.0445\n",
      "Epoch 29/50\n",
      "938/938 [==============================] - 5s 5ms/step - loss: 0.1323 - accuracy: 0.9499 - mean_squared_error: 0.0378 - val_loss: 0.1471 - val_accuracy: 0.9433 - val_mean_squared_error: 0.0420\n",
      "Epoch 30/50\n",
      "938/938 [==============================] - 5s 5ms/step - loss: 0.1325 - accuracy: 0.9504 - mean_squared_error: 0.0377 - val_loss: 0.1476 - val_accuracy: 0.9432 - val_mean_squared_error: 0.0420\n",
      "Epoch 31/50\n",
      "938/938 [==============================] - 4s 5ms/step - loss: 0.1316 - accuracy: 0.9500 - mean_squared_error: 0.0378 - val_loss: 0.1457 - val_accuracy: 0.9460 - val_mean_squared_error: 0.0409\n",
      "Epoch 32/50\n",
      "938/938 [==============================] - 5s 5ms/step - loss: 0.1314 - accuracy: 0.9503 - mean_squared_error: 0.0375 - val_loss: 0.1555 - val_accuracy: 0.9419 - val_mean_squared_error: 0.0441\n",
      "Epoch 33/50\n",
      "938/938 [==============================] - 5s 5ms/step - loss: 0.1302 - accuracy: 0.9526 - mean_squared_error: 0.0369 - val_loss: 0.1345 - val_accuracy: 0.9491 - val_mean_squared_error: 0.0376\n",
      "Epoch 34/50\n",
      "938/938 [==============================] - 5s 5ms/step - loss: 0.1303 - accuracy: 0.9510 - mean_squared_error: 0.0372 - val_loss: 0.1392 - val_accuracy: 0.9465 - val_mean_squared_error: 0.0395\n",
      "Epoch 35/50\n",
      "938/938 [==============================] - 5s 5ms/step - loss: 0.1291 - accuracy: 0.9515 - mean_squared_error: 0.0368 - val_loss: 0.1416 - val_accuracy: 0.9471 - val_mean_squared_error: 0.0400\n",
      "Epoch 36/50\n",
      "938/938 [==============================] - 5s 5ms/step - loss: 0.1290 - accuracy: 0.9515 - mean_squared_error: 0.0366 - val_loss: 0.1466 - val_accuracy: 0.9439 - val_mean_squared_error: 0.0421\n",
      "Epoch 37/50\n",
      "938/938 [==============================] - 4s 5ms/step - loss: 0.1291 - accuracy: 0.9512 - mean_squared_error: 0.0370 - val_loss: 0.1394 - val_accuracy: 0.9467 - val_mean_squared_error: 0.0397\n",
      "Epoch 38/50\n",
      "938/938 [==============================] - 5s 5ms/step - loss: 0.1283 - accuracy: 0.9519 - mean_squared_error: 0.0366 - val_loss: 0.1329 - val_accuracy: 0.9493 - val_mean_squared_error: 0.0376\n",
      "Epoch 39/50\n",
      "938/938 [==============================] - 5s 5ms/step - loss: 0.1279 - accuracy: 0.9515 - mean_squared_error: 0.0367 - val_loss: 0.1347 - val_accuracy: 0.9485 - val_mean_squared_error: 0.0379\n",
      "Epoch 40/50\n",
      "938/938 [==============================] - 4s 5ms/step - loss: 0.1274 - accuracy: 0.9522 - mean_squared_error: 0.0364 - val_loss: 0.1415 - val_accuracy: 0.9460 - val_mean_squared_error: 0.0400\n",
      "Epoch 41/50\n"
     ]
    },
    {
     "name": "stdout",
     "output_type": "stream",
     "text": [
      "938/938 [==============================] - 5s 5ms/step - loss: 0.1274 - accuracy: 0.9519 - mean_squared_error: 0.0364 - val_loss: 0.1346 - val_accuracy: 0.9505 - val_mean_squared_error: 0.0378\n",
      "Epoch 42/50\n",
      "938/938 [==============================] - 5s 5ms/step - loss: 0.1267 - accuracy: 0.9516 - mean_squared_error: 0.0362 - val_loss: 0.1305 - val_accuracy: 0.9496 - val_mean_squared_error: 0.0372\n",
      "Epoch 43/50\n",
      "938/938 [==============================] - 4s 4ms/step - loss: 0.1258 - accuracy: 0.9517 - mean_squared_error: 0.0361 - val_loss: 0.1401 - val_accuracy: 0.9465 - val_mean_squared_error: 0.0402\n",
      "Epoch 44/50\n",
      "938/938 [==============================] - 4s 4ms/step - loss: 0.1262 - accuracy: 0.9522 - mean_squared_error: 0.0360 - val_loss: 0.1366 - val_accuracy: 0.9476 - val_mean_squared_error: 0.0386\n",
      "Epoch 45/50\n",
      "938/938 [==============================] - 5s 5ms/step - loss: 0.1254 - accuracy: 0.9532 - mean_squared_error: 0.0358 - val_loss: 0.1298 - val_accuracy: 0.9489 - val_mean_squared_error: 0.0372\n",
      "Epoch 46/50\n",
      "938/938 [==============================] - 5s 5ms/step - loss: 0.1256 - accuracy: 0.9527 - mean_squared_error: 0.0360 - val_loss: 0.1294 - val_accuracy: 0.9507 - val_mean_squared_error: 0.0368\n",
      "Epoch 47/50\n",
      "938/938 [==============================] - 5s 5ms/step - loss: 0.1252 - accuracy: 0.9527 - mean_squared_error: 0.0357 - val_loss: 0.1305 - val_accuracy: 0.9511 - val_mean_squared_error: 0.0369\n",
      "Epoch 48/50\n",
      "938/938 [==============================] - 5s 5ms/step - loss: 0.1245 - accuracy: 0.9528 - mean_squared_error: 0.0356 - val_loss: 0.1321 - val_accuracy: 0.9511 - val_mean_squared_error: 0.0376\n",
      "Epoch 49/50\n",
      "938/938 [==============================] - 5s 5ms/step - loss: 0.1240 - accuracy: 0.9527 - mean_squared_error: 0.0354 - val_loss: 0.1313 - val_accuracy: 0.9485 - val_mean_squared_error: 0.0377\n",
      "Epoch 50/50\n",
      "938/938 [==============================] - 5s 5ms/step - loss: 0.1239 - accuracy: 0.9532 - mean_squared_error: 0.0355 - val_loss: 0.1332 - val_accuracy: 0.9516 - val_mean_squared_error: 0.0375\n"
     ]
    },
    {
     "data": {
      "text/plain": [
       "<tensorflow.python.keras.engine.sequential.Sequential at 0x1b547f880d0>"
      ]
     },
     "execution_count": 27,
     "metadata": {},
     "output_type": "execute_result"
    }
   ],
   "source": [
    "lr = 0.01\n",
    "bs = 32\n",
    "\n",
    "model = Sequential([\n",
    "        Dense(10, activation='tanh'),\n",
    "        Dense(10, activation='tanh'),\n",
    "        # output layer\n",
    "        Dense(2, activation='sigmoid'),\n",
    "    ])\n",
    "train_model(model, data, loss=\"binary_crossentropy\", momentum=0.9, learning_rate=lr, batch_size=bs)"
   ]
  },
  {
   "cell_type": "markdown",
   "metadata": {},
   "source": [
    "I will look now at how the results look. I will start by computing the PSxG of all the shots in the dataset provided initially. I used the scaled version of the data to make the predictions. To make the predictions was as simple as to use the model.predict(...) function."
   ]
  },
  {
   "cell_type": "code",
   "execution_count": 40,
   "metadata": {
    "jupyter": {
     "outputs_hidden": false
    },
    "pycharm": {
     "name": "#%%\n"
    }
   },
   "outputs": [],
   "source": [
    "X_scaled = scaler.fit_transform(np.array(X))\n",
    "y_pred = pd.DataFrame(model.predict(X_scaled)[:,0],columns=['is_goal_pred'])\n",
    "y_pred = pd.merge(df_shots[['destination_pos_y','destination_pos_z']],y_pred,how = 'left',left_index = True, right_index = True).dropna()"
   ]
  },
  {
   "cell_type": "markdown",
   "metadata": {},
   "source": [
    "I have created a heatmap of the goal locations with higher chances of scoring. To do so, I first created a grid representing the goal, with a size of 24x8 feet. Then, I assigned each shot to a cell of the grid based on their destination location. For each cell, I calculated the mean of the PSxG of the shots assigned to it. It is important to remember that when looking at the goal from the front, the x-axis corresponds to the destination_pos_y and the y-axis to the destination_pos_z."
   ]
  },
  {
   "cell_type": "code",
   "execution_count": 41,
   "metadata": {
    "jupyter": {
     "outputs_hidden": false
    },
    "pycharm": {
     "name": "#%%\n"
    }
   },
   "outputs": [
    {
     "data": {
      "text/html": [
       "<div>\n",
       "<style scoped>\n",
       "    .dataframe tbody tr th:only-of-type {\n",
       "        vertical-align: middle;\n",
       "    }\n",
       "\n",
       "    .dataframe tbody tr th {\n",
       "        vertical-align: top;\n",
       "    }\n",
       "\n",
       "    .dataframe thead th {\n",
       "        text-align: right;\n",
       "    }\n",
       "</style>\n",
       "<table border=\"1\" class=\"dataframe\">\n",
       "  <thead>\n",
       "    <tr style=\"text-align: right;\">\n",
       "      <th>destination_pos_z_bin</th>\n",
       "      <th>(0.0, 0.297]</th>\n",
       "      <th>(0.297, 0.594]</th>\n",
       "      <th>(0.594, 0.892]</th>\n",
       "      <th>(0.892, 1.189]</th>\n",
       "      <th>(1.189, 1.486]</th>\n",
       "      <th>(1.486, 1.783]</th>\n",
       "      <th>(1.783, 2.08]</th>\n",
       "      <th>(2.08, 2.377]</th>\n",
       "    </tr>\n",
       "    <tr>\n",
       "      <th>destination_pos_y_bin</th>\n",
       "      <th></th>\n",
       "      <th></th>\n",
       "      <th></th>\n",
       "      <th></th>\n",
       "      <th></th>\n",
       "      <th></th>\n",
       "      <th></th>\n",
       "      <th></th>\n",
       "    </tr>\n",
       "  </thead>\n",
       "  <tbody>\n",
       "    <tr>\n",
       "      <th>(0.446, 0.451]</th>\n",
       "      <td>0.033903</td>\n",
       "      <td>0.043593</td>\n",
       "      <td>0.034465</td>\n",
       "      <td>0.022375</td>\n",
       "      <td>0.038257</td>\n",
       "      <td>0.047261</td>\n",
       "      <td>0.009049</td>\n",
       "      <td>0.066352</td>\n",
       "    </tr>\n",
       "    <tr>\n",
       "      <th>(0.451, 0.455]</th>\n",
       "      <td>0.346053</td>\n",
       "      <td>0.313216</td>\n",
       "      <td>0.302043</td>\n",
       "      <td>0.295869</td>\n",
       "      <td>0.316676</td>\n",
       "      <td>0.271397</td>\n",
       "      <td>0.327434</td>\n",
       "      <td>0.448472</td>\n",
       "    </tr>\n",
       "    <tr>\n",
       "      <th>(0.455, 0.46]</th>\n",
       "      <td>0.553038</td>\n",
       "      <td>0.526039</td>\n",
       "      <td>0.480541</td>\n",
       "      <td>0.419975</td>\n",
       "      <td>0.380435</td>\n",
       "      <td>0.517860</td>\n",
       "      <td>0.498650</td>\n",
       "      <td>0.535954</td>\n",
       "    </tr>\n",
       "    <tr>\n",
       "      <th>(0.46, 0.464]</th>\n",
       "      <td>0.490357</td>\n",
       "      <td>0.503986</td>\n",
       "      <td>0.465265</td>\n",
       "      <td>0.450193</td>\n",
       "      <td>0.416652</td>\n",
       "      <td>0.438970</td>\n",
       "      <td>0.486051</td>\n",
       "      <td>0.530861</td>\n",
       "    </tr>\n",
       "    <tr>\n",
       "      <th>(0.464, 0.469]</th>\n",
       "      <td>0.422931</td>\n",
       "      <td>0.415188</td>\n",
       "      <td>0.405837</td>\n",
       "      <td>0.388271</td>\n",
       "      <td>0.370951</td>\n",
       "      <td>0.353492</td>\n",
       "      <td>0.382702</td>\n",
       "      <td>0.396626</td>\n",
       "    </tr>\n",
       "    <tr>\n",
       "      <th>(0.469, 0.473]</th>\n",
       "      <td>0.345188</td>\n",
       "      <td>0.354583</td>\n",
       "      <td>0.360374</td>\n",
       "      <td>0.296958</td>\n",
       "      <td>0.293736</td>\n",
       "      <td>0.305650</td>\n",
       "      <td>0.317423</td>\n",
       "      <td>0.337941</td>\n",
       "    </tr>\n",
       "    <tr>\n",
       "      <th>(0.473, 0.478]</th>\n",
       "      <td>0.308421</td>\n",
       "      <td>0.273318</td>\n",
       "      <td>0.266749</td>\n",
       "      <td>0.240319</td>\n",
       "      <td>0.263725</td>\n",
       "      <td>0.189948</td>\n",
       "      <td>0.268789</td>\n",
       "      <td>0.329635</td>\n",
       "    </tr>\n",
       "    <tr>\n",
       "      <th>(0.478, 0.482]</th>\n",
       "      <td>0.340737</td>\n",
       "      <td>0.210662</td>\n",
       "      <td>0.239164</td>\n",
       "      <td>0.244536</td>\n",
       "      <td>0.172348</td>\n",
       "      <td>0.172114</td>\n",
       "      <td>0.184460</td>\n",
       "      <td>0.273940</td>\n",
       "    </tr>\n",
       "    <tr>\n",
       "      <th>(0.482, 0.487]</th>\n",
       "      <td>0.272963</td>\n",
       "      <td>0.227986</td>\n",
       "      <td>0.190299</td>\n",
       "      <td>0.141305</td>\n",
       "      <td>0.165328</td>\n",
       "      <td>0.184549</td>\n",
       "      <td>0.169460</td>\n",
       "      <td>0.285440</td>\n",
       "    </tr>\n",
       "    <tr>\n",
       "      <th>(0.487, 0.491]</th>\n",
       "      <td>0.260289</td>\n",
       "      <td>0.193086</td>\n",
       "      <td>0.161004</td>\n",
       "      <td>0.120957</td>\n",
       "      <td>0.141377</td>\n",
       "      <td>0.130113</td>\n",
       "      <td>0.172427</td>\n",
       "      <td>0.158317</td>\n",
       "    </tr>\n",
       "    <tr>\n",
       "      <th>(0.491, 0.496]</th>\n",
       "      <td>0.266261</td>\n",
       "      <td>0.226177</td>\n",
       "      <td>0.159910</td>\n",
       "      <td>0.152987</td>\n",
       "      <td>0.126954</td>\n",
       "      <td>0.130951</td>\n",
       "      <td>0.164328</td>\n",
       "      <td>0.212499</td>\n",
       "    </tr>\n",
       "    <tr>\n",
       "      <th>(0.496, 0.5]</th>\n",
       "      <td>0.256475</td>\n",
       "      <td>0.176098</td>\n",
       "      <td>0.169491</td>\n",
       "      <td>0.151119</td>\n",
       "      <td>0.084741</td>\n",
       "      <td>0.131743</td>\n",
       "      <td>0.143097</td>\n",
       "      <td>0.160399</td>\n",
       "    </tr>\n",
       "    <tr>\n",
       "      <th>(0.5, 0.504]</th>\n",
       "      <td>0.272556</td>\n",
       "      <td>0.179654</td>\n",
       "      <td>0.147920</td>\n",
       "      <td>0.170333</td>\n",
       "      <td>0.178371</td>\n",
       "      <td>0.160915</td>\n",
       "      <td>0.109366</td>\n",
       "      <td>0.180773</td>\n",
       "    </tr>\n",
       "    <tr>\n",
       "      <th>(0.504, 0.509]</th>\n",
       "      <td>0.239542</td>\n",
       "      <td>0.192819</td>\n",
       "      <td>0.183053</td>\n",
       "      <td>0.142238</td>\n",
       "      <td>0.142837</td>\n",
       "      <td>0.108845</td>\n",
       "      <td>0.140549</td>\n",
       "      <td>0.199102</td>\n",
       "    </tr>\n",
       "    <tr>\n",
       "      <th>(0.509, 0.513]</th>\n",
       "      <td>0.233231</td>\n",
       "      <td>0.207193</td>\n",
       "      <td>0.216521</td>\n",
       "      <td>0.167395</td>\n",
       "      <td>0.216223</td>\n",
       "      <td>0.161458</td>\n",
       "      <td>0.168375</td>\n",
       "      <td>0.213488</td>\n",
       "    </tr>\n",
       "    <tr>\n",
       "      <th>(0.513, 0.518]</th>\n",
       "      <td>0.246054</td>\n",
       "      <td>0.252411</td>\n",
       "      <td>0.225226</td>\n",
       "      <td>0.159800</td>\n",
       "      <td>0.142474</td>\n",
       "      <td>0.271758</td>\n",
       "      <td>0.240218</td>\n",
       "      <td>0.226901</td>\n",
       "    </tr>\n",
       "    <tr>\n",
       "      <th>(0.518, 0.522]</th>\n",
       "      <td>0.245317</td>\n",
       "      <td>0.242257</td>\n",
       "      <td>0.210939</td>\n",
       "      <td>0.203229</td>\n",
       "      <td>0.133176</td>\n",
       "      <td>0.189179</td>\n",
       "      <td>0.175577</td>\n",
       "      <td>0.248546</td>\n",
       "    </tr>\n",
       "    <tr>\n",
       "      <th>(0.522, 0.527]</th>\n",
       "      <td>0.312837</td>\n",
       "      <td>0.296169</td>\n",
       "      <td>0.250376</td>\n",
       "      <td>0.223441</td>\n",
       "      <td>0.205519</td>\n",
       "      <td>0.278929</td>\n",
       "      <td>0.258113</td>\n",
       "      <td>0.316070</td>\n",
       "    </tr>\n",
       "    <tr>\n",
       "      <th>(0.527, 0.531]</th>\n",
       "      <td>0.355638</td>\n",
       "      <td>0.312077</td>\n",
       "      <td>0.324788</td>\n",
       "      <td>0.285454</td>\n",
       "      <td>0.252391</td>\n",
       "      <td>0.329787</td>\n",
       "      <td>0.307652</td>\n",
       "      <td>0.321776</td>\n",
       "    </tr>\n",
       "    <tr>\n",
       "      <th>(0.531, 0.536]</th>\n",
       "      <td>0.432269</td>\n",
       "      <td>0.424102</td>\n",
       "      <td>0.367751</td>\n",
       "      <td>0.368545</td>\n",
       "      <td>0.366750</td>\n",
       "      <td>0.337314</td>\n",
       "      <td>0.355916</td>\n",
       "      <td>0.464374</td>\n",
       "    </tr>\n",
       "    <tr>\n",
       "      <th>(0.536, 0.54]</th>\n",
       "      <td>0.478764</td>\n",
       "      <td>0.514951</td>\n",
       "      <td>0.446162</td>\n",
       "      <td>0.462868</td>\n",
       "      <td>0.393982</td>\n",
       "      <td>0.443290</td>\n",
       "      <td>0.531999</td>\n",
       "      <td>0.511795</td>\n",
       "    </tr>\n",
       "    <tr>\n",
       "      <th>(0.54, 0.545]</th>\n",
       "      <td>0.525368</td>\n",
       "      <td>0.575373</td>\n",
       "      <td>0.526463</td>\n",
       "      <td>0.485149</td>\n",
       "      <td>0.474195</td>\n",
       "      <td>0.554904</td>\n",
       "      <td>0.583798</td>\n",
       "      <td>0.566927</td>\n",
       "    </tr>\n",
       "    <tr>\n",
       "      <th>(0.545, 0.549]</th>\n",
       "      <td>0.443224</td>\n",
       "      <td>0.438990</td>\n",
       "      <td>0.343883</td>\n",
       "      <td>0.342287</td>\n",
       "      <td>0.350574</td>\n",
       "      <td>0.363665</td>\n",
       "      <td>0.494369</td>\n",
       "      <td>0.550752</td>\n",
       "    </tr>\n",
       "    <tr>\n",
       "      <th>(0.549, 0.554]</th>\n",
       "      <td>0.073279</td>\n",
       "      <td>0.091063</td>\n",
       "      <td>0.076852</td>\n",
       "      <td>0.055598</td>\n",
       "      <td>0.066769</td>\n",
       "      <td>0.042709</td>\n",
       "      <td>0.028239</td>\n",
       "      <td>0.109320</td>\n",
       "    </tr>\n",
       "  </tbody>\n",
       "</table>\n",
       "</div>"
      ],
      "text/plain": [
       "destination_pos_z_bin  (0.0, 0.297]  (0.297, 0.594]  (0.594, 0.892]  \\\n",
       "destination_pos_y_bin                                                 \n",
       "(0.446, 0.451]             0.033903        0.043593        0.034465   \n",
       "(0.451, 0.455]             0.346053        0.313216        0.302043   \n",
       "(0.455, 0.46]              0.553038        0.526039        0.480541   \n",
       "(0.46, 0.464]              0.490357        0.503986        0.465265   \n",
       "(0.464, 0.469]             0.422931        0.415188        0.405837   \n",
       "(0.469, 0.473]             0.345188        0.354583        0.360374   \n",
       "(0.473, 0.478]             0.308421        0.273318        0.266749   \n",
       "(0.478, 0.482]             0.340737        0.210662        0.239164   \n",
       "(0.482, 0.487]             0.272963        0.227986        0.190299   \n",
       "(0.487, 0.491]             0.260289        0.193086        0.161004   \n",
       "(0.491, 0.496]             0.266261        0.226177        0.159910   \n",
       "(0.496, 0.5]               0.256475        0.176098        0.169491   \n",
       "(0.5, 0.504]               0.272556        0.179654        0.147920   \n",
       "(0.504, 0.509]             0.239542        0.192819        0.183053   \n",
       "(0.509, 0.513]             0.233231        0.207193        0.216521   \n",
       "(0.513, 0.518]             0.246054        0.252411        0.225226   \n",
       "(0.518, 0.522]             0.245317        0.242257        0.210939   \n",
       "(0.522, 0.527]             0.312837        0.296169        0.250376   \n",
       "(0.527, 0.531]             0.355638        0.312077        0.324788   \n",
       "(0.531, 0.536]             0.432269        0.424102        0.367751   \n",
       "(0.536, 0.54]              0.478764        0.514951        0.446162   \n",
       "(0.54, 0.545]              0.525368        0.575373        0.526463   \n",
       "(0.545, 0.549]             0.443224        0.438990        0.343883   \n",
       "(0.549, 0.554]             0.073279        0.091063        0.076852   \n",
       "\n",
       "destination_pos_z_bin  (0.892, 1.189]  (1.189, 1.486]  (1.486, 1.783]  \\\n",
       "destination_pos_y_bin                                                   \n",
       "(0.446, 0.451]               0.022375        0.038257        0.047261   \n",
       "(0.451, 0.455]               0.295869        0.316676        0.271397   \n",
       "(0.455, 0.46]                0.419975        0.380435        0.517860   \n",
       "(0.46, 0.464]                0.450193        0.416652        0.438970   \n",
       "(0.464, 0.469]               0.388271        0.370951        0.353492   \n",
       "(0.469, 0.473]               0.296958        0.293736        0.305650   \n",
       "(0.473, 0.478]               0.240319        0.263725        0.189948   \n",
       "(0.478, 0.482]               0.244536        0.172348        0.172114   \n",
       "(0.482, 0.487]               0.141305        0.165328        0.184549   \n",
       "(0.487, 0.491]               0.120957        0.141377        0.130113   \n",
       "(0.491, 0.496]               0.152987        0.126954        0.130951   \n",
       "(0.496, 0.5]                 0.151119        0.084741        0.131743   \n",
       "(0.5, 0.504]                 0.170333        0.178371        0.160915   \n",
       "(0.504, 0.509]               0.142238        0.142837        0.108845   \n",
       "(0.509, 0.513]               0.167395        0.216223        0.161458   \n",
       "(0.513, 0.518]               0.159800        0.142474        0.271758   \n",
       "(0.518, 0.522]               0.203229        0.133176        0.189179   \n",
       "(0.522, 0.527]               0.223441        0.205519        0.278929   \n",
       "(0.527, 0.531]               0.285454        0.252391        0.329787   \n",
       "(0.531, 0.536]               0.368545        0.366750        0.337314   \n",
       "(0.536, 0.54]                0.462868        0.393982        0.443290   \n",
       "(0.54, 0.545]                0.485149        0.474195        0.554904   \n",
       "(0.545, 0.549]               0.342287        0.350574        0.363665   \n",
       "(0.549, 0.554]               0.055598        0.066769        0.042709   \n",
       "\n",
       "destination_pos_z_bin  (1.783, 2.08]  (2.08, 2.377]  \n",
       "destination_pos_y_bin                                \n",
       "(0.446, 0.451]              0.009049       0.066352  \n",
       "(0.451, 0.455]              0.327434       0.448472  \n",
       "(0.455, 0.46]               0.498650       0.535954  \n",
       "(0.46, 0.464]               0.486051       0.530861  \n",
       "(0.464, 0.469]              0.382702       0.396626  \n",
       "(0.469, 0.473]              0.317423       0.337941  \n",
       "(0.473, 0.478]              0.268789       0.329635  \n",
       "(0.478, 0.482]              0.184460       0.273940  \n",
       "(0.482, 0.487]              0.169460       0.285440  \n",
       "(0.487, 0.491]              0.172427       0.158317  \n",
       "(0.491, 0.496]              0.164328       0.212499  \n",
       "(0.496, 0.5]                0.143097       0.160399  \n",
       "(0.5, 0.504]                0.109366       0.180773  \n",
       "(0.504, 0.509]              0.140549       0.199102  \n",
       "(0.509, 0.513]              0.168375       0.213488  \n",
       "(0.513, 0.518]              0.240218       0.226901  \n",
       "(0.518, 0.522]              0.175577       0.248546  \n",
       "(0.522, 0.527]              0.258113       0.316070  \n",
       "(0.527, 0.531]              0.307652       0.321776  \n",
       "(0.531, 0.536]              0.355916       0.464374  \n",
       "(0.536, 0.54]               0.531999       0.511795  \n",
       "(0.54, 0.545]               0.583798       0.566927  \n",
       "(0.545, 0.549]              0.494369       0.550752  \n",
       "(0.549, 0.554]              0.028239       0.109320  "
      ]
     },
     "execution_count": 41,
     "metadata": {},
     "output_type": "execute_result"
    }
   ],
   "source": [
    "y_bins = [y_pred[\"destination_pos_y\"].min()+(y_pred[\"destination_pos_y\"].max() - y_pred[\"destination_pos_y\"].min())/24*x for x in range(0,25)]\n",
    "z_bins = [y_pred[\"destination_pos_z\"].min()+(y_pred[\"destination_pos_z\"].max() - y_pred[\"destination_pos_z\"].min())/8*x for x in range(0,9)]\n",
    "\n",
    "y_pred['destination_pos_y_bin'] = pd.cut(y_pred[\"destination_pos_y\"], bins=y_bins)\n",
    "y_pred['destination_pos_z_bin'] = pd.cut(y_pred[\"destination_pos_z\"], bins=z_bins)\n",
    "y_pred = y_pred.drop([\"destination_pos_y\",'destination_pos_z'],axis=1)\n",
    "y_pred = y_pred.groupby(['destination_pos_y_bin','destination_pos_z_bin']).mean()\n",
    "hist = y_pred.pivot_table(values='is_goal_pred', index=\"destination_pos_y_bin\", columns='destination_pos_z_bin')\n",
    "hist"
   ]
  },
  {
   "cell_type": "code",
   "execution_count": 42,
   "metadata": {
    "jupyter": {
     "outputs_hidden": false
    },
    "pycharm": {
     "name": "#%%\n"
    }
   },
   "outputs": [
    {
     "data": {
      "text/plain": [
       "<matplotlib.colorbar.Colorbar at 0x1b5494be220>"
      ]
     },
     "execution_count": 42,
     "metadata": {},
     "output_type": "execute_result"
    },
    {
     "data": {
      "image/png": "[encoded data removed]",
      "text/plain": [
       "<Figure size 1200x500 with 2 Axes>"
      ]
     },
     "metadata": {
      "needs_background": "light"
     },
     "output_type": "display_data"
    }
   ],
   "source": [
    "fig, ax = plt.subplots(figsize=(12, 5), dpi=100)\n",
    "im = ax.imshow(hist.T, cmap=\"Blues\",origin='lower', aspect='auto')\n",
    "ax.set_title(\"Goal heatmap\")\n",
    "fig.colorbar(im, ax=ax)"
   ]
  }
 ],
 "metadata": {
  "kernelspec": {
   "display_name": "Python 3",
   "language": "python",
   "name": "python3"
  },
  "language_info": {
   "codemirror_mode": {
    "name": "ipython",
    "version": 3
   },
   "file_extension": ".py",
   "mimetype": "text/x-python",
   "name": "python",
   "nbconvert_exporter": "python",
   "pygments_lexer": "ipython3",
   "version": "3.8.3"
  }
 },
 "nbformat": 4,
 "nbformat_minor": 4
}
