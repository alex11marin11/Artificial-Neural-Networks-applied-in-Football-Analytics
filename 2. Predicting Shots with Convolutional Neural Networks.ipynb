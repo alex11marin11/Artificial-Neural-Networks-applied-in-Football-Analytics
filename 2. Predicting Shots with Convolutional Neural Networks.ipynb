{
 "cells": [
  {
   "cell_type": "code",
   "execution_count": 1,
   "metadata": {
    "jupyter": {
     "outputs_hidden": false
    },
    "pycharm": {
     "name": "#%%\n"
    }
   },
   "outputs": [],
   "source": [
    "import pandas as pd\n",
    "import numpy as np\n",
    "import itertools\n",
    "import math\n",
    "import os\n",
    "\n",
    "from sklearn.model_selection import ShuffleSplit, StratifiedShuffleSplit\n",
    "from sklearn.preprocessing import StandardScaler\n",
    "\n",
    "import matplotlib.pyplot as plt\n",
    "\n",
    "try:\n",
    "    import tensorflow as tf\n",
    "    from tensorflow.keras.models import Sequential, Model\n",
    "    from tensorflow.keras.layers import Flatten, Dense, Conv2D, MaxPooling2D\n",
    "    from tensorflow.keras.optimizers import SGD\n",
    "except:\n",
    "    os.system('python3 -m pip install tensorflow==2.7')\n",
    "    import tensorflow as tf\n",
    "    from tensorflow.keras.models import Sequential, Model\n",
    "    from tensorflow.keras.layers import Flatten, Dense, Conv2D, MaxPooling2D\n",
    "    from tensorflow.keras.optimizers import SGD"
   ]
  },
  {
   "cell_type": "markdown",
   "metadata": {},
   "source": [
    "# Artificial Neural Networks applied in Football Analytics II"
   ]
  },
  {
   "cell_type": "markdown",
   "metadata": {},
   "source": [
    "During my project, I built different kinds of Artificial Neural Network (ANN) models in order to solve some problems and see new applications of data in sports analytics. To do so, I used TensorFlow, an open-source library for machine learning that is very optimised for this kind of models. I chose this library as it is one of the most popular ones.\n",
    "\n",
    "As I started working with TensorFlow, I encountered a few backward-compatibility issues due to newer versions of the library not being able to run code written for older versions. Therefore, I made sure to use the same version of TensorFlow as the one used to prepare this project: 2.7 (latest stable version at the moment of writing this).\n",
    "\n",
    "During the project, I built 3 different kinds of ANN, each to solve a different problem using a different dataset. I started by designing and training a Multilayer Perceptron (MLP) (or feedforward ANN) to compute a metric called Post-Shot Expected Goals (PSxG). Later on, I constructed a Convolutional Neural Network (CNN) to be used as an action selection model through spatial data, which is the focus of this Notebook. Finally, I designed an Autoencoder to reduce the dimensionality of a dataset consisting of aggregated player stats in order to apply clustering algorithms and find different groups of players.\n",
    "\n",
    "It is worth noting that ANNs allow for lots of hyper-parameters to be tuned, as well as the many possible structures we can use. Finding the most appropriate design is sometimes regarded more as an art rather than a science, given that trying all possible combinations may be too power and time consuming. Due to the time limitation of my project, I only tried to find performance improvements by applying some tweaks on the model for the first exercise. For the rest, I focused on how can the different network structures be helpful given their nature. I didn't use methods such as cross-validation for model selection due to time limitations, but I am aware that these procedures should be used when dealing with real-world problems."
   ]
  },
  {
   "cell_type": "markdown",
   "metadata": {},
   "source": [
    "The next cell presents a group of methods that I will use to train and evaluate the NN models I create. This will be helpful to allow changing model parameters and configurations in a simplified manner. The methods are pretty straight-forward."
   ]
  },
  {
   "cell_type": "code",
   "execution_count": 2,
   "metadata": {
    "jupyter": {
     "outputs_hidden": false
    },
    "pycharm": {
     "name": "#%%\n"
    }
   },
   "outputs": [],
   "source": [
    "def train_and_evaluate_model(m, _data, loss=\"mean_squared_error\", metrics=[\"accuracy\", \"mean_squared_error\"], learning_rate=0.1, momentum=0.0, epochs=50, batch_size=64, verbose=1):\n",
    "    evaluate_model(train_model(m, _data, loss, metrics, learning_rate, momentum, epochs, batch_size, verbose), _data, metrics)\n",
    "\n",
    "def train_model(m, _data, loss=\"mean_squared_error\", metrics=[\"accuracy\", \"mean_squared_error\"], learning_rate=0.1, momentum=0.0, epochs=50, batch_size=64, verbose=1):\n",
    "    tf.random.set_seed(1234)\n",
    "    m.compile(optimizer=SGD(learning_rate=learning_rate, momentum=momentum), loss=loss, metrics=metrics)\n",
    "    m.fit(_data[\"X_train\"], _data[\"y_train\"], epochs=epochs , batch_size=batch_size, validation_split=0.2, verbose=verbose)\n",
    "    return m\n",
    "\n",
    "def evaluate_model(m, _data, metrics):\n",
    "    r = m.evaluate(_data[\"X_test\"], _data[\"y_test\"], verbose=0)\n",
    "    print(\"\\n\" + \" | \".join(\"{0}: {1}\".format(metric, value) for metric, value in zip(metrics, r[1:])))"
   ]
  },
  {
   "cell_type": "markdown",
   "metadata": {},
   "source": [
    "## 2. Predicting shots with Convolutional Neural Networks"
   ]
  },
  {
   "cell_type": "markdown",
   "metadata": {},
   "source": [
    "CNNs are very useful when we are dealing with input that corresponds to images. This is because this kind of NNs are good at finding patterns among predictor variables that situated closely to each other. In the case of images, since the input is the values of their pixels, finding patterns within the values of pixels that are nearby will be key. For now though, I have still not worked with image-like data related to sports. But I can do so if, for example, I transform spatial data into aggregation matrices of fixed size."
   ]
  },
  {
   "cell_type": "code",
   "execution_count": 3,
   "metadata": {
    "jupyter": {
     "outputs_hidden": false
    },
    "pycharm": {
     "name": "#%%\n"
    }
   },
   "outputs": [
    {
     "data": {
      "text/html": [
       "<div>\n",
       "<style scoped>\n",
       "    .dataframe tbody tr th:only-of-type {\n",
       "        vertical-align: middle;\n",
       "    }\n",
       "\n",
       "    .dataframe tbody tr th {\n",
       "        vertical-align: top;\n",
       "    }\n",
       "\n",
       "    .dataframe thead th {\n",
       "        text-align: right;\n",
       "    }\n",
       "</style>\n",
       "<table border=\"1\" class=\"dataframe\">\n",
       "  <thead>\n",
       "    <tr style=\"text-align: right;\">\n",
       "      <th></th>\n",
       "      <th>event_type</th>\n",
       "      <th>norm_origin_pos_x</th>\n",
       "      <th>norm_origin_pos_y</th>\n",
       "      <th>possession_image</th>\n",
       "      <th>opposition_image</th>\n",
       "    </tr>\n",
       "  </thead>\n",
       "  <tbody>\n",
       "    <tr>\n",
       "      <th>0</th>\n",
       "      <td>Pass</td>\n",
       "      <td>0.641838</td>\n",
       "      <td>0.641445</td>\n",
       "      <td>[[0.0, 0.0, 0.0, 0.0, 0.0, 0.0, 0.0, 0.0, 0.0,...</td>\n",
       "      <td>[[0.0, 0.0, 0.0, 0.0, 0.0, 0.0, 0.0, 0.0, 0.0,...</td>\n",
       "    </tr>\n",
       "    <tr>\n",
       "      <th>1</th>\n",
       "      <td>Pass</td>\n",
       "      <td>0.703385</td>\n",
       "      <td>0.300251</td>\n",
       "      <td>[[0.0, 0.0, 0.0, 0.0, 0.0, 0.0, 0.0, 0.0, 0.0,...</td>\n",
       "      <td>[[0.0, 0.0, 0.0, 0.0, 1.0, 0.0, 0.0, 0.0, 0.0,...</td>\n",
       "    </tr>\n",
       "    <tr>\n",
       "      <th>2</th>\n",
       "      <td>Pass</td>\n",
       "      <td>0.569177</td>\n",
       "      <td>0.849875</td>\n",
       "      <td>[[0.0, 0.0, 0.0, 0.0, 0.0, 0.0, 0.0, 0.0, 0.0,...</td>\n",
       "      <td>[[0.0, 0.0, 0.0, 0.0, 0.0, 0.0, 0.0, 0.0, 0.0,...</td>\n",
       "    </tr>\n",
       "    <tr>\n",
       "      <th>3</th>\n",
       "      <td>Pass</td>\n",
       "      <td>0.043962</td>\n",
       "      <td>0.573206</td>\n",
       "      <td>[[0.0, 0.0, 0.0, 0.0, 0.0, 0.0, 0.0, 0.0, 0.0,...</td>\n",
       "      <td>[[0.0, 0.0, 0.0, 0.0, 0.0, 0.0, 0.0, 0.0, 0.0,...</td>\n",
       "    </tr>\n",
       "    <tr>\n",
       "      <th>4</th>\n",
       "      <td>Drive</td>\n",
       "      <td>0.393331</td>\n",
       "      <td>0.440442</td>\n",
       "      <td>[[0.0, 0.0, 0.0, 0.0, 0.0, 0.0, 0.0, 0.0, 0.0,...</td>\n",
       "      <td>[[0.0, 0.0, 0.0, 0.0, 0.0, 1.0, 0.0, 0.0, 0.0,...</td>\n",
       "    </tr>\n",
       "  </tbody>\n",
       "</table>\n",
       "</div>"
      ],
      "text/plain": [
       "  event_type  norm_origin_pos_x  norm_origin_pos_y  \\\n",
       "0       Pass           0.641838           0.641445   \n",
       "1       Pass           0.703385           0.300251   \n",
       "2       Pass           0.569177           0.849875   \n",
       "3       Pass           0.043962           0.573206   \n",
       "4      Drive           0.393331           0.440442   \n",
       "\n",
       "                                    possession_image  \\\n",
       "0  [[0.0, 0.0, 0.0, 0.0, 0.0, 0.0, 0.0, 0.0, 0.0,...   \n",
       "1  [[0.0, 0.0, 0.0, 0.0, 0.0, 0.0, 0.0, 0.0, 0.0,...   \n",
       "2  [[0.0, 0.0, 0.0, 0.0, 0.0, 0.0, 0.0, 0.0, 0.0,...   \n",
       "3  [[0.0, 0.0, 0.0, 0.0, 0.0, 0.0, 0.0, 0.0, 0.0,...   \n",
       "4  [[0.0, 0.0, 0.0, 0.0, 0.0, 0.0, 0.0, 0.0, 0.0,...   \n",
       "\n",
       "                                    opposition_image  \n",
       "0  [[0.0, 0.0, 0.0, 0.0, 0.0, 0.0, 0.0, 0.0, 0.0,...  \n",
       "1  [[0.0, 0.0, 0.0, 0.0, 1.0, 0.0, 0.0, 0.0, 0.0,...  \n",
       "2  [[0.0, 0.0, 0.0, 0.0, 0.0, 0.0, 0.0, 0.0, 0.0,...  \n",
       "3  [[0.0, 0.0, 0.0, 0.0, 0.0, 0.0, 0.0, 0.0, 0.0,...  \n",
       "4  [[0.0, 0.0, 0.0, 0.0, 0.0, 1.0, 0.0, 0.0, 0.0,...  "
      ]
     },
     "execution_count": 3,
     "metadata": {},
     "output_type": "execute_result"
    }
   ],
   "source": [
    "df_events = pd.read_csv(\"data/df_events.csv\")\n",
    "df_events.head()"
   ]
  },
  {
   "cell_type": "markdown",
   "metadata": {},
   "source": [
    "I loaded a dataframe that contained spatial information recorded at the moment each event present was produced. The dataframe had information such as the type of event, the normalized position where it happened in the field, and two different matrices that represented the positions of the players that either belong to the team that was in possession or the opposition. However, these matrices were coded as sparse matrices of 34x52, where the bins with 1 (or more) show that there was 1 (or more) players in that part of the field. Note that the field size was 105x68m (68x105 seen vertically), so each bin of the matrix represented a region of 2 squared meters.\n",
    "\n",
    "Both the array and matrix columns were not read correctly by pandas from CSV files (they were read as strings). So I ran the following cell to transform them back to ndarrays. It took a few minutes to run..."
   ]
  },
  {
   "cell_type": "code",
   "execution_count": 4,
   "metadata": {
    "jupyter": {
     "outputs_hidden": false
    },
    "pycharm": {
     "name": "#%%\n"
    }
   },
   "outputs": [],
   "source": [
    "df_events['possession_image'] = df_events['possession_image'].apply(lambda x: np.array(eval(x)))\n",
    "df_events['opposition_image'] = df_events['opposition_image'].apply(lambda x: np.array(eval(x)))"
   ]
  },
  {
   "cell_type": "markdown",
   "metadata": {},
   "source": [
    "My goal was to build a CNN capable of predicting the event type, given all the spatial data. But before doing that, I needed to convert the original position of the event into the same format as the positions of the players. I transformed each origin position into a 34x52 ndarray full of zeros but for the bin where that position would fall into (which was a 1). I took into account that the matrix was transposed, so its first axis corresponded to the pos_y and the second to the pos_x."
   ]
  },
  {
   "cell_type": "code",
   "execution_count": 5,
   "metadata": {},
   "outputs": [],
   "source": [
    "from scipy.sparse import csr_matrix\n",
    "\n",
    "# Define the shape of the sparse matrix\n",
    "output_shape = (34, 52)\n",
    "\n",
    "# Define a function to create the ndarray for each row\n",
    "def create_sparse_matrix(row):\n",
    "    # Extract the origin position coordinates from the row\n",
    "    x_pos = int(np.clip(row['norm_origin_pos_x'], 0, 0.9999999) * output_shape[1])\n",
    "    y_pos = int(np.clip(row['norm_origin_pos_y'], 0, 0.9999999) * output_shape[0])\n",
    "\n",
    "    # Create the ndarray with a 1 at the specified coordinate\n",
    "    ndarray = np.zeros(output_shape)\n",
    "    ndarray[y_pos, x_pos] = 1\n",
    "\n",
    "    return ndarray\n",
    "\n",
    "# There are some rows with values < 0. I transform into positive instead of 0 as some have values far from 0 (e.g. -0.5)\n",
    "df_events['norm_origin_pos_x'] = np.where(df_events['norm_origin_pos_x']<0,-df_events['norm_origin_pos_x'],df_events['norm_origin_pos_x'])\n",
    "df_events['norm_origin_pos_y'] = np.where(df_events['norm_origin_pos_y']<0,-df_events['norm_origin_pos_y'],df_events['norm_origin_pos_y'])\n",
    "\n",
    "# There are some rows with values > 1. I transform into 1\n",
    "df_events['norm_origin_pos_x'] = np.where(df_events['norm_origin_pos_x']>1,1,df_events['norm_origin_pos_x'])\n",
    "df_events['norm_origin_pos_y'] = np.where(df_events['norm_origin_pos_y']>1,1,df_events['norm_origin_pos_y'])\n",
    "\n",
    "df_events['ball_image'] = df_events.apply(lambda row: create_sparse_matrix(row), axis=1)"
   ]
  },
  {
   "cell_type": "markdown",
   "metadata": {},
   "source": [
    "Once I had prepared the predictor variables, it was time to prepare the response variables. I applied a one-hot encoding to the event_type to make sure that each of the following variables was 1 when it corresponded and 0 for the rest."
   ]
  },
  {
   "cell_type": "code",
   "execution_count": 6,
   "metadata": {
    "jupyter": {
     "outputs_hidden": false
    },
    "pycharm": {
     "name": "#%%\n"
    }
   },
   "outputs": [],
   "source": [
    "df_events['is_pass'] = np.where(df_events['event_type']=='Pass',1,0)\n",
    "df_events['is_drive'] = np.where(df_events['event_type']=='Drive',1,0)\n",
    "df_events['is_shot'] = np.where(df_events['event_type']=='Shot',1,0)"
   ]
  },
  {
   "cell_type": "markdown",
   "metadata": {},
   "source": [
    "Let's now put together each group of variables into 2 different multidimensional ndarrays."
   ]
  },
  {
   "cell_type": "code",
   "execution_count": 7,
   "metadata": {
    "jupyter": {
     "outputs_hidden": false
    },
    "pycharm": {
     "name": "#%%\n"
    }
   },
   "outputs": [],
   "source": [
    "X = np.stack(df_events.apply(lambda x: np.dstack([x[\"possession_image\"], x[\"opposition_image\"], x[\"ball_image\"]]), axis=1))\n",
    "y = df_events[[\"is_pass\", \"is_drive\", \"is_shot\"]].values"
   ]
  },
  {
   "cell_type": "code",
   "execution_count": 8,
   "metadata": {
    "jupyter": {
     "outputs_hidden": false
    },
    "pycharm": {
     "name": "#%%\n"
    }
   },
   "outputs": [
    {
     "data": {
      "text/plain": [
       "((99334, 34, 52, 3), (99334, 3))"
      ]
     },
     "execution_count": 8,
     "metadata": {},
     "output_type": "execute_result"
    }
   ],
   "source": [
    "X.shape, y.shape"
   ]
  },
  {
   "cell_type": "markdown",
   "metadata": {},
   "source": [
    "And let's split the multidimensional arrays into train and test sets."
   ]
  },
  {
   "cell_type": "code",
   "execution_count": 9,
   "metadata": {
    "jupyter": {
     "outputs_hidden": false
    },
    "pycharm": {
     "name": "#%%\n"
    }
   },
   "outputs": [],
   "source": [
    "indexes = list(StratifiedShuffleSplit(n_splits=1, test_size=0.33, random_state=1234).split(X, y))[0]\n",
    "train_index, test_index = indexes\n",
    "X_train, X_test, y_train, y_test = X[train_index], X[test_index], y[train_index], y[test_index]"
   ]
  },
  {
   "cell_type": "code",
   "execution_count": 10,
   "metadata": {
    "jupyter": {
     "outputs_hidden": false
    },
    "pycharm": {
     "name": "#%%\n"
    }
   },
   "outputs": [
    {
     "data": {
      "text/plain": [
       "(array([0.88488874, 0.09529247, 0.01981879]),\n",
       " array([0.88490284, 0.09529911, 0.01979805]))"
      ]
     },
     "execution_count": 10,
     "metadata": {},
     "output_type": "execute_result"
    }
   ],
   "source": [
    "np.mean(y_train, axis=0), np.mean(y_test, axis=0)"
   ]
  },
  {
   "cell_type": "markdown",
   "metadata": {},
   "source": [
    "Again, I saw that the response variables were very unbalanced. So, I used stratified splitting to make sure that both sets contained the same proportions. Then, I normalized the predictor variables so that all values were between 0 and 1. To do so, I just divided the matrices by the value of the bin with the maximum value."
   ]
  },
  {
   "cell_type": "code",
   "execution_count": 11,
   "metadata": {
    "jupyter": {
     "outputs_hidden": false
    },
    "pycharm": {
     "name": "#%%\n"
    }
   },
   "outputs": [
    {
     "data": {
      "text/plain": [
       "3.0"
      ]
     },
     "execution_count": 11,
     "metadata": {},
     "output_type": "execute_result"
    }
   ],
   "source": [
    "np.max(X_train)"
   ]
  },
  {
   "cell_type": "code",
   "execution_count": 12,
   "metadata": {
    "jupyter": {
     "outputs_hidden": false
    },
    "pycharm": {
     "name": "#%%\n"
    }
   },
   "outputs": [],
   "source": [
    "data = {\"X_train\": X_train/np.max(X_train), \"y_train\": y_train, \"X_test\": X_test/np.max(X_train), \"y_test\": y_test}"
   ]
  },
  {
   "cell_type": "markdown",
   "metadata": {},
   "source": [
    "As mentioned earlier, not much detail was given about the structure of the Convolutional Neural Network. I applied a single convolutional layer, with a subsequent max pooling layer. After that, I flattened the input to apply 2 other dense layers: the hidden one and the output. Note that this time, since I was performing a 3-class classification, I needed 3 neurons at the last layer.\n",
    "\n",
    "I kept using the Cross Entropy as the loss function, though this time I used the one for multi-class classification instead of the one for binary classification. I also changed the evaluation metrics to use others more appropriate for this classification problem.\n",
    "\n",
    "I trained the model, which also took a while..."
   ]
  },
  {
   "cell_type": "code",
   "execution_count": 13,
   "metadata": {
    "jupyter": {
     "outputs_hidden": false
    },
    "pycharm": {
     "name": "#%%\n"
    }
   },
   "outputs": [
    {
     "name": "stdout",
     "output_type": "stream",
     "text": [
      "Epoch 1/50\n",
      "832/832 [==============================] - 78s 86ms/step - loss: 0.4186 - precision: 0.8836 - recall: 0.8833 - val_loss: 0.4365 - val_precision: 0.8872 - val_recall: 0.8872\n",
      "Epoch 2/50\n",
      "832/832 [==============================] - 57s 69ms/step - loss: 0.4077 - precision: 0.8843 - recall: 0.8843 - val_loss: 0.3931 - val_precision: 0.8872 - val_recall: 0.8872\n",
      "Epoch 3/50\n",
      "832/832 [==============================] - 51s 61ms/step - loss: 0.3924 - precision: 0.8755 - recall: 0.8857 - val_loss: 0.3777 - val_precision: 0.8021 - val_recall: 0.9014\n",
      "Epoch 4/50\n",
      "832/832 [==============================] - 50s 60ms/step - loss: 0.3801 - precision: 0.6776 - recall: 0.9253 - val_loss: 0.3717 - val_precision: 0.6025 - val_recall: 0.9440\n",
      "Epoch 5/50\n",
      "832/832 [==============================] - 54s 65ms/step - loss: 0.3733 - precision: 0.6005 - recall: 0.9493 - val_loss: 0.3674 - val_precision: 0.5831 - val_recall: 0.9533\n",
      "Epoch 6/50\n",
      "832/832 [==============================] - 48s 58ms/step - loss: 0.3676 - precision: 0.5834 - recall: 0.9571 - val_loss: 0.3633 - val_precision: 0.5882 - val_recall: 0.9543\n",
      "Epoch 7/50\n",
      "832/832 [==============================] - 49s 59ms/step - loss: 0.3612 - precision: 0.5733 - recall: 0.9628 - val_loss: 0.3578 - val_precision: 0.5806 - val_recall: 0.9595\n",
      "Epoch 8/50\n",
      "832/832 [==============================] - 52s 62ms/step - loss: 0.3540 - precision: 0.5663 - recall: 0.9684 - val_loss: 0.3515 - val_precision: 0.5613 - val_recall: 0.9706\n",
      "Epoch 9/50\n",
      "832/832 [==============================] - 52s 63ms/step - loss: 0.3461 - precision: 0.5626 - recall: 0.9730 - val_loss: 0.3442 - val_precision: 0.5524 - val_recall: 0.9752\n",
      "Epoch 10/50\n",
      "832/832 [==============================] - 74s 89ms/step - loss: 0.3394 - precision: 0.5576 - recall: 0.9768 - val_loss: 0.3431 - val_precision: 0.6040 - val_recall: 0.9652\n",
      "Epoch 11/50\n",
      "832/832 [==============================] - 65s 79ms/step - loss: 0.3342 - precision: 0.5543 - recall: 0.9801 - val_loss: 0.3371 - val_precision: 0.5497 - val_recall: 0.9801\n",
      "Epoch 12/50\n",
      "832/832 [==============================] - 68s 81ms/step - loss: 0.3304 - precision: 0.5490 - recall: 0.9822 - val_loss: 0.3370 - val_precision: 0.5400 - val_recall: 0.9827\n",
      "Epoch 13/50\n",
      "832/832 [==============================] - 51s 62ms/step - loss: 0.3268 - precision: 0.5464 - recall: 0.9834 - val_loss: 0.3399 - val_precision: 0.5390 - val_recall: 0.9844\n",
      "Epoch 14/50\n",
      "832/832 [==============================] - 50s 61ms/step - loss: 0.3240 - precision: 0.5452 - recall: 0.9849 - val_loss: 0.3372 - val_precision: 0.5440 - val_recall: 0.9828\n",
      "Epoch 15/50\n",
      "832/832 [==============================] - 47s 57ms/step - loss: 0.3210 - precision: 0.5431 - recall: 0.9860 - val_loss: 0.3390 - val_precision: 0.5404 - val_recall: 0.9843\n",
      "Epoch 16/50\n",
      "832/832 [==============================] - 52s 62ms/step - loss: 0.3180 - precision: 0.5417 - recall: 0.9871 - val_loss: 0.3416 - val_precision: 0.5476 - val_recall: 0.9822\n",
      "Epoch 17/50\n",
      "832/832 [==============================] - 51s 61ms/step - loss: 0.3148 - precision: 0.5417 - recall: 0.9875 - val_loss: 0.3420 - val_precision: 0.5359 - val_recall: 0.9852\n",
      "Epoch 18/50\n",
      "832/832 [==============================] - 48s 58ms/step - loss: 0.3111 - precision: 0.5399 - recall: 0.9887 - val_loss: 0.3444 - val_precision: 0.5406 - val_recall: 0.9844\n",
      "Epoch 19/50\n",
      "832/832 [==============================] - 49s 59ms/step - loss: 0.3075 - precision: 0.5398 - recall: 0.9896 - val_loss: 0.3454 - val_precision: 0.5394 - val_recall: 0.9844\n",
      "Epoch 20/50\n",
      "832/832 [==============================] - 67s 80ms/step - loss: 0.3023 - precision: 0.5394 - recall: 0.9900 - val_loss: 0.3493 - val_precision: 0.5237 - val_recall: 0.9871\n",
      "Epoch 21/50\n",
      "832/832 [==============================] - 53s 64ms/step - loss: 0.2973 - precision: 0.5388 - recall: 0.9906 - val_loss: 0.3500 - val_precision: 0.5355 - val_recall: 0.9848\n",
      "Epoch 22/50\n",
      "832/832 [==============================] - 49s 58ms/step - loss: 0.2913 - precision: 0.5392 - recall: 0.9912 - val_loss: 0.3520 - val_precision: 0.5358 - val_recall: 0.9844\n",
      "Epoch 23/50\n",
      "832/832 [==============================] - 49s 59ms/step - loss: 0.2829 - precision: 0.5386 - recall: 0.9921 - val_loss: 0.3603 - val_precision: 0.5344 - val_recall: 0.9826\n",
      "Epoch 24/50\n",
      "832/832 [==============================] - 50s 60ms/step - loss: 0.2732 - precision: 0.5382 - recall: 0.9932 - val_loss: 0.3593 - val_precision: 0.5314 - val_recall: 0.9848\n",
      "Epoch 25/50\n",
      "832/832 [==============================] - 49s 59ms/step - loss: 0.2610 - precision: 0.5382 - recall: 0.9937 - val_loss: 0.3700 - val_precision: 0.5282 - val_recall: 0.9841\n",
      "Epoch 26/50\n",
      "832/832 [==============================] - 47s 57ms/step - loss: 0.2461 - precision: 0.5384 - recall: 0.9948 - val_loss: 0.3809 - val_precision: 0.5364 - val_recall: 0.9818\n",
      "Epoch 27/50\n",
      "832/832 [==============================] - 47s 57ms/step - loss: 0.2289 - precision: 0.5407 - recall: 0.9954 - val_loss: 0.3894 - val_precision: 0.5338 - val_recall: 0.9814\n",
      "Epoch 28/50\n",
      "832/832 [==============================] - 47s 57ms/step - loss: 0.2106 - precision: 0.5420 - recall: 0.9963 - val_loss: 0.4019 - val_precision: 0.5315 - val_recall: 0.9817\n",
      "Epoch 29/50\n",
      "832/832 [==============================] - 51s 61ms/step - loss: 0.1898 - precision: 0.5457 - recall: 0.9969 - val_loss: 0.4278 - val_precision: 0.5283 - val_recall: 0.9826\n",
      "Epoch 30/50\n",
      "832/832 [==============================] - 52s 63ms/step - loss: 0.1692 - precision: 0.5480 - recall: 0.9977 - val_loss: 0.4766 - val_precision: 0.5257 - val_recall: 0.9796\n",
      "Epoch 31/50\n",
      "832/832 [==============================] - 55s 66ms/step - loss: 0.1476 - precision: 0.5545 - recall: 0.9980 - val_loss: 0.4851 - val_precision: 0.5387 - val_recall: 0.9787\n",
      "Epoch 32/50\n",
      "832/832 [==============================] - 52s 63ms/step - loss: 0.1263 - precision: 0.5594 - recall: 0.9986 - val_loss: 0.5261 - val_precision: 0.5424 - val_recall: 0.9760\n",
      "Epoch 33/50\n",
      "832/832 [==============================] - 52s 62ms/step - loss: 0.1062 - precision: 0.5668 - recall: 0.9991 - val_loss: 0.5620 - val_precision: 0.5472 - val_recall: 0.9746\n",
      "Epoch 34/50\n",
      "832/832 [==============================] - 52s 63ms/step - loss: 0.0877 - precision: 0.5729 - recall: 0.9994 - val_loss: 0.5984 - val_precision: 0.5469 - val_recall: 0.9738\n",
      "Epoch 35/50\n",
      "832/832 [==============================] - 51s 61ms/step - loss: 0.0698 - precision: 0.5785 - recall: 0.9996 - val_loss: 0.6576 - val_precision: 0.5745 - val_recall: 0.9675\n",
      "Epoch 36/50\n",
      "832/832 [==============================] - 51s 61ms/step - loss: 0.0529 - precision: 0.5851 - recall: 0.9998 - val_loss: 0.6858 - val_precision: 0.5620 - val_recall: 0.9696\n",
      "Epoch 37/50\n",
      "832/832 [==============================] - 32s 38ms/step - loss: 0.0389 - precision: 0.5930 - recall: 0.9999 - val_loss: 0.7379 - val_precision: 0.5752 - val_recall: 0.9661\n",
      "Epoch 38/50\n",
      "832/832 [==============================] - 32s 38ms/step - loss: 0.0267 - precision: 0.6008 - recall: 1.0000 - val_loss: 0.7814 - val_precision: 0.5733 - val_recall: 0.9651\n",
      "Epoch 39/50\n",
      "832/832 [==============================] - 32s 39ms/step - loss: 0.0176 - precision: 0.6065 - recall: 1.0000 - val_loss: 0.8228 - val_precision: 0.5787 - val_recall: 0.9644\n",
      "Epoch 40/50\n",
      "832/832 [==============================] - 33s 39ms/step - loss: 0.0117 - precision: 0.6129 - recall: 1.0000 - val_loss: 0.8565 - val_precision: 0.5828 - val_recall: 0.9633\n",
      "Epoch 41/50\n",
      "832/832 [==============================] - 32s 39ms/step - loss: 0.0086 - precision: 0.6176 - recall: 1.0000 - val_loss: 0.8850 - val_precision: 0.5834 - val_recall: 0.9624\n",
      "Epoch 42/50\n",
      "832/832 [==============================] - 33s 39ms/step - loss: 0.0067 - precision: 0.6219 - recall: 1.0000 - val_loss: 0.9142 - val_precision: 0.5926 - val_recall: 0.9598\n",
      "Epoch 43/50\n",
      "832/832 [==============================] - 33s 39ms/step - loss: 0.0056 - precision: 0.6254 - recall: 1.0000 - val_loss: 0.9400 - val_precision: 0.5947 - val_recall: 0.9600\n",
      "Epoch 44/50\n",
      "832/832 [==============================] - 33s 40ms/step - loss: 0.0048 - precision: 0.6280 - recall: 1.0000 - val_loss: 0.9620 - val_precision: 0.5966 - val_recall: 0.9586\n",
      "Epoch 45/50\n"
     ]
    },
    {
     "name": "stdout",
     "output_type": "stream",
     "text": [
      "832/832 [==============================] - 32s 39ms/step - loss: 0.0042 - precision: 0.6304 - recall: 1.0000 - val_loss: 0.9783 - val_precision: 0.5998 - val_recall: 0.9586\n",
      "Epoch 46/50\n",
      "832/832 [==============================] - 33s 39ms/step - loss: 0.0037 - precision: 0.6328 - recall: 1.0000 - val_loss: 0.9922 - val_precision: 0.5983 - val_recall: 0.9577\n",
      "Epoch 47/50\n",
      "832/832 [==============================] - 33s 39ms/step - loss: 0.0034 - precision: 0.6345 - recall: 1.0000 - val_loss: 1.0069 - val_precision: 0.5988 - val_recall: 0.9579\n",
      "Epoch 48/50\n",
      "832/832 [==============================] - 33s 39ms/step - loss: 0.0030 - precision: 0.6358 - recall: 1.0000 - val_loss: 1.0276 - val_precision: 0.6013 - val_recall: 0.9576\n",
      "Epoch 49/50\n",
      "832/832 [==============================] - 33s 39ms/step - loss: 0.0028 - precision: 0.6375 - recall: 1.0000 - val_loss: 1.0370 - val_precision: 0.6027 - val_recall: 0.9569\n",
      "Epoch 50/50\n",
      "832/832 [==============================] - 34s 41ms/step - loss: 0.0026 - precision: 0.6389 - recall: 1.0000 - val_loss: 1.0441 - val_precision: 0.5999 - val_recall: 0.9570\n",
      "\n",
      "<tensorflow.python.keras.metrics.Precision object at 0x0000026CFCF93DF0>: 0.6017827987670898 | <tensorflow.python.keras.metrics.Recall object at 0x0000026DC49AE100>: 0.9576278924942017\n"
     ]
    }
   ],
   "source": [
    "model = Sequential([\n",
    "    # convolutional layer\n",
    "    Conv2D(32, (3, 3), activation='relu', input_shape=(34, 52, 3)),\n",
    "    # max pooling layer\n",
    "    MaxPooling2D((2, 2)),\n",
    "    # flatten layer\n",
    "    Flatten(),\n",
    "    # hidden layer\n",
    "    Dense(32, activation='relu'),\n",
    "    # output layer\n",
    "    Dense(3, activation='sigmoid'),\n",
    "])\n",
    "train_and_evaluate_model(model, data, loss='categorical_crossentropy', metrics=[tf.keras.metrics.Precision(), tf.keras.metrics.Recall()])"
   ]
  },
  {
   "cell_type": "markdown",
   "metadata": {},
   "source": [
    "There is a big difference between the values of both metrics evaluated, precision and recall. Each of them have different situations where the model would be good for and others it would not.\n",
    "\n",
    "Precision and recall are two commonly used metrics to evaluate the performance of a classification model. Precision measures the proportion of predicted positive instances that are actually positive, while recall measures the proportion of actual positive instances that are correctly predicted as positive.\n",
    "\n",
    "In the context of predicting if a shooting action is going to happen, precision would indicate the proportion of predicted shots that actually occur, while recall would indicate the proportion of actual shots that the model is able to detect.\n",
    "\n",
    "A high precision would mean that the model is good at identifying instances where a shot action is likely to happen, and it is unlikely to produce false positives. On the other hand, a high recall would mean that the model is good at identifying all instances of shots that occur, even if it produces some false positives.\n",
    "\n",
    "In general, for predicting a shot action, a model with both high precision and high recall would be ideal, but it is important to weigh the costs of false positives and false negatives against each other, depending on the specific use case. \n",
    "\n",
    "If the precision is high, but the recall is low, it means that the model is able to identify shots accurately, but it is missing a significant number of actual shots. In our use case this would mean that the model is conservative and only predicts the very clear shots even if there are some shots not being identified.\n",
    "\n",
    "If the recall is high, but the precision is low, it means that the model is identifying many instances as shots, but many of those instances are not actually shootings. In this case we have such model where the recall is high, but the precision is low (Precision: 0.5850821733474731 Recall: 0.9636069536209106). So there are a lot of instances where the model predicts with high probability a shot will happen when it did not happen. The model accurately recovers all instances where a shot happened (good) with the consequence that a lot of non-shot actions are classified as shots (bad)."
   ]
  },
  {
   "cell_type": "markdown",
   "metadata": {},
   "source": [
    "The results of the model are not great. Trying different configurations of the network would probably help, but most of all, the best improvement would be adding different kind of data as the input. Using just the locations is probably difficult for any model to predict the next action. Adding player speed and contextual information would probably help a lot. In this part I had limited the input data for simplicity and to avoid longer processing and training times.\n",
    "\n",
    "Following the methodology used in the previous exercise, I plotted a heatmap of the field that indicates where it was more probable for a shot to be produced. As before, I predicted the probabilities for the whole dataset and, for each bin, computed the mean shot probability for all the events whose origin position fell onto that bin."
   ]
  },
  {
   "cell_type": "code",
   "execution_count": 85,
   "metadata": {
    "jupyter": {
     "outputs_hidden": false
    },
    "pycharm": {
     "name": "#%%\n"
    }
   },
   "outputs": [],
   "source": [
    "y_pred = pd.DataFrame(model.predict(X)[:,2],columns=['is_shot_pred'])\n",
    "y_pred=pd.merge(df_events[['norm_origin_pos_x','norm_origin_pos_y']],y_pred,how = 'left',left_index = True, right_index = True).dropna()"
   ]
  },
  {
   "cell_type": "code",
   "execution_count": 86,
   "metadata": {},
   "outputs": [],
   "source": [
    "# Calculate the row and column indices for each coordinate\n",
    "y_pred['norm_origin_pos_y'] = (np.clip(y_pred['norm_origin_pos_y'], 0, 0.999999) * output_shape[0]).astype(int)\n",
    "y_pred['norm_origin_pos_x'] = (np.clip(y_pred['norm_origin_pos_x'], 0, 0.999999) * output_shape[1]).astype(int)\n",
    "\n",
    "y_pred_group = y_pred.groupby(['norm_origin_pos_x','norm_origin_pos_y']).mean()#.reset_index()\n",
    "hist = y_pred_group.pivot_table(values='is_shot_pred', index=\"norm_origin_pos_x\", columns='norm_origin_pos_y')"
   ]
  },
  {
   "cell_type": "markdown",
   "metadata": {},
   "source": [
    "The code below provides a way for drawing a 2D football field. I used it to show a useful visual evaluation obtained from the model."
   ]
  },
  {
   "cell_type": "code",
   "execution_count": 122,
   "metadata": {},
   "outputs": [],
   "source": [
    "import matplotlib.patches as patches\n",
    "\n",
    "ww = 105\n",
    "hh = 68\n",
    "\n",
    "# transform [0,1] range points to meters\n",
    "def point_to_meters(p, width=ww, height=hh):\n",
    "    return np.array([p[0] * width, p[1] * height])\n",
    "\n",
    "\n",
    "# transform meters range points to [0,1] range points\n",
    "def meters_to_points(p,  width=ww, height=hh):\n",
    "    return np.array([p[0] / float(width), p[1] / float(height)])\n",
    "\n",
    "\n",
    "def draw_field(fig_size=8, lines_color=\"#bcbcbc\", background_color=\"white\"):\n",
    "    \"\"\"\n",
    "    Draw a 2D football field\n",
    "    \"\"\"\n",
    "    ratio = ww / float(hh)\n",
    "    f, ax = plt.subplots(1, 1, figsize=(fig_size * ratio, fig_size), dpi=100)\n",
    "\n",
    "    ax.add_patch(patches.Rectangle((0, 0), ww, hh, color=background_color, alpha=0))\n",
    "\n",
    "    line_pts = [\n",
    "        [point_to_meters([0, 0]), point_to_meters([0, 1])],\n",
    "        [point_to_meters([1, 0]), point_to_meters([1, 1])],\n",
    "        [point_to_meters([0, 1]), point_to_meters([1, 1])],  \n",
    "        [point_to_meters([0, 0]), point_to_meters([1, 0])],\n",
    "    ]\n",
    "\n",
    "    for line_pt in line_pts:\n",
    "        ax.plot([line_pt[0][0], line_pt[1][0]], [line_pt[0][1], line_pt[1][1]], 'w-', alpha=0.8,\n",
    "                lw=1.5, zorder=2, color=lines_color)\n",
    "\n",
    "    line_pts = [\n",
    "        [point_to_meters([0.5, 0]), point_to_meters([0.5, 1])],\n",
    "\n",
    "        [[0, 24.85], [0, 2.85]],\n",
    "        [[0, 13.85], [16.5, 13.85]],\n",
    "        [[0, 54.15], [16.5, 54.15]],\n",
    "        [[16.5, 13.85], [16.5, 54.15]],\n",
    "\n",
    "        [[0, 24.85], [5.5, 24.85]],\n",
    "        [[0, 43.15], [5.5, 43.15]],\n",
    "        [[5.5, 24.85], [5.5, 43.15]],\n",
    "\n",
    "        [[105, 24.85], [105, 2.85]],\n",
    "        [[105, 13.85], [88.5, 13.85]],\n",
    "        [[105, 54.15], [88.5, 54.15]],\n",
    "        [[88.5, 13.85], [88.5, 54.15]],\n",
    "\n",
    "        [[105, 24.85], [99.5, 24.85]],\n",
    "        [[105, 43.15], [99.5, 43.15]],\n",
    "        [[99.5, 24.85], [99.5, 43.14]]\n",
    "    ]\n",
    "\n",
    "    for line_pt in line_pts:\n",
    "        ax.plot([line_pt[0][0], line_pt[1][0]], [line_pt[0][1], line_pt[1][1]], 'w-',\n",
    "                alpha=0.8, lw=1.5, zorder=2, color=lines_color)\n",
    "    \n",
    "    # Circles\n",
    "    ax.add_patch(patches.Wedge((94.0, 34.0), 9, 128, 232, fill=True, edgecolor=lines_color,\n",
    "                               facecolor=lines_color, zorder=4, width=0.02))\n",
    "\n",
    "    ax.add_patch(patches.Wedge((11.0, 34.0), 9, 308, 52, fill=True, edgecolor=lines_color,\n",
    "                               facecolor=lines_color, zorder=4, width=0.02))\n",
    "\n",
    "    ax.add_patch(patches.Wedge((52.5, 34), 9.5, 0, 360, fill=True, edgecolor=lines_color,\n",
    "                               facecolor=lines_color, zorder=4, width=0.02))\n",
    "\n",
    "    plt.axis('off')\n",
    "    \n",
    "    return ax"
   ]
  },
  {
   "cell_type": "code",
   "execution_count": 158,
   "metadata": {},
   "outputs": [
    {
     "data": {
      "text/plain": [
       "Text(0.5, 1.0, 'Goal heatmap')"
      ]
     },
     "execution_count": 158,
     "metadata": {},
     "output_type": "execute_result"
    },
    {
     "data": {
      "image/png": "[encoded data removed]",
      "text/plain": [
       "<Figure size 1544.12x1000 with 1 Axes>"
      ]
     },
     "metadata": {
      "needs_background": "light"
     },
     "output_type": "display_data"
    }
   ],
   "source": [
    "# We plot the pitch with the shot heatmap prediction from the model\n",
    "ax = draw_field(fig_size=10, lines_color=\"white\", background_color=\"grey\")\n",
    "im = ax.imshow(hist.T, cmap=\"inferno\",origin='lower', aspect='auto', extent=[0, ww, 0, hh])\n",
    "ax.set_title(\"Goal heatmap\")\n",
    "# fig.colorbar(im, ax=ax, orientation='horizontal')"
   ]
  }
 ],
 "metadata": {
  "kernelspec": {
   "display_name": "Python 3",
   "language": "python",
   "name": "python3"
  },
  "language_info": {
   "codemirror_mode": {
    "name": "ipython",
    "version": 3
   },
   "file_extension": ".py",
   "mimetype": "text/x-python",
   "name": "python",
   "nbconvert_exporter": "python",
   "pygments_lexer": "ipython3",
   "version": "3.8.3"
  }
 },
 "nbformat": 4,
 "nbformat_minor": 4
}
